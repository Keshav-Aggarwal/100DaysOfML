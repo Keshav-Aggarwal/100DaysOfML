{
  "nbformat": 4,
  "nbformat_minor": 0,
  "metadata": {
    "colab": {
      "name": "Tensorflow Classification Template.ipynb",
      "version": "0.3.2",
      "provenance": []
    },
    "kernelspec": {
      "name": "python3",
      "display_name": "Python 3"
    }
  },
  "cells": [
    {
      "metadata": {
        "id": "oFd0yka_0-Ul",
        "colab_type": "code",
        "colab": {}
      },
      "cell_type": "code",
      "source": [
        "import numpy as np\n",
        "import os\n",
        "import time\n",
        "import matplotlib.pyplot as plt\n",
        "import seaborn as sns\n",
        "from random import randint\n",
        "from PIL import Image\n",
        "import tensorflow as tf"
      ],
      "execution_count": 0,
      "outputs": []
    },
    {
      "metadata": {
        "id": "frMPmKbS4bZQ",
        "colab_type": "code",
        "outputId": "0989564b-bc6e-4ccd-95fe-2055ea116b2a",
        "colab": {
          "base_uri": "https://localhost:8080/",
          "height": 34
        }
      },
      "cell_type": "code",
      "source": [
        "!pip install tqdm\n",
        "from tqdm import tqdm\n",
        "tf.set_random_seed(10)\n",
        "np.random.seed(10)"
      ],
      "execution_count": 2,
      "outputs": [
        {
          "output_type": "stream",
          "text": [
            "Requirement already satisfied: tqdm in /usr/local/lib/python3.6/dist-packages (4.27.0)\n"
          ],
          "name": "stdout"
        }
      ]
    },
    {
      "metadata": {
        "id": "t_rUd1Q1xeOG",
        "colab_type": "code",
        "colab": {}
      },
      "cell_type": "code",
      "source": [
        "import pandas as pd\n",
        "from sklearn.model_selection import train_test_split\n",
        "from sklearn.preprocessing import StandardScaler\n",
        "\n",
        "df = pd.read_csv('https://github.com/harveenchadha/dump-nn-tf/raw/master/Section2/NN_Predict_Fraud/train.csv')\n",
        "df.head()\n",
        "df.dropna(inplace=True)\n",
        "x = df.iloc[:, :30]\n",
        "y = df.iloc[:, -1:]\n",
        "\n",
        "scl = StandardScaler()\n",
        "x = scl.fit_transform(x)"
      ],
      "execution_count": 0,
      "outputs": []
    },
    {
      "metadata": {
        "id": "lUeGUaMN0-Uw",
        "colab_type": "code",
        "colab": {}
      },
      "cell_type": "code",
      "source": [
        "def WeightsVariable(shape, name = 'weights'):\n",
        "    return tf.Variable(tf.truncated_normal(shape, mean = 0.0, stddev=0.001, name=name))\n",
        "\n",
        "def BiasVariable(shape, name = 'biases'):\n",
        "    return tf.Variable(tf.constant(1.0, shape=[shape], name='biases'))"
      ],
      "execution_count": 0,
      "outputs": []
    },
    {
      "metadata": {
        "id": "IC-wHEcH0-Uz",
        "colab_type": "code",
        "colab": {}
      },
      "cell_type": "code",
      "source": [
        "def network(images, channels = 1):\n",
        "    num_c = [128, 64, 64, 64, 32, 128]\n",
        "\n",
        "    with tf.name_scope('fc1'):\n",
        "        weights = WeightsVariable([30, num_c[0]])\n",
        "        biases = BiasVariable(num_c[0])\n",
        "        fc1 = tf.nn.relu(tf.matmul(images, weights) + biases)\n",
        "        \n",
        "    with tf.name_scope('fc2'):\n",
        "        weights = WeightsVariable([num_c[0], num_c[1]])\n",
        "        biases = BiasVariable(num_c[1])\n",
        "        fc1 = tf.nn.relu(tf.matmul(fc1, weights) + biases)\n",
        "        \n",
        "    with tf.name_scope('fc3'):\n",
        "        weights = WeightsVariable([num_c[1], num_c[2]])\n",
        "        biases = BiasVariable(num_c[2])\n",
        "        fc1 = tf.nn.relu(tf.matmul(fc1, weights) + biases)\n",
        "        \n",
        "    with tf.name_scope('fc5'):\n",
        "        weights = WeightsVariable([num_c[2], num_c[3]])\n",
        "        biases = BiasVariable(num_c[3])\n",
        "        fc1 = tf.nn.relu(tf.matmul(fc1, weights) + biases)\n",
        "        \n",
        "    with tf.name_scope('fc6'):\n",
        "        weights = WeightsVariable([num_c[3], num_c[4]])\n",
        "        biases = BiasVariable(num_c[4])\n",
        "        fc1 = tf.nn.relu(tf.matmul(fc1, weights) + biases)   \n",
        "\n",
        "    with tf.name_scope('fc4'):\n",
        "        weights = WeightsVariable([num_c[4], 1])\n",
        "        biases = BiasVariable(1)\n",
        "        fc2 = tf.matmul(fc1, weights) + biases\n",
        "    return fc2"
      ],
      "execution_count": 0,
      "outputs": []
    },
    {
      "metadata": {
        "id": "AEWbuvcQ0-U2",
        "colab_type": "code",
        "colab": {}
      },
      "cell_type": "code",
      "source": [
        "def loss_metrics(logits, labels):\n",
        "    logits = logits\n",
        "    cross_entropy = tf.nn.sigmoid_cross_entropy_with_logits(labels = labels, \n",
        "                                                                   logits = logits, \n",
        "                                                                   name = 'softmax')\n",
        "    return tf.reduce_mean(cross_entropy, name = 'softmax_mean')"
      ],
      "execution_count": 0,
      "outputs": []
    },
    {
      "metadata": {
        "id": "SJLUwfZX0-U6",
        "colab_type": "code",
        "colab": {}
      },
      "cell_type": "code",
      "source": [
        "#returns the optimizer by taking the loss\n",
        "def training(loss):\n",
        "    optimizer = tf.train.AdamOptimizer(learning_rate = STARTER_LR)\n",
        "    train_op = optimizer.minimize(loss)\n",
        "    return train_op\n",
        "    "
      ],
      "execution_count": 0,
      "outputs": []
    },
    {
      "metadata": {
        "id": "57j_wcyV0-U9",
        "colab_type": "code",
        "colab": {}
      },
      "cell_type": "code",
      "source": [
        "def evaluation(logits, labels):\n",
        "    correct = tf.nn.in_top_k(logits, labels, k = 1)\n",
        "    return tf.reduce_sum(tf.cast(correct, tf.int32))#, accuracy1, accuracy2\n",
        "  \n",
        "def acc(logits, labels):\n",
        "    correct_prediction = tf.equal(tf.cast(tf.greater_equal(logits,0.5), tf.float32) , labels)\n",
        "    accuracy = tf.reduce_mean(tf.cast(correct_prediction, tf.float32), name='accuracy')\n",
        "    return accuracy"
      ],
      "execution_count": 0,
      "outputs": []
    },
    {
      "metadata": {
        "id": "sgIUHWfj0-VG",
        "colab_type": "code",
        "colab": {}
      },
      "cell_type": "code",
      "source": [
        "def placeholder_inputs(batch_size, shape = [30]):\n",
        "    image_placeholder = tf.placeholder(tf.float32, shape = (None, shape[0]))\n",
        "    label_placeholder = tf.placeholder(tf.float32, shape = (None))\n",
        "    return image_placeholder, label_placeholder"
      ],
      "execution_count": 0,
      "outputs": []
    },
    {
      "metadata": {
        "id": "Za5Tlllw0-VN",
        "colab_type": "code",
        "colab": {}
      },
      "cell_type": "code",
      "source": [
        "\n",
        "loss_plot = []\n",
        "acc_plot = []\n",
        "train_plot = []\n",
        "def run_training(x, y):\n",
        "    x_train, x_test, y_train, y_test = train_test_split(x, y, test_size = 0.2)\n",
        "    with tf.Graph().as_default():\n",
        "\n",
        "        images_pl, labels_pl = placeholder_inputs(BATCH_SIZE)\n",
        "        logits = network(images_pl)\n",
        "        print(\"Logits Calculated Successfully\")\n",
        "        loss = loss_metrics(logits = logits, labels = labels_pl)\n",
        "        train_op = training(loss)\n",
        "#         eval_correct = evaluation(logits, labels_pl)\n",
        "        acc_val = acc(logits, labels_pl)\n",
        "        summary = tf.summary.merge_all()\n",
        "        \n",
        "        init = tf.global_variables_initializer()\n",
        "        \n",
        "        gpu_options = tf.GPUOptions(per_process_gpu_memory_fraction=0.9) #OPTIONAL\n",
        "        sess = tf.Session(config=tf.ConfigProto(gpu_options = gpu_options))\n",
        "        \n",
        "        saver = tf.train.Saver()\n",
        "        sess.run(init)\n",
        "        for steps in range(MAX_STEPS):\n",
        "            loss_avg = []\n",
        "            for i in tqdm(np.arange(0, len(x_train), BATCH_SIZE)):\n",
        "                images_feed = x_train[i*BATCH_SIZE:i*(BATCH_SIZE+1)]\n",
        "                labels_feed = y_train[i*BATCH_SIZE:i*(BATCH_SIZE+1)]\n",
        "\n",
        "                feed_dict = { images_pl: np.reshape(images_feed, (-1, 30)), labels_pl: labels_feed }\n",
        "\n",
        "                _ = sess.run([train_op], feed_dict = feed_dict)\n",
        "                \n",
        "\n",
        "            images_feed = x_test\n",
        "            labels_feed = y_test\n",
        "\n",
        "            feed_dict = {\n",
        "                images_pl: np.reshape(images_feed, (-1, 30)),\n",
        "                labels_pl: labels_feed\n",
        "                        }\n",
        "            loss_  = sess.run([loss], feed_dict = feed_dict)\n",
        "            accuracy_val  = sess.run([acc_val], feed_dict = feed_dict)\n",
        "            \n",
        "            images_feed = x_train\n",
        "            labels_feed = y_train\n",
        "\n",
        "            feed_dict = {\n",
        "                images_pl: np.reshape(images_feed, (-1, 30)),\n",
        "                labels_pl: labels_feed\n",
        "                        }\n",
        "            train_loss  = sess.run([loss], feed_dict = feed_dict)\n",
        "            \n",
        "            loss_plot.append(loss_)\n",
        "            train_plot.append(train_loss)\n",
        "            acc_plot.append(accuracy_val)\n",
        "            print('\\t Loss %d: Training loss = %.5f  Validation loss = %.5f\\t Validation Acc = %.5f' % (steps+1, train_loss[0], loss_[0], accuracy_val[0]))     \n",
        "          \n",
        "        return sess, images_pl, labels_pl, acc_val, logits"
      ],
      "execution_count": 0,
      "outputs": []
    },
    {
      "metadata": {
        "scrolled": false,
        "id": "PBg_gG-g0-VV",
        "colab_type": "code",
        "outputId": "2fccb870-a17d-4236-e9bc-5f80f5fcb159",
        "colab": {
          "base_uri": "https://localhost:8080/",
          "height": 3434
        }
      },
      "cell_type": "code",
      "source": [
        "STARTER_LR = 6e-5\n",
        "BATCH_SIZE = 4\n",
        "NUM_CLASSES = 10\n",
        "MAX_STEPS = 100\n",
        "\n",
        "loss_plot = []\n",
        "acc_plot = []\n",
        "train_plot = []\n",
        "sess, images_pl, labels_pl, eval_correct, logits = run_training(np.asarray(x, dtype = np.float32), np.asarray(y, dtype = np.int32))"
      ],
      "execution_count": 113,
      "outputs": [
        {
          "output_type": "stream",
          "text": [
            "Logits Calculated Successfully\n"
          ],
          "name": "stdout"
        },
        {
          "output_type": "stream",
          "text": [
            "100%|██████████| 180/180 [00:00<00:00, 760.37it/s]\n",
            "100%|██████████| 180/180 [00:00<00:00, 1146.72it/s]\n",
            "  0%|          | 0/180 [00:00<?, ?it/s]"
          ],
          "name": "stderr"
        },
        {
          "output_type": "stream",
          "text": [
            "\t Loss 1: Training loss = 0.77248  Validation loss = 0.85259\t Validation Acc = 0.42778\n",
            "\t Loss 2: Training loss = 0.70806  Validation loss = 0.74911\t Validation Acc = 0.57222\n"
          ],
          "name": "stdout"
        },
        {
          "output_type": "stream",
          "text": [
            "100%|██████████| 180/180 [00:00<00:00, 1167.42it/s]\n",
            "100%|██████████| 180/180 [00:00<00:00, 1175.61it/s]\n",
            "  0%|          | 0/180 [00:00<?, ?it/s]"
          ],
          "name": "stderr"
        },
        {
          "output_type": "stream",
          "text": [
            "\t Loss 3: Training loss = 0.69625  Validation loss = 0.73223\t Validation Acc = 0.57222\n",
            "\t Loss 4: Training loss = 0.67949  Validation loss = 0.70796\t Validation Acc = 0.57222\n"
          ],
          "name": "stdout"
        },
        {
          "output_type": "stream",
          "text": [
            "100%|██████████| 180/180 [00:00<00:00, 1193.08it/s]\n",
            "100%|██████████| 180/180 [00:00<00:00, 1308.11it/s]\n",
            "  0%|          | 0/180 [00:00<?, ?it/s]"
          ],
          "name": "stderr"
        },
        {
          "output_type": "stream",
          "text": [
            "\t Loss 5: Training loss = 0.66769  Validation loss = 0.69450\t Validation Acc = 0.66667\n",
            "\t Loss 6: Training loss = 0.65842  Validation loss = 0.68492\t Validation Acc = 0.68333\n"
          ],
          "name": "stdout"
        },
        {
          "output_type": "stream",
          "text": [
            "100%|██████████| 180/180 [00:00<00:00, 1247.97it/s]\n",
            "100%|██████████| 180/180 [00:00<00:00, 1178.22it/s]\n",
            "  0%|          | 0/180 [00:00<?, ?it/s]"
          ],
          "name": "stderr"
        },
        {
          "output_type": "stream",
          "text": [
            "\t Loss 7: Training loss = 0.64855  Validation loss = 0.67433\t Validation Acc = 0.70556\n",
            "\t Loss 8: Training loss = 0.63825  Validation loss = 0.66301\t Validation Acc = 0.71667\n"
          ],
          "name": "stdout"
        },
        {
          "output_type": "stream",
          "text": [
            "100%|██████████| 180/180 [00:00<00:00, 1092.85it/s]\n",
            "100%|██████████| 180/180 [00:00<00:00, 1296.37it/s]\n",
            "  0%|          | 0/180 [00:00<?, ?it/s]"
          ],
          "name": "stderr"
        },
        {
          "output_type": "stream",
          "text": [
            "\t Loss 9: Training loss = 0.62788  Validation loss = 0.65134\t Validation Acc = 0.72778\n",
            "\t Loss 10: Training loss = 0.61717  Validation loss = 0.63886\t Validation Acc = 0.73333\n"
          ],
          "name": "stdout"
        },
        {
          "output_type": "stream",
          "text": [
            "100%|██████████| 180/180 [00:00<00:00, 1265.74it/s]\n",
            "100%|██████████| 180/180 [00:00<00:00, 1307.52it/s]\n",
            "  0%|          | 0/180 [00:00<?, ?it/s]"
          ],
          "name": "stderr"
        },
        {
          "output_type": "stream",
          "text": [
            "\t Loss 11: Training loss = 0.60669  Validation loss = 0.62639\t Validation Acc = 0.76111\n",
            "\t Loss 12: Training loss = 0.59590  Validation loss = 0.61331\t Validation Acc = 0.78333\n"
          ],
          "name": "stdout"
        },
        {
          "output_type": "stream",
          "text": [
            "100%|██████████| 180/180 [00:00<00:00, 1236.16it/s]\n",
            "100%|██████████| 180/180 [00:00<00:00, 1298.78it/s]\n",
            "  0%|          | 0/180 [00:00<?, ?it/s]"
          ],
          "name": "stderr"
        },
        {
          "output_type": "stream",
          "text": [
            "\t Loss 13: Training loss = 0.58495  Validation loss = 0.59984\t Validation Acc = 0.78889\n",
            "\t Loss 14: Training loss = 0.57414  Validation loss = 0.58652\t Validation Acc = 0.78889\n"
          ],
          "name": "stdout"
        },
        {
          "output_type": "stream",
          "text": [
            "100%|██████████| 180/180 [00:00<00:00, 1216.81it/s]\n",
            "100%|██████████| 180/180 [00:00<00:00, 1310.51it/s]\n",
            "  0%|          | 0/180 [00:00<?, ?it/s]"
          ],
          "name": "stderr"
        },
        {
          "output_type": "stream",
          "text": [
            "\t Loss 15: Training loss = 0.56371  Validation loss = 0.57364\t Validation Acc = 0.79444\n",
            "\t Loss 16: Training loss = 0.55399  Validation loss = 0.56174\t Validation Acc = 0.79444\n"
          ],
          "name": "stdout"
        },
        {
          "output_type": "stream",
          "text": [
            "100%|██████████| 180/180 [00:00<00:00, 1254.05it/s]\n",
            "100%|██████████| 180/180 [00:00<00:00, 1303.48it/s]\n",
            "  0%|          | 0/180 [00:00<?, ?it/s]"
          ],
          "name": "stderr"
        },
        {
          "output_type": "stream",
          "text": [
            "\t Loss 17: Training loss = 0.54430  Validation loss = 0.54975\t Validation Acc = 0.80000\n",
            "\t Loss 18: Training loss = 0.53527  Validation loss = 0.53875\t Validation Acc = 0.80556\n"
          ],
          "name": "stdout"
        },
        {
          "output_type": "stream",
          "text": [
            "100%|██████████| 180/180 [00:00<00:00, 1190.01it/s]\n",
            "100%|██████████| 180/180 [00:00<00:00, 1295.24it/s]\n",
            "  0%|          | 0/180 [00:00<?, ?it/s]"
          ],
          "name": "stderr"
        },
        {
          "output_type": "stream",
          "text": [
            "\t Loss 19: Training loss = 0.52636  Validation loss = 0.52788\t Validation Acc = 0.80556\n",
            "\t Loss 20: Training loss = 0.51792  Validation loss = 0.51761\t Validation Acc = 0.80556\n"
          ],
          "name": "stdout"
        },
        {
          "output_type": "stream",
          "text": [
            "100%|██████████| 180/180 [00:00<00:00, 1248.56it/s]\n",
            "100%|██████████| 180/180 [00:00<00:00, 1270.54it/s]\n",
            "  0%|          | 0/180 [00:00<?, ?it/s]"
          ],
          "name": "stderr"
        },
        {
          "output_type": "stream",
          "text": [
            "\t Loss 21: Training loss = 0.50945  Validation loss = 0.50719\t Validation Acc = 0.81667\n",
            "\t Loss 22: Training loss = 0.50394  Validation loss = 0.50123\t Validation Acc = 0.82778\n"
          ],
          "name": "stdout"
        },
        {
          "output_type": "stream",
          "text": [
            "100%|██████████| 180/180 [00:00<00:00, 1263.36it/s]\n",
            "100%|██████████| 180/180 [00:00<00:00, 1308.35it/s]\n",
            "  0%|          | 0/180 [00:00<?, ?it/s]"
          ],
          "name": "stderr"
        },
        {
          "output_type": "stream",
          "text": [
            "\t Loss 23: Training loss = 0.49452  Validation loss = 0.48926\t Validation Acc = 0.82778\n",
            "\t Loss 24: Training loss = 0.48493  Validation loss = 0.47711\t Validation Acc = 0.82778\n"
          ],
          "name": "stdout"
        },
        {
          "output_type": "stream",
          "text": [
            "100%|██████████| 180/180 [00:00<00:00, 1262.68it/s]\n",
            "100%|██████████| 180/180 [00:00<00:00, 1294.77it/s]\n",
            "  0%|          | 0/180 [00:00<?, ?it/s]"
          ],
          "name": "stderr"
        },
        {
          "output_type": "stream",
          "text": [
            "\t Loss 25: Training loss = 0.47622  Validation loss = 0.46624\t Validation Acc = 0.82778\n",
            "\t Loss 26: Training loss = 0.46733  Validation loss = 0.45525\t Validation Acc = 0.82778\n"
          ],
          "name": "stdout"
        },
        {
          "output_type": "stream",
          "text": [
            "100%|██████████| 180/180 [00:00<00:00, 1212.01it/s]\n",
            "100%|██████████| 180/180 [00:00<00:00, 1258.57it/s]\n",
            "  0%|          | 0/180 [00:00<?, ?it/s]"
          ],
          "name": "stderr"
        },
        {
          "output_type": "stream",
          "text": [
            "\t Loss 27: Training loss = 0.46028  Validation loss = 0.44726\t Validation Acc = 0.84444\n",
            "\t Loss 28: Training loss = 0.45238  Validation loss = 0.43799\t Validation Acc = 0.84444\n"
          ],
          "name": "stdout"
        },
        {
          "output_type": "stream",
          "text": [
            "100%|██████████| 180/180 [00:00<00:00, 1235.23it/s]\n",
            "100%|██████████| 180/180 [00:00<00:00, 1280.30it/s]\n",
            "  0%|          | 0/180 [00:00<?, ?it/s]"
          ],
          "name": "stderr"
        },
        {
          "output_type": "stream",
          "text": [
            "\t Loss 29: Training loss = 0.44311  Validation loss = 0.42636\t Validation Acc = 0.84444\n",
            "\t Loss 30: Training loss = 0.44058  Validation loss = 0.42577\t Validation Acc = 0.85000\n"
          ],
          "name": "stdout"
        },
        {
          "output_type": "stream",
          "text": [
            "100%|██████████| 180/180 [00:00<00:00, 1267.82it/s]\n",
            "100%|██████████| 180/180 [00:00<00:00, 1269.73it/s]\n",
            "  0%|          | 0/180 [00:00<?, ?it/s]"
          ],
          "name": "stderr"
        },
        {
          "output_type": "stream",
          "text": [
            "\t Loss 31: Training loss = 0.43349  Validation loss = 0.41775\t Validation Acc = 0.86111\n",
            "\t Loss 32: Training loss = 0.41646  Validation loss = 0.39322\t Validation Acc = 0.85000\n"
          ],
          "name": "stdout"
        },
        {
          "output_type": "stream",
          "text": [
            "100%|██████████| 180/180 [00:00<00:00, 1273.95it/s]\n",
            "100%|██████████| 180/180 [00:00<00:00, 1289.01it/s]\n",
            "  0%|          | 0/180 [00:00<?, ?it/s]"
          ],
          "name": "stderr"
        },
        {
          "output_type": "stream",
          "text": [
            "\t Loss 33: Training loss = 0.40908  Validation loss = 0.38491\t Validation Acc = 0.85556\n",
            "\t Loss 34: Training loss = 0.39272  Validation loss = 0.35880\t Validation Acc = 0.85000\n"
          ],
          "name": "stdout"
        },
        {
          "output_type": "stream",
          "text": [
            "100%|██████████| 180/180 [00:00<00:00, 1259.33it/s]\n",
            "100%|██████████| 180/180 [00:00<00:00, 1276.66it/s]\n",
            "  0%|          | 0/180 [00:00<?, ?it/s]"
          ],
          "name": "stderr"
        },
        {
          "output_type": "stream",
          "text": [
            "\t Loss 35: Training loss = 0.38448  Validation loss = 0.33231\t Validation Acc = 0.83333\n",
            "\t Loss 36: Training loss = 0.38593  Validation loss = 0.32714\t Validation Acc = 0.82778\n"
          ],
          "name": "stdout"
        },
        {
          "output_type": "stream",
          "text": [
            "100%|██████████| 180/180 [00:00<00:00, 1196.43it/s]\n",
            "100%|██████████| 180/180 [00:00<00:00, 1289.55it/s]\n",
            "  0%|          | 0/180 [00:00<?, ?it/s]"
          ],
          "name": "stderr"
        },
        {
          "output_type": "stream",
          "text": [
            "\t Loss 37: Training loss = 0.38367  Validation loss = 0.31988\t Validation Acc = 0.82778\n",
            "\t Loss 38: Training loss = 0.37791  Validation loss = 0.31308\t Validation Acc = 0.83889\n"
          ],
          "name": "stdout"
        },
        {
          "output_type": "stream",
          "text": [
            "100%|██████████| 180/180 [00:00<00:00, 1231.78it/s]\n",
            "100%|██████████| 180/180 [00:00<00:00, 1298.16it/s]\n",
            "  0%|          | 0/180 [00:00<?, ?it/s]"
          ],
          "name": "stderr"
        },
        {
          "output_type": "stream",
          "text": [
            "\t Loss 39: Training loss = 0.37649  Validation loss = 0.30882\t Validation Acc = 0.83889\n",
            "\t Loss 40: Training loss = 0.37255  Validation loss = 0.30444\t Validation Acc = 0.84444\n"
          ],
          "name": "stdout"
        },
        {
          "output_type": "stream",
          "text": [
            "100%|██████████| 180/180 [00:00<00:00, 1224.41it/s]\n",
            "100%|██████████| 180/180 [00:00<00:00, 1307.25it/s]\n",
            "  0%|          | 0/180 [00:00<?, ?it/s]"
          ],
          "name": "stderr"
        },
        {
          "output_type": "stream",
          "text": [
            "\t Loss 41: Training loss = 0.36839  Validation loss = 0.29979\t Validation Acc = 0.84444\n",
            "\t Loss 42: Training loss = 0.36682  Validation loss = 0.29531\t Validation Acc = 0.85556\n"
          ],
          "name": "stdout"
        },
        {
          "output_type": "stream",
          "text": [
            "100%|██████████| 180/180 [00:00<00:00, 1217.46it/s]\n",
            "100%|██████████| 180/180 [00:00<00:00, 1270.26it/s]\n",
            "  0%|          | 0/180 [00:00<?, ?it/s]"
          ],
          "name": "stderr"
        },
        {
          "output_type": "stream",
          "text": [
            "\t Loss 43: Training loss = 0.36003  Validation loss = 0.28869\t Validation Acc = 0.85556\n",
            "\t Loss 44: Training loss = 0.35810  Validation loss = 0.28677\t Validation Acc = 0.85556\n"
          ],
          "name": "stdout"
        },
        {
          "output_type": "stream",
          "text": [
            "100%|██████████| 180/180 [00:00<00:00, 1259.85it/s]\n",
            "100%|██████████| 180/180 [00:00<00:00, 1291.18it/s]\n",
            "  0%|          | 0/180 [00:00<?, ?it/s]"
          ],
          "name": "stderr"
        },
        {
          "output_type": "stream",
          "text": [
            "\t Loss 45: Training loss = 0.35161  Validation loss = 0.27989\t Validation Acc = 0.87222\n",
            "\t Loss 46: Training loss = 0.35307  Validation loss = 0.27917\t Validation Acc = 0.87222\n"
          ],
          "name": "stdout"
        },
        {
          "output_type": "stream",
          "text": [
            "100%|██████████| 180/180 [00:00<00:00, 1240.25it/s]\n",
            "100%|██████████| 180/180 [00:00<00:00, 1261.04it/s]\n",
            "  0%|          | 0/180 [00:00<?, ?it/s]"
          ],
          "name": "stderr"
        },
        {
          "output_type": "stream",
          "text": [
            "\t Loss 47: Training loss = 0.34631  Validation loss = 0.27274\t Validation Acc = 0.88333\n",
            "\t Loss 48: Training loss = 0.34089  Validation loss = 0.26772\t Validation Acc = 0.88889\n"
          ],
          "name": "stdout"
        },
        {
          "output_type": "stream",
          "text": [
            "100%|██████████| 180/180 [00:00<00:00, 1242.36it/s]\n",
            "100%|██████████| 180/180 [00:00<00:00, 1304.38it/s]\n",
            "  0%|          | 0/180 [00:00<?, ?it/s]"
          ],
          "name": "stderr"
        },
        {
          "output_type": "stream",
          "text": [
            "\t Loss 49: Training loss = 0.34000  Validation loss = 0.26482\t Validation Acc = 0.88889\n",
            "\t Loss 50: Training loss = 0.33099  Validation loss = 0.25820\t Validation Acc = 0.88889\n"
          ],
          "name": "stdout"
        },
        {
          "output_type": "stream",
          "text": [
            "100%|██████████| 180/180 [00:00<00:00, 1266.94it/s]\n",
            "100%|██████████| 180/180 [00:00<00:00, 1274.84it/s]\n",
            "  0%|          | 0/180 [00:00<?, ?it/s]"
          ],
          "name": "stderr"
        },
        {
          "output_type": "stream",
          "text": [
            "\t Loss 51: Training loss = 0.33512  Validation loss = 0.25888\t Validation Acc = 0.88889\n",
            "\t Loss 52: Training loss = 0.31465  Validation loss = 0.24610\t Validation Acc = 0.90000\n"
          ],
          "name": "stdout"
        },
        {
          "output_type": "stream",
          "text": [
            "100%|██████████| 180/180 [00:00<00:00, 1227.65it/s]\n",
            "100%|██████████| 180/180 [00:00<00:00, 1275.26it/s]\n",
            "  0%|          | 0/180 [00:00<?, ?it/s]"
          ],
          "name": "stderr"
        },
        {
          "output_type": "stream",
          "text": [
            "\t Loss 53: Training loss = 0.32416  Validation loss = 0.25012\t Validation Acc = 0.88889\n",
            "\t Loss 54: Training loss = 0.31238  Validation loss = 0.24067\t Validation Acc = 0.90000\n"
          ],
          "name": "stdout"
        },
        {
          "output_type": "stream",
          "text": [
            "100%|██████████| 180/180 [00:00<00:00, 1235.45it/s]\n",
            "100%|██████████| 180/180 [00:00<00:00, 1242.80it/s]\n",
            "  0%|          | 0/180 [00:00<?, ?it/s]"
          ],
          "name": "stderr"
        },
        {
          "output_type": "stream",
          "text": [
            "\t Loss 55: Training loss = 0.31605  Validation loss = 0.24216\t Validation Acc = 0.90000\n",
            "\t Loss 56: Training loss = 0.30723  Validation loss = 0.23482\t Validation Acc = 0.90000\n"
          ],
          "name": "stdout"
        },
        {
          "output_type": "stream",
          "text": [
            "100%|██████████| 180/180 [00:00<00:00, 1246.36it/s]\n",
            "100%|██████████| 180/180 [00:00<00:00, 1274.30it/s]\n",
            "  0%|          | 0/180 [00:00<?, ?it/s]"
          ],
          "name": "stderr"
        },
        {
          "output_type": "stream",
          "text": [
            "\t Loss 57: Training loss = 0.30796  Validation loss = 0.23440\t Validation Acc = 0.90000\n",
            "\t Loss 58: Training loss = 0.30128  Validation loss = 0.22901\t Validation Acc = 0.90556\n"
          ],
          "name": "stdout"
        },
        {
          "output_type": "stream",
          "text": [
            "100%|██████████| 180/180 [00:00<00:00, 1253.74it/s]\n",
            "100%|██████████| 180/180 [00:00<00:00, 1235.15it/s]\n",
            "  0%|          | 0/180 [00:00<?, ?it/s]"
          ],
          "name": "stderr"
        },
        {
          "output_type": "stream",
          "text": [
            "\t Loss 59: Training loss = 0.29962  Validation loss = 0.22696\t Validation Acc = 0.91111\n",
            "\t Loss 60: Training loss = 0.29450  Validation loss = 0.22242\t Validation Acc = 0.91667\n"
          ],
          "name": "stdout"
        },
        {
          "output_type": "stream",
          "text": [
            "100%|██████████| 180/180 [00:00<00:00, 1230.01it/s]\n",
            "100%|██████████| 180/180 [00:00<00:00, 1296.17it/s]\n",
            "  0%|          | 0/180 [00:00<?, ?it/s]"
          ],
          "name": "stderr"
        },
        {
          "output_type": "stream",
          "text": [
            "\t Loss 61: Training loss = 0.29152  Validation loss = 0.21927\t Validation Acc = 0.91667\n",
            "\t Loss 62: Training loss = 0.28538  Validation loss = 0.21426\t Validation Acc = 0.92222\n"
          ],
          "name": "stdout"
        },
        {
          "output_type": "stream",
          "text": [
            "100%|██████████| 180/180 [00:00<00:00, 1234.18it/s]\n",
            "100%|██████████| 180/180 [00:00<00:00, 1269.17it/s]\n",
            "  0%|          | 0/180 [00:00<?, ?it/s]"
          ],
          "name": "stderr"
        },
        {
          "output_type": "stream",
          "text": [
            "\t Loss 63: Training loss = 0.28598  Validation loss = 0.21337\t Validation Acc = 0.92222\n",
            "\t Loss 64: Training loss = 0.27926  Validation loss = 0.20771\t Validation Acc = 0.92778\n"
          ],
          "name": "stdout"
        },
        {
          "output_type": "stream",
          "text": [
            "100%|██████████| 180/180 [00:00<00:00, 1252.41it/s]\n",
            "100%|██████████| 180/180 [00:00<00:00, 1258.59it/s]\n",
            "  0%|          | 0/180 [00:00<?, ?it/s]"
          ],
          "name": "stderr"
        },
        {
          "output_type": "stream",
          "text": [
            "\t Loss 65: Training loss = 0.27696  Validation loss = 0.20521\t Validation Acc = 0.92778\n",
            "\t Loss 66: Training loss = 0.27057  Validation loss = 0.20005\t Validation Acc = 0.92778\n"
          ],
          "name": "stdout"
        },
        {
          "output_type": "stream",
          "text": [
            "100%|██████████| 180/180 [00:00<00:00, 1211.96it/s]\n",
            "100%|██████████| 180/180 [00:00<00:00, 1288.99it/s]\n",
            "  0%|          | 0/180 [00:00<?, ?it/s]"
          ],
          "name": "stderr"
        },
        {
          "output_type": "stream",
          "text": [
            "\t Loss 67: Training loss = 0.27302  Validation loss = 0.20064\t Validation Acc = 0.92778\n",
            "\t Loss 68: Training loss = 0.26733  Validation loss = 0.19545\t Validation Acc = 0.92778\n"
          ],
          "name": "stdout"
        },
        {
          "output_type": "stream",
          "text": [
            "100%|██████████| 180/180 [00:00<00:00, 1234.09it/s]\n",
            "100%|██████████| 180/180 [00:00<00:00, 1276.93it/s]\n",
            "  0%|          | 0/180 [00:00<?, ?it/s]"
          ],
          "name": "stderr"
        },
        {
          "output_type": "stream",
          "text": [
            "\t Loss 69: Training loss = 0.26308  Validation loss = 0.19158\t Validation Acc = 0.92778\n",
            "\t Loss 70: Training loss = 0.26069  Validation loss = 0.18916\t Validation Acc = 0.92778\n"
          ],
          "name": "stdout"
        },
        {
          "output_type": "stream",
          "text": [
            "100%|██████████| 180/180 [00:00<00:00, 1243.16it/s]\n",
            "100%|██████████| 180/180 [00:00<00:00, 1286.85it/s]\n",
            "  0%|          | 0/180 [00:00<?, ?it/s]"
          ],
          "name": "stderr"
        },
        {
          "output_type": "stream",
          "text": [
            "\t Loss 71: Training loss = 0.25726  Validation loss = 0.18603\t Validation Acc = 0.92778\n",
            "\t Loss 72: Training loss = 0.25444  Validation loss = 0.18338\t Validation Acc = 0.92778\n"
          ],
          "name": "stdout"
        },
        {
          "output_type": "stream",
          "text": [
            "100%|██████████| 180/180 [00:00<00:00, 1220.69it/s]\n",
            "100%|██████████| 180/180 [00:00<00:00, 1287.15it/s]\n",
            "  0%|          | 0/180 [00:00<?, ?it/s]"
          ],
          "name": "stderr"
        },
        {
          "output_type": "stream",
          "text": [
            "\t Loss 73: Training loss = 0.25008  Validation loss = 0.17955\t Validation Acc = 0.92778\n",
            "\t Loss 74: Training loss = 0.24752  Validation loss = 0.17715\t Validation Acc = 0.93333\n"
          ],
          "name": "stdout"
        },
        {
          "output_type": "stream",
          "text": [
            "100%|██████████| 180/180 [00:00<00:00, 1258.97it/s]\n",
            "100%|██████████| 180/180 [00:00<00:00, 1317.15it/s]\n",
            "  0%|          | 0/180 [00:00<?, ?it/s]"
          ],
          "name": "stderr"
        },
        {
          "output_type": "stream",
          "text": [
            "\t Loss 75: Training loss = 0.24405  Validation loss = 0.17392\t Validation Acc = 0.93333\n",
            "\t Loss 76: Training loss = 0.24340  Validation loss = 0.17299\t Validation Acc = 0.93333\n"
          ],
          "name": "stdout"
        },
        {
          "output_type": "stream",
          "text": [
            "100%|██████████| 180/180 [00:00<00:00, 1260.33it/s]\n",
            "100%|██████████| 180/180 [00:00<00:00, 1255.14it/s]\n",
            "  0%|          | 0/180 [00:00<?, ?it/s]"
          ],
          "name": "stderr"
        },
        {
          "output_type": "stream",
          "text": [
            "\t Loss 77: Training loss = 0.23918  Validation loss = 0.16909\t Validation Acc = 0.93333\n",
            "\t Loss 78: Training loss = 0.23791  Validation loss = 0.16770\t Validation Acc = 0.93333\n"
          ],
          "name": "stdout"
        },
        {
          "output_type": "stream",
          "text": [
            "100%|██████████| 180/180 [00:00<00:00, 1275.23it/s]\n",
            "100%|██████████| 180/180 [00:00<00:00, 1278.03it/s]\n",
            "  0%|          | 0/180 [00:00<?, ?it/s]"
          ],
          "name": "stderr"
        },
        {
          "output_type": "stream",
          "text": [
            "\t Loss 79: Training loss = 0.23432  Validation loss = 0.16427\t Validation Acc = 0.93333\n",
            "\t Loss 80: Training loss = 0.23407  Validation loss = 0.16381\t Validation Acc = 0.93333\n"
          ],
          "name": "stdout"
        },
        {
          "output_type": "stream",
          "text": [
            "100%|██████████| 180/180 [00:00<00:00, 1281.59it/s]\n",
            "100%|██████████| 180/180 [00:00<00:00, 1279.43it/s]\n",
            "  0%|          | 0/180 [00:00<?, ?it/s]"
          ],
          "name": "stderr"
        },
        {
          "output_type": "stream",
          "text": [
            "\t Loss 81: Training loss = 0.22840  Validation loss = 0.15876\t Validation Acc = 0.93333\n",
            "\t Loss 82: Training loss = 0.23179  Validation loss = 0.16118\t Validation Acc = 0.93333\n"
          ],
          "name": "stdout"
        },
        {
          "output_type": "stream",
          "text": [
            "100%|██████████| 180/180 [00:00<00:00, 1279.18it/s]\n",
            "100%|██████████| 180/180 [00:00<00:00, 1294.49it/s]\n",
            "  0%|          | 0/180 [00:00<?, ?it/s]"
          ],
          "name": "stderr"
        },
        {
          "output_type": "stream",
          "text": [
            "\t Loss 83: Training loss = 0.22490  Validation loss = 0.15505\t Validation Acc = 0.93333\n",
            "\t Loss 84: Training loss = 0.22625  Validation loss = 0.15587\t Validation Acc = 0.93889\n"
          ],
          "name": "stdout"
        },
        {
          "output_type": "stream",
          "text": [
            "100%|██████████| 180/180 [00:00<00:00, 1189.34it/s]\n",
            "100%|██████████| 180/180 [00:00<00:00, 1294.97it/s]\n",
            "  0%|          | 0/180 [00:00<?, ?it/s]"
          ],
          "name": "stderr"
        },
        {
          "output_type": "stream",
          "text": [
            "\t Loss 85: Training loss = 0.22155  Validation loss = 0.15168\t Validation Acc = 0.93889\n",
            "\t Loss 86: Training loss = 0.22324  Validation loss = 0.15259\t Validation Acc = 0.93889\n"
          ],
          "name": "stdout"
        },
        {
          "output_type": "stream",
          "text": [
            "100%|██████████| 180/180 [00:00<00:00, 1265.59it/s]\n",
            "100%|██████████| 180/180 [00:00<00:00, 1333.12it/s]\n",
            "  0%|          | 0/180 [00:00<?, ?it/s]"
          ],
          "name": "stderr"
        },
        {
          "output_type": "stream",
          "text": [
            "\t Loss 87: Training loss = 0.21406  Validation loss = 0.14504\t Validation Acc = 0.93889\n",
            "\t Loss 88: Training loss = 0.22171  Validation loss = 0.15083\t Validation Acc = 0.93889\n"
          ],
          "name": "stdout"
        },
        {
          "output_type": "stream",
          "text": [
            "100%|██████████| 180/180 [00:00<00:00, 1242.96it/s]\n",
            "100%|██████████| 180/180 [00:00<00:00, 1311.57it/s]\n",
            "  0%|          | 0/180 [00:00<?, ?it/s]"
          ],
          "name": "stderr"
        },
        {
          "output_type": "stream",
          "text": [
            "\t Loss 89: Training loss = 0.21157  Validation loss = 0.14287\t Validation Acc = 0.93889\n",
            "\t Loss 90: Training loss = 0.21242  Validation loss = 0.14306\t Validation Acc = 0.93889\n"
          ],
          "name": "stdout"
        },
        {
          "output_type": "stream",
          "text": [
            "100%|██████████| 180/180 [00:00<00:00, 1227.71it/s]\n",
            "100%|██████████| 180/180 [00:00<00:00, 1299.95it/s]\n",
            "  0%|          | 0/180 [00:00<?, ?it/s]"
          ],
          "name": "stderr"
        },
        {
          "output_type": "stream",
          "text": [
            "\t Loss 91: Training loss = 0.20495  Validation loss = 0.13743\t Validation Acc = 0.94444\n",
            "\t Loss 92: Training loss = 0.21151  Validation loss = 0.14181\t Validation Acc = 0.93889\n"
          ],
          "name": "stdout"
        },
        {
          "output_type": "stream",
          "text": [
            "100%|██████████| 180/180 [00:00<00:00, 1238.31it/s]\n",
            "100%|██████████| 180/180 [00:00<00:00, 1266.63it/s]\n",
            "  0%|          | 0/180 [00:00<?, ?it/s]"
          ],
          "name": "stderr"
        },
        {
          "output_type": "stream",
          "text": [
            "\t Loss 93: Training loss = 0.20080  Validation loss = 0.13381\t Validation Acc = 0.94444\n",
            "\t Loss 94: Training loss = 0.20427  Validation loss = 0.13618\t Validation Acc = 0.94444\n"
          ],
          "name": "stdout"
        },
        {
          "output_type": "stream",
          "text": [
            "100%|██████████| 180/180 [00:00<00:00, 1236.18it/s]\n",
            "100%|██████████| 180/180 [00:00<00:00, 1270.32it/s]\n",
            "  0%|          | 0/180 [00:00<?, ?it/s]"
          ],
          "name": "stderr"
        },
        {
          "output_type": "stream",
          "text": [
            "\t Loss 95: Training loss = 0.19543  Validation loss = 0.13002\t Validation Acc = 0.94444\n",
            "\t Loss 96: Training loss = 0.20032  Validation loss = 0.13258\t Validation Acc = 0.94444\n"
          ],
          "name": "stdout"
        },
        {
          "output_type": "stream",
          "text": [
            "100%|██████████| 180/180 [00:00<00:00, 1279.88it/s]\n",
            "100%|██████████| 180/180 [00:00<00:00, 1272.91it/s]\n",
            "  0%|          | 0/180 [00:00<?, ?it/s]"
          ],
          "name": "stderr"
        },
        {
          "output_type": "stream",
          "text": [
            "\t Loss 97: Training loss = 0.19725  Validation loss = 0.13017\t Validation Acc = 0.94444\n",
            "\t Loss 98: Training loss = 0.19074  Validation loss = 0.12558\t Validation Acc = 0.95000\n"
          ],
          "name": "stdout"
        },
        {
          "output_type": "stream",
          "text": [
            "100%|██████████| 180/180 [00:00<00:00, 1244.38it/s]\n",
            "100%|██████████| 180/180 [00:00<00:00, 1262.11it/s]\n"
          ],
          "name": "stderr"
        },
        {
          "output_type": "stream",
          "text": [
            "\t Loss 99: Training loss = 0.19859  Validation loss = 0.13037\t Validation Acc = 0.95000\n",
            "\t Loss 100: Training loss = 0.18967  Validation loss = 0.12415\t Validation Acc = 0.95000\n"
          ],
          "name": "stdout"
        }
      ]
    },
    {
      "metadata": {
        "id": "qbl9eEQrZauX",
        "colab_type": "code",
        "outputId": "d8178fbd-2e04-4aa4-bc7f-955851bafb96",
        "colab": {
          "base_uri": "https://localhost:8080/",
          "height": 364
        }
      },
      "cell_type": "code",
      "source": [
        "sns.set_style(\"darkgrid\")\n",
        "plt.plot(acc_plot,'g-',label=\"Validation Acc\")\n",
        "plt.plot(loss_plot, 'b-', label=\"Validation Loss\")\n",
        "plt.plot(train_plot, \"r-\", label='Training Loss')\n",
        "plt.legend(loc='best')"
      ],
      "execution_count": 136,
      "outputs": [
        {
          "output_type": "execute_result",
          "data": {
            "text/plain": [
              "<matplotlib.legend.Legend at 0x7feb05b08390>"
            ]
          },
          "metadata": {
            "tags": []
          },
          "execution_count": 136
        },
        {
          "output_type": "display_data",
          "data": {
            "image/png": "[encoded data removed]",
            "text/plain": [
              "<matplotlib.figure.Figure at 0x7feb04252668>"
            ]
          },
          "metadata": {
            "tags": []
          }
        }
      ]
    },
    {
      "metadata": {
        "id": "bPsgRXIYABWN",
        "colab_type": "code",
        "outputId": "790e0499-9275-4533-fad4-cf1f175fc775",
        "colab": {
          "base_uri": "https://localhost:8080/",
          "height": 34
        }
      },
      "cell_type": "code",
      "source": [
        "images_feed, labels_feed = MNIST_DATASETS.validation.images, MNIST_DATASETS.validation.labels\n",
        "\n",
        "feed_dict = {\n",
        "    images_pl: np.reshape(images_feed, (-1, 28, 28, 1))\n",
        "            }\n",
        "with sess.as_default():\n",
        "  accuracy  = sess.run([logits], feed_dict = feed_dict)\n",
        "  \n",
        "  preds = np.argmax(accuracy[0], 1)\n",
        "  print(preds)"
      ],
      "execution_count": 0,
      "outputs": [
        {
          "output_type": "stream",
          "text": [
            "[5 0 4 ... 2 1 2]\n"
          ],
          "name": "stdout"
        }
      ]
    },
    {
      "metadata": {
        "id": "Zl6bKEbGa2Ay",
        "colab_type": "code",
        "outputId": "07a13f1a-b101-4dc7-b37c-0eb043e34b93",
        "colab": {
          "base_uri": "https://localhost:8080/",
          "height": 272
        }
      },
      "cell_type": "code",
      "source": [
        "from sklearn.metrics import classification_report\n",
        "print(classification_report(labels_feed, preds))"
      ],
      "execution_count": 0,
      "outputs": [
        {
          "output_type": "stream",
          "text": [
            "             precision    recall  f1-score   support\n",
            "\n",
            "          0       0.99      0.99      0.99       479\n",
            "          1       0.97      0.98      0.97       563\n",
            "          2       0.98      0.93      0.96       488\n",
            "          3       0.98      0.96      0.97       493\n",
            "          4       0.98      0.98      0.98       535\n",
            "          5       0.96      0.98      0.97       434\n",
            "          6       0.98      0.98      0.98       501\n",
            "          7       0.96      0.97      0.97       550\n",
            "          8       0.96      0.97      0.97       462\n",
            "          9       0.96      0.96      0.96       495\n",
            "\n",
            "avg / total       0.97      0.97      0.97      5000\n",
            "\n"
          ],
          "name": "stdout"
        }
      ]
    },
    {
      "metadata": {
        "id": "c5xuDiGTi2Pv",
        "colab_type": "code",
        "outputId": "dd8f7495-7389-4fda-ece7-3f762849dc41",
        "colab": {
          "base_uri": "https://localhost:8080/",
          "height": 187
        }
      },
      "cell_type": "code",
      "source": [
        "from sklearn.metrics import confusion_matrix\n",
        "print(confusion_matrix(labels_feed, preds))"
      ],
      "execution_count": 0,
      "outputs": [
        {
          "output_type": "stream",
          "text": [
            "[[473   0   0   0   0   2   2   0   0   2]\n",
            " [  0 553   2   2   1   0   1   2   2   0]\n",
            " [  1  10 454   5   1   1   0   7   8   1]\n",
            " [  0   1   2 475   0   7   0   5   2   1]\n",
            " [  0   1   0   0 526   0   4   1   0   3]\n",
            " [  0   1   1   0   1 427   0   0   3   1]\n",
            " [  3   2   0   0   1   1 493   0   1   0]\n",
            " [  0   2   2   1   3   0   0 536   0   6]\n",
            " [  0   2   0   1   0   3   1   2 449   4]\n",
            " [  2   1   0   2   5   2   0   7   2 474]]\n"
          ],
          "name": "stdout"
        }
      ]
    },
    {
      "metadata": {
        "id": "6DmDZXWY0-VZ",
        "colab_type": "code",
        "colab": {}
      },
      "cell_type": "code",
      "source": [
        "# graph = tf.GraphDef()\n",
        "# graph.ParseFromString(tf_model.SerializeToString())\n",
        "\n",
        "# with tf.Graph().as_default() as graph:\n",
        "#         # The name var will prefix every op/nodes in your graph\n",
        "#         # Since we load everything in a new graph, this is not needed\n",
        "#     tf.import_graph_def(graph, name=\"prefix\")\n",
        "    \n",
        "    "
      ],
      "execution_count": 0,
      "outputs": []
    }
  ]
}