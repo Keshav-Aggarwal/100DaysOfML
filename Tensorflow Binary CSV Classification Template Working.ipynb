{
  "nbformat": 4,
  "nbformat_minor": 0,
  "metadata": {
    "colab": {
      "name": "Tensorflow Classification Template.ipynb",
      "version": "0.3.2",
      "provenance": []
    },
    "kernelspec": {
      "name": "python3",
      "display_name": "Python 3"
    }
  },
  "cells": [
    {
      "metadata": {
        "id": "oFd0yka_0-Ul",
        "colab_type": "code",
        "colab": {
          "base_uri": "https://localhost:8080/",
          "height": 34
        },
        "outputId": "4899001f-9911-4107-c9bb-e3401698b6cf"
      },
      "cell_type": "code",
      "source": [
        "!pip install tqdm\n",
        "\n",
        "from tqdm import tqdm\n",
        "import numpy as np\n",
        "import os\n",
        "import time\n",
        "import matplotlib.pyplot as plt\n",
        "import seaborn as sns\n",
        "from random import randint\n",
        "from PIL import Image\n",
        "import tensorflow as tf\n",
        "\n",
        "import pandas as pd\n",
        "from sklearn.model_selection import train_test_split\n",
        "from sklearn.preprocessing import StandardScaler"
      ],
      "execution_count": 1,
      "outputs": [
        {
          "output_type": "stream",
          "text": [
            "Requirement already satisfied: tqdm in /usr/local/lib/python3.6/dist-packages (4.27.0)\n"
          ],
          "name": "stdout"
        }
      ]
    },
    {
      "metadata": {
        "id": "frMPmKbS4bZQ",
        "colab_type": "code",
        "colab": {}
      },
      "cell_type": "code",
      "source": [
        "tf.set_random_seed(10)\n",
        "np.random.seed(10)"
      ],
      "execution_count": 0,
      "outputs": []
    },
    {
      "metadata": {
        "id": "t_rUd1Q1xeOG",
        "colab_type": "code",
        "colab": {
          "base_uri": "https://localhost:8080/",
          "height": 139
        },
        "outputId": "64011f48-62b2-4842-c7f4-2f6d1fa35c15"
      },
      "cell_type": "code",
      "source": [
        "\n",
        "df = pd.read_csv('https://github.com/harveenchadha/dump-nn-tf/raw/master/Section2/NN_Predict_Fraud/train.csv')\n",
        "df.dropna(inplace=True)\n",
        "iris = tf.contrib.learn.datasets.load_iris()\n",
        "\n",
        "scl = StandardScaler()"
      ],
      "execution_count": 3,
      "outputs": [
        {
          "output_type": "stream",
          "text": [
            "WARNING:tensorflow:From <ipython-input-3-603637f15cd2>:4: load_iris (from tensorflow.contrib.learn.python.learn.datasets.base) is deprecated and will be removed in a future version.\n",
            "Instructions for updating:\n",
            "Use scikits.learn.datasets.\n",
            "WARNING:tensorflow:From /usr/local/lib/python3.6/dist-packages/tensorflow/contrib/learn/python/learn/datasets/base.py:112: load_csv_with_header (from tensorflow.contrib.learn.python.learn.datasets.base) is deprecated and will be removed in a future version.\n",
            "Instructions for updating:\n",
            "Use tf.data instead.\n"
          ],
          "name": "stdout"
        }
      ]
    },
    {
      "metadata": {
        "id": "lUeGUaMN0-Uw",
        "colab_type": "code",
        "colab": {}
      },
      "cell_type": "code",
      "source": [
        "def WeightsVariable(shape, name = 'weights'):\n",
        "    return tf.Variable(tf.truncated_normal(shape, mean = 0.0, stddev=0.001, name=name))\n",
        "\n",
        "def BiasVariable(shape, name = 'biases'):\n",
        "    return tf.Variable(tf.constant(1.0, shape=[shape], name='biases'))"
      ],
      "execution_count": 0,
      "outputs": []
    },
    {
      "metadata": {
        "id": "IC-wHEcH0-Uz",
        "colab_type": "code",
        "colab": {}
      },
      "cell_type": "code",
      "source": [
        "def network(images, channels = 1, input_shape = 4, output_shape = 3):\n",
        "    num_c = [input_shape, 256, 128, 64, 32, 16, 8, 4, output_shape]\n",
        "    num_i = 1\n",
        "    with tf.name_scope('fc1'):\n",
        "        weights = WeightsVariable([input_shape, num_c[num_i]])\n",
        "        biases = BiasVariable(num_c[num_i])\n",
        "        fc1 = tf.nn.relu(tf.matmul(images, weights) + biases)\n",
        "    num_i += 1\n",
        "    with tf.name_scope('fc2'):\n",
        "        weights = WeightsVariable([num_c[num_i - 1], num_c[num_i]])\n",
        "        biases = BiasVariable(num_c[num_i])\n",
        "        fc1 = tf.nn.relu(tf.matmul(fc1, weights) + biases)\n",
        "    num_i += 1    \n",
        "    with tf.name_scope('fc3'):\n",
        "        weights = WeightsVariable([num_c[num_i - 1], num_c[num_i]])\n",
        "        biases = BiasVariable(num_c[num_i])\n",
        "        fc1 = tf.nn.relu(tf.matmul(fc1, weights) + biases)\n",
        "    num_i += 1    \n",
        "    with tf.name_scope('fc5'):\n",
        "        weights = WeightsVariable([num_c[num_i - 1], num_c[num_i]])\n",
        "        biases = BiasVariable(num_c[num_i])\n",
        "        fc1 = tf.nn.relu(tf.matmul(fc1, weights) + biases)\n",
        "    num_i += 1    \n",
        "    with tf.name_scope('fc6'):\n",
        "        weights = WeightsVariable([num_c[num_i - 1], num_c[num_i]])\n",
        "        biases = BiasVariable(num_c[num_i])\n",
        "        fc1 = tf.nn.relu(tf.matmul(fc1, weights) + biases)   \n",
        "    num_i += 1\n",
        "    with tf.name_scope('fc4'):\n",
        "        weights = WeightsVariable([num_c[num_i - 1], output_shape])\n",
        "        biases = BiasVariable(output_shape)\n",
        "        fc2 = tf.matmul(fc1, weights) + biases\n",
        "    return fc2"
      ],
      "execution_count": 0,
      "outputs": []
    },
    {
      "metadata": {
        "id": "AEWbuvcQ0-U2",
        "colab_type": "code",
        "colab": {}
      },
      "cell_type": "code",
      "source": [
        "def loss_metrics(logits, labels, output_shape=1):\n",
        "    logits = logits\n",
        "    if output_shape == 1:\n",
        "      cross_entropy = tf.nn.sigmoid_cross_entropy_with_logits(labels = labels, \n",
        "                                                                   logits = logits, \n",
        "                                                                   name = 'softmax')\n",
        "      \n",
        "    else:\n",
        "      cross_entropy = tf.nn.sparse_softmax_cross_entropy_with_logits(labels = labels, \n",
        "                                                                   logits = logits, \n",
        "                                                                   name = 'softmax')\n",
        "    return tf.reduce_mean(cross_entropy, name = 'softmax_mean')"
      ],
      "execution_count": 0,
      "outputs": []
    },
    {
      "metadata": {
        "id": "SJLUwfZX0-U6",
        "colab_type": "code",
        "colab": {}
      },
      "cell_type": "code",
      "source": [
        "#returns the optimizer by taking the loss\n",
        "def training(loss):\n",
        "    optimizer = tf.train.AdamOptimizer(learning_rate = STARTER_LR)\n",
        "    train_op = optimizer.minimize(loss)\n",
        "    return train_op\n",
        "    "
      ],
      "execution_count": 0,
      "outputs": []
    },
    {
      "metadata": {
        "id": "57j_wcyV0-U9",
        "colab_type": "code",
        "colab": {}
      },
      "cell_type": "code",
      "source": [
        "def evaluation(logits, labels, output_shape = 1):\n",
        "    correct = tf.nn.in_top_k(logits, labels, k = 1)\n",
        "    return tf.reduce_sum(tf.cast(correct, tf.int32))#, accuracy1, accuracy2\n",
        "  \n",
        "def acc(logits, labels, output_shape = 1):\n",
        "  \n",
        "    if(output_shape == 1):\n",
        "        correct_prediction = tf.equal(tf.cast(tf.greater_equal(logits,0.5), tf.float32), tf.cast(labels, tf.float32))\n",
        "        \n",
        "    else:\n",
        "        correct_prediction = tf.equal(tf.argmax(logits, 1),  tf.cast(labels, tf.int64), name='correct_pred')\n",
        "    \n",
        "    accuracy = tf.reduce_mean(tf.cast(correct_prediction, tf.float32), name='accuracy')\n",
        "    return accuracy"
      ],
      "execution_count": 0,
      "outputs": []
    },
    {
      "metadata": {
        "id": "sgIUHWfj0-VG",
        "colab_type": "code",
        "colab": {}
      },
      "cell_type": "code",
      "source": [
        "def placeholder_inputs(batch_size, input_shape=None, output_shape=1):\n",
        "    image_placeholder = tf.placeholder(tf.float32, shape = (None, input_shape))\n",
        "    if output_shape == 1:\n",
        "      label_placeholder = tf.placeholder(tf.float32, shape = (None))\n",
        "    else:\n",
        "      label_placeholder = tf.placeholder(tf.int32, shape = (None))\n",
        "    return image_placeholder, label_placeholder"
      ],
      "execution_count": 0,
      "outputs": []
    },
    {
      "metadata": {
        "id": "Za5Tlllw0-VN",
        "colab_type": "code",
        "colab": {}
      },
      "cell_type": "code",
      "source": [
        "\n",
        "loss_plot = []\n",
        "acc_plot = []\n",
        "train_plot = []\n",
        "def run_training(x, y, input_shape=None, output_shape=1):\n",
        "  \n",
        "    x_train, x_test, y_train, y_test = train_test_split(x, y, test_size = 0.3)\n",
        "    with tf.Graph().as_default():\n",
        "\n",
        "        images_pl, labels_pl = placeholder_inputs(BATCH_SIZE, input_shape=input_shape, output_shape = output_shape)\n",
        "        logits = network(images_pl, input_shape=input_shape, output_shape=output_shape)\n",
        "        \n",
        "        print(\"Logits Calculated Successfully\")\n",
        "        loss = loss_metrics(logits = logits, labels = labels_pl, output_shape = output_shape)\n",
        "        train_op = training(loss)\n",
        "#         eval_correct = evaluation(logits, labels_pl)\n",
        "        acc_val = acc(logits, labels_pl, output_shape = output_shape)\n",
        "        summary = tf.summary.merge_all()\n",
        "        \n",
        "        init = tf.global_variables_initializer()\n",
        "        \n",
        "        gpu_options = tf.GPUOptions(per_process_gpu_memory_fraction=0.9) #OPTIONAL\n",
        "        sess = tf.Session(config=tf.ConfigProto(gpu_options = gpu_options))\n",
        "        \n",
        "        saver = tf.train.Saver()\n",
        "        sess.run(init)\n",
        "        for steps in range(MAX_STEPS):\n",
        "            loss_avg = []\n",
        "            for i in tqdm(np.arange(0, len(x_train), BATCH_SIZE)):\n",
        "                images_feed = x_train[i*BATCH_SIZE:i*(BATCH_SIZE+1)]\n",
        "                labels_feed = y_train[i*BATCH_SIZE:i*(BATCH_SIZE+1)]\n",
        "\n",
        "                feed_dict = { images_pl: images_feed, labels_pl: labels_feed }\n",
        "\n",
        "                _ = sess.run([train_op], feed_dict = feed_dict)\n",
        "                \n",
        "\n",
        "            images_feed = x_test\n",
        "            labels_feed = y_test\n",
        "\n",
        "            feed_dict = {\n",
        "                images_pl: images_feed,\n",
        "                labels_pl: labels_feed\n",
        "                        }\n",
        "            loss_  = sess.run([loss], feed_dict = feed_dict)\n",
        "            accuracy_val  = sess.run([acc_val], feed_dict = feed_dict)\n",
        "            images_feed = x_train\n",
        "            labels_feed = y_train\n",
        "\n",
        "            feed_dict = {\n",
        "                images_pl: images_feed,\n",
        "                labels_pl: labels_feed\n",
        "                        }\n",
        "            train_loss  = sess.run([loss], feed_dict = feed_dict)\n",
        "            \n",
        "            loss_plot.append(loss_)\n",
        "            train_plot.append(train_loss)\n",
        "            acc_plot.append(accuracy_val)\n",
        "            print('Loss %d: Training loss = %.5f  Validation loss = %.5f\\t Validation Acc = %.5f' % (steps+1, train_loss[0], loss_[0], accuracy_val[0]))     \n",
        "          \n",
        "        return sess, images_pl, labels_pl, acc_val, logits"
      ],
      "execution_count": 0,
      "outputs": []
    },
    {
      "metadata": {
        "scrolled": false,
        "id": "PBg_gG-g0-VV",
        "colab_type": "code",
        "outputId": "27fffb90-e639-4048-b10c-98e7f53f86bb",
        "colab": {
          "base_uri": "https://localhost:8080/",
          "height": 2448
        }
      },
      "cell_type": "code",
      "source": [
        "\n",
        "# x = iris[0]\n",
        "# y = iris[1]\n",
        "\n",
        "x = df.iloc[:, :30]\n",
        "y = df.iloc[:, -1:]\n",
        "\n",
        "\n",
        "x = scl.fit_transform(x)\n",
        "\n",
        "STARTER_LR = 6e-5\n",
        "BATCH_SIZE = 2\n",
        "MAX_STEPS = 200\n",
        "\n",
        "loss_plot = []\n",
        "acc_plot = []\n",
        "train_plot = []\n",
        "sess, images_pl, labels_pl, eval_correct, logits = run_training(np.asarray(x, dtype = np.float32), np.asarray(y, dtype = np.float32), input_shape=x.shape[1], output_shape=y.shape[1])"
      ],
      "execution_count": 0,
      "outputs": [
        {
          "output_type": "stream",
          "text": [
            "Logits Calculated Successfully\n"
          ],
          "name": "stdout"
        },
        {
          "output_type": "stream",
          "text": [
            "100%|██████████| 315/315 [00:00<00:00, 564.88it/s]\n",
            " 20%|█▉        | 62/315 [00:00<00:00, 603.30it/s]"
          ],
          "name": "stderr"
        },
        {
          "output_type": "stream",
          "text": [
            "Loss 1: Training loss = 0.66877  Validation loss = 0.67641\t Validation Acc = 0.49259\n"
          ],
          "name": "stdout"
        },
        {
          "output_type": "stream",
          "text": [
            "100%|██████████| 315/315 [00:00<00:00, 654.01it/s]\n",
            " 20%|██        | 63/315 [00:00<00:00, 629.98it/s]"
          ],
          "name": "stderr"
        },
        {
          "output_type": "stream",
          "text": [
            "Loss 2: Training loss = 0.63185  Validation loss = 0.64841\t Validation Acc = 0.49259\n"
          ],
          "name": "stdout"
        },
        {
          "output_type": "stream",
          "text": [
            "100%|██████████| 315/315 [00:00<00:00, 663.86it/s]\n",
            " 20%|██        | 63/315 [00:00<00:00, 626.41it/s]"
          ],
          "name": "stderr"
        },
        {
          "output_type": "stream",
          "text": [
            "Loss 3: Training loss = 0.59683  Validation loss = 0.61648\t Validation Acc = 0.49259\n"
          ],
          "name": "stdout"
        },
        {
          "output_type": "stream",
          "text": [
            "100%|██████████| 315/315 [00:00<00:00, 660.57it/s]\n",
            " 20%|██        | 63/315 [00:00<00:00, 627.67it/s]"
          ],
          "name": "stderr"
        },
        {
          "output_type": "stream",
          "text": [
            "Loss 4: Training loss = 0.56769  Validation loss = 0.58993\t Validation Acc = 0.60741\n"
          ],
          "name": "stdout"
        },
        {
          "output_type": "stream",
          "text": [
            "100%|██████████| 315/315 [00:00<00:00, 631.07it/s]\n",
            " 20%|█▉        | 62/315 [00:00<00:00, 615.87it/s]"
          ],
          "name": "stderr"
        },
        {
          "output_type": "stream",
          "text": [
            "Loss 5: Training loss = 0.54292  Validation loss = 0.56610\t Validation Acc = 0.61481\n"
          ],
          "name": "stdout"
        },
        {
          "output_type": "stream",
          "text": [
            "100%|██████████| 315/315 [00:00<00:00, 650.75it/s]\n",
            " 20%|██        | 64/315 [00:00<00:00, 624.72it/s]"
          ],
          "name": "stderr"
        },
        {
          "output_type": "stream",
          "text": [
            "Loss 6: Training loss = 0.52233  Validation loss = 0.54572\t Validation Acc = 0.62963\n"
          ],
          "name": "stdout"
        },
        {
          "output_type": "stream",
          "text": [
            "100%|██████████| 315/315 [00:00<00:00, 638.90it/s]\n",
            " 20%|██        | 64/315 [00:00<00:00, 626.09it/s]"
          ],
          "name": "stderr"
        },
        {
          "output_type": "stream",
          "text": [
            "Loss 7: Training loss = 0.50509  Validation loss = 0.52844\t Validation Acc = 0.65185\n"
          ],
          "name": "stdout"
        },
        {
          "output_type": "stream",
          "text": [
            "100%|██████████| 315/315 [00:00<00:00, 651.75it/s]\n",
            " 20%|██        | 63/315 [00:00<00:00, 623.91it/s]"
          ],
          "name": "stderr"
        },
        {
          "output_type": "stream",
          "text": [
            "Loss 8: Training loss = 0.48991  Validation loss = 0.51331\t Validation Acc = 0.66667\n"
          ],
          "name": "stdout"
        },
        {
          "output_type": "stream",
          "text": [
            "100%|██████████| 315/315 [00:00<00:00, 648.67it/s]\n",
            " 20%|██        | 64/315 [00:00<00:00, 627.22it/s]"
          ],
          "name": "stderr"
        },
        {
          "output_type": "stream",
          "text": [
            "Loss 9: Training loss = 0.47695  Validation loss = 0.50038\t Validation Acc = 0.68889\n"
          ],
          "name": "stdout"
        },
        {
          "output_type": "stream",
          "text": [
            "100%|██████████| 315/315 [00:00<00:00, 643.54it/s]\n",
            " 20%|██        | 64/315 [00:00<00:00, 626.43it/s]"
          ],
          "name": "stderr"
        },
        {
          "output_type": "stream",
          "text": [
            "Loss 10: Training loss = 0.46608  Validation loss = 0.48924\t Validation Acc = 0.70370\n"
          ],
          "name": "stdout"
        },
        {
          "output_type": "stream",
          "text": [
            "100%|██████████| 315/315 [00:00<00:00, 658.35it/s]\n",
            " 20%|██        | 64/315 [00:00<00:00, 623.86it/s]"
          ],
          "name": "stderr"
        },
        {
          "output_type": "stream",
          "text": [
            "Loss 11: Training loss = 0.45626  Validation loss = 0.47931\t Validation Acc = 0.71111\n"
          ],
          "name": "stdout"
        },
        {
          "output_type": "stream",
          "text": [
            "100%|██████████| 315/315 [00:00<00:00, 663.75it/s]\n",
            " 21%|██        | 65/315 [00:00<00:00, 644.92it/s]"
          ],
          "name": "stderr"
        },
        {
          "output_type": "stream",
          "text": [
            "Loss 12: Training loss = 0.44738  Validation loss = 0.47057\t Validation Acc = 0.71852\n"
          ],
          "name": "stdout"
        },
        {
          "output_type": "stream",
          "text": [
            "100%|██████████| 315/315 [00:00<00:00, 677.87it/s]\n",
            " 20%|██        | 63/315 [00:00<00:00, 622.22it/s]"
          ],
          "name": "stderr"
        },
        {
          "output_type": "stream",
          "text": [
            "Loss 13: Training loss = 0.43926  Validation loss = 0.46257\t Validation Acc = 0.72593\n"
          ],
          "name": "stdout"
        },
        {
          "output_type": "stream",
          "text": [
            "100%|██████████| 315/315 [00:00<00:00, 657.38it/s]\n",
            " 20%|██        | 64/315 [00:00<00:00, 627.04it/s]"
          ],
          "name": "stderr"
        },
        {
          "output_type": "stream",
          "text": [
            "Loss 14: Training loss = 0.43178  Validation loss = 0.45521\t Validation Acc = 0.72963\n"
          ],
          "name": "stdout"
        },
        {
          "output_type": "stream",
          "text": [
            "100%|██████████| 315/315 [00:00<00:00, 652.90it/s]\n",
            " 20%|██        | 63/315 [00:00<00:00, 627.63it/s]"
          ],
          "name": "stderr"
        },
        {
          "output_type": "stream",
          "text": [
            "Loss 15: Training loss = 0.42478  Validation loss = 0.44837\t Validation Acc = 0.73333\n"
          ],
          "name": "stdout"
        },
        {
          "output_type": "stream",
          "text": [
            "100%|██████████| 315/315 [00:00<00:00, 651.86it/s]\n",
            " 20%|██        | 64/315 [00:00<00:00, 632.22it/s]"
          ],
          "name": "stderr"
        },
        {
          "output_type": "stream",
          "text": [
            "Loss 16: Training loss = 0.41814  Validation loss = 0.44194\t Validation Acc = 0.73704\n"
          ],
          "name": "stdout"
        },
        {
          "output_type": "stream",
          "text": [
            "100%|██████████| 315/315 [00:00<00:00, 658.23it/s]\n",
            " 20%|██        | 63/315 [00:00<00:00, 628.86it/s]"
          ],
          "name": "stderr"
        },
        {
          "output_type": "stream",
          "text": [
            "Loss 17: Training loss = 0.41186  Validation loss = 0.43592\t Validation Acc = 0.74815\n"
          ],
          "name": "stdout"
        },
        {
          "output_type": "stream",
          "text": [
            "100%|██████████| 315/315 [00:00<00:00, 661.82it/s]\n",
            " 20%|██        | 64/315 [00:00<00:00, 630.51it/s]"
          ],
          "name": "stderr"
        },
        {
          "output_type": "stream",
          "text": [
            "Loss 18: Training loss = 0.40615  Validation loss = 0.43025\t Validation Acc = 0.75556\n"
          ],
          "name": "stdout"
        },
        {
          "output_type": "stream",
          "text": [
            "100%|██████████| 315/315 [00:00<00:00, 659.51it/s]\n",
            " 20%|██        | 64/315 [00:00<00:00, 636.45it/s]"
          ],
          "name": "stderr"
        },
        {
          "output_type": "stream",
          "text": [
            "Loss 19: Training loss = 0.40070  Validation loss = 0.42473\t Validation Acc = 0.75926\n"
          ],
          "name": "stdout"
        },
        {
          "output_type": "stream",
          "text": [
            "100%|██████████| 315/315 [00:00<00:00, 658.15it/s]\n",
            " 20%|██        | 63/315 [00:00<00:00, 614.46it/s]"
          ],
          "name": "stderr"
        },
        {
          "output_type": "stream",
          "text": [
            "Loss 20: Training loss = 0.39536  Validation loss = 0.41934\t Validation Acc = 0.78148\n"
          ],
          "name": "stdout"
        },
        {
          "output_type": "stream",
          "text": [
            "100%|██████████| 315/315 [00:00<00:00, 658.35it/s]\n",
            " 20%|██        | 64/315 [00:00<00:00, 629.90it/s]"
          ],
          "name": "stderr"
        },
        {
          "output_type": "stream",
          "text": [
            "Loss 21: Training loss = 0.39033  Validation loss = 0.41430\t Validation Acc = 0.78519\n"
          ],
          "name": "stdout"
        },
        {
          "output_type": "stream",
          "text": [
            "100%|██████████| 315/315 [00:00<00:00, 661.34it/s]\n",
            " 20%|██        | 64/315 [00:00<00:00, 627.30it/s]"
          ],
          "name": "stderr"
        },
        {
          "output_type": "stream",
          "text": [
            "Loss 22: Training loss = 0.38536  Validation loss = 0.40937\t Validation Acc = 0.78519\n"
          ],
          "name": "stdout"
        },
        {
          "output_type": "stream",
          "text": [
            "100%|██████████| 315/315 [00:00<00:00, 666.74it/s]\n",
            " 21%|██        | 65/315 [00:00<00:00, 640.18it/s]"
          ],
          "name": "stderr"
        },
        {
          "output_type": "stream",
          "text": [
            "Loss 23: Training loss = 0.37965  Validation loss = 0.40370\t Validation Acc = 0.80000\n"
          ],
          "name": "stdout"
        },
        {
          "output_type": "stream",
          "text": [
            "100%|██████████| 315/315 [00:00<00:00, 671.74it/s]\n",
            " 20%|██        | 64/315 [00:00<00:00, 630.51it/s]"
          ],
          "name": "stderr"
        },
        {
          "output_type": "stream",
          "text": [
            "Loss 24: Training loss = 0.37441  Validation loss = 0.39857\t Validation Acc = 0.80741\n"
          ],
          "name": "stdout"
        },
        {
          "output_type": "stream",
          "text": [
            "100%|██████████| 315/315 [00:00<00:00, 664.30it/s]\n",
            " 20%|██        | 64/315 [00:00<00:00, 637.55it/s]"
          ],
          "name": "stderr"
        },
        {
          "output_type": "stream",
          "text": [
            "Loss 25: Training loss = 0.36444  Validation loss = 0.38817\t Validation Acc = 0.81481\n"
          ],
          "name": "stdout"
        },
        {
          "output_type": "stream",
          "text": [
            "100%|██████████| 315/315 [00:00<00:00, 653.93it/s]\n",
            " 21%|██        | 65/315 [00:00<00:00, 636.47it/s]"
          ],
          "name": "stderr"
        },
        {
          "output_type": "stream",
          "text": [
            "Loss 26: Training loss = 0.36217  Validation loss = 0.38650\t Validation Acc = 0.82222\n"
          ],
          "name": "stdout"
        },
        {
          "output_type": "stream",
          "text": [
            "100%|██████████| 315/315 [00:00<00:00, 662.08it/s]\n",
            " 20%|██        | 64/315 [00:00<00:00, 636.62it/s]"
          ],
          "name": "stderr"
        },
        {
          "output_type": "stream",
          "text": [
            "Loss 27: Training loss = 0.35030  Validation loss = 0.37430\t Validation Acc = 0.82222\n"
          ],
          "name": "stdout"
        },
        {
          "output_type": "stream",
          "text": [
            "100%|██████████| 315/315 [00:00<00:00, 655.82it/s]\n",
            " 20%|██        | 64/315 [00:00<00:00, 629.16it/s]"
          ],
          "name": "stderr"
        },
        {
          "output_type": "stream",
          "text": [
            "Loss 28: Training loss = 0.34768  Validation loss = 0.37223\t Validation Acc = 0.82222\n"
          ],
          "name": "stdout"
        },
        {
          "output_type": "stream",
          "text": [
            "100%|██████████| 315/315 [00:00<00:00, 659.10it/s]\n",
            " 20%|██        | 64/315 [00:00<00:00, 629.48it/s]"
          ],
          "name": "stderr"
        },
        {
          "output_type": "stream",
          "text": [
            "Loss 29: Training loss = 0.34202  Validation loss = 0.36686\t Validation Acc = 0.82593\n"
          ],
          "name": "stdout"
        },
        {
          "output_type": "stream",
          "text": [
            "100%|██████████| 315/315 [00:00<00:00, 651.01it/s]\n",
            " 20%|██        | 64/315 [00:00<00:00, 627.90it/s]"
          ],
          "name": "stderr"
        },
        {
          "output_type": "stream",
          "text": [
            "Loss 30: Training loss = 0.33431  Validation loss = 0.35943\t Validation Acc = 0.83333\n"
          ],
          "name": "stdout"
        },
        {
          "output_type": "stream",
          "text": [
            "100%|██████████| 315/315 [00:00<00:00, 658.74it/s]\n",
            " 20%|██        | 64/315 [00:00<00:00, 635.83it/s]"
          ],
          "name": "stderr"
        },
        {
          "output_type": "stream",
          "text": [
            "Loss 31: Training loss = 0.32905  Validation loss = 0.35480\t Validation Acc = 0.83704\n"
          ],
          "name": "stdout"
        },
        {
          "output_type": "stream",
          "text": [
            "100%|██████████| 315/315 [00:00<00:00, 655.41it/s]\n",
            " 20%|██        | 63/315 [00:00<00:00, 623.11it/s]"
          ],
          "name": "stderr"
        },
        {
          "output_type": "stream",
          "text": [
            "Loss 32: Training loss = 0.31946  Validation loss = 0.34563\t Validation Acc = 0.83333\n"
          ],
          "name": "stdout"
        },
        {
          "output_type": "stream",
          "text": [
            "100%|██████████| 315/315 [00:00<00:00, 660.11it/s]\n",
            " 20%|██        | 64/315 [00:00<00:00, 633.57it/s]"
          ],
          "name": "stderr"
        },
        {
          "output_type": "stream",
          "text": [
            "Loss 33: Training loss = 0.32251  Validation loss = 0.35007\t Validation Acc = 0.83333\n"
          ],
          "name": "stdout"
        },
        {
          "output_type": "stream",
          "text": [
            "100%|██████████| 315/315 [00:00<00:00, 679.35it/s]\n",
            " 20%|██        | 64/315 [00:00<00:00, 625.56it/s]"
          ],
          "name": "stderr"
        },
        {
          "output_type": "stream",
          "text": [
            "Loss 34: Training loss = 0.30283  Validation loss = 0.33053\t Validation Acc = 0.84074\n"
          ],
          "name": "stdout"
        },
        {
          "output_type": "stream",
          "text": [
            "100%|██████████| 315/315 [00:00<00:00, 684.27it/s]\n",
            " 21%|██        | 65/315 [00:00<00:00, 635.30it/s]"
          ],
          "name": "stderr"
        },
        {
          "output_type": "stream",
          "text": [
            "Loss 35: Training loss = 0.29948  Validation loss = 0.32853\t Validation Acc = 0.84815\n"
          ],
          "name": "stdout"
        },
        {
          "output_type": "stream",
          "text": [
            "100%|██████████| 315/315 [00:00<00:00, 673.00it/s]\n",
            " 20%|██        | 64/315 [00:00<00:00, 631.64it/s]"
          ],
          "name": "stderr"
        },
        {
          "output_type": "stream",
          "text": [
            "Loss 36: Training loss = 0.29228  Validation loss = 0.32228\t Validation Acc = 0.85185\n"
          ],
          "name": "stdout"
        },
        {
          "output_type": "stream",
          "text": [
            "100%|██████████| 315/315 [00:00<00:00, 660.61it/s]\n",
            " 20%|██        | 64/315 [00:00<00:00, 636.27it/s]"
          ],
          "name": "stderr"
        },
        {
          "output_type": "stream",
          "text": [
            "Loss 37: Training loss = 0.28827  Validation loss = 0.31984\t Validation Acc = 0.85556\n"
          ],
          "name": "stdout"
        },
        {
          "output_type": "stream",
          "text": [
            "100%|██████████| 315/315 [00:00<00:00, 658.92it/s]\n",
            " 20%|██        | 64/315 [00:00<00:00, 630.69it/s]"
          ],
          "name": "stderr"
        },
        {
          "output_type": "stream",
          "text": [
            "Loss 38: Training loss = 0.28182  Validation loss = 0.31465\t Validation Acc = 0.85556\n"
          ],
          "name": "stdout"
        },
        {
          "output_type": "stream",
          "text": [
            "100%|██████████| 315/315 [00:00<00:00, 663.90it/s]\n",
            " 20%|██        | 64/315 [00:00<00:00, 630.87it/s]"
          ],
          "name": "stderr"
        },
        {
          "output_type": "stream",
          "text": [
            "Loss 39: Training loss = 0.27741  Validation loss = 0.31158\t Validation Acc = 0.85556\n"
          ],
          "name": "stdout"
        },
        {
          "output_type": "stream",
          "text": [
            "100%|██████████| 315/315 [00:00<00:00, 654.01it/s]\n",
            " 20%|██        | 64/315 [00:00<00:00, 634.74it/s]"
          ],
          "name": "stderr"
        },
        {
          "output_type": "stream",
          "text": [
            "Loss 40: Training loss = 0.27198  Validation loss = 0.30716\t Validation Acc = 0.85926\n"
          ],
          "name": "stdout"
        },
        {
          "output_type": "stream",
          "text": [
            "100%|██████████| 315/315 [00:00<00:00, 657.02it/s]\n",
            " 20%|██        | 63/315 [00:00<00:00, 629.02it/s]"
          ],
          "name": "stderr"
        },
        {
          "output_type": "stream",
          "text": [
            "Loss 41: Training loss = 0.26302  Validation loss = 0.29888\t Validation Acc = 0.86296\n"
          ],
          "name": "stdout"
        },
        {
          "output_type": "stream",
          "text": [
            "100%|██████████| 315/315 [00:00<00:00, 657.20it/s]\n",
            " 20%|██        | 63/315 [00:00<00:00, 621.45it/s]"
          ],
          "name": "stderr"
        },
        {
          "output_type": "stream",
          "text": [
            "Loss 42: Training loss = 0.25915  Validation loss = 0.29640\t Validation Acc = 0.86296\n"
          ],
          "name": "stdout"
        },
        {
          "output_type": "stream",
          "text": [
            "100%|██████████| 315/315 [00:00<00:00, 659.13it/s]\n",
            " 21%|██        | 65/315 [00:00<00:00, 644.07it/s]"
          ],
          "name": "stderr"
        },
        {
          "output_type": "stream",
          "text": [
            "Loss 43: Training loss = 0.25394  Validation loss = 0.29240\t Validation Acc = 0.86296\n"
          ],
          "name": "stdout"
        },
        {
          "output_type": "stream",
          "text": [
            "100%|██████████| 315/315 [00:00<00:00, 664.34it/s]\n",
            " 20%|██        | 64/315 [00:00<00:00, 631.93it/s]"
          ],
          "name": "stderr"
        },
        {
          "output_type": "stream",
          "text": [
            "Loss 44: Training loss = 0.24690  Validation loss = 0.28632\t Validation Acc = 0.87037\n"
          ],
          "name": "stdout"
        },
        {
          "output_type": "stream",
          "text": [
            "100%|██████████| 315/315 [00:00<00:00, 668.75it/s]\n",
            " 21%|██        | 65/315 [00:00<00:00, 643.08it/s]"
          ],
          "name": "stderr"
        },
        {
          "output_type": "stream",
          "text": [
            "Loss 45: Training loss = 0.24451  Validation loss = 0.28515\t Validation Acc = 0.87037\n"
          ],
          "name": "stdout"
        },
        {
          "output_type": "stream",
          "text": [
            "100%|██████████| 315/315 [00:00<00:00, 679.16it/s]\n",
            " 21%|██        | 65/315 [00:00<00:00, 643.58it/s]"
          ],
          "name": "stderr"
        },
        {
          "output_type": "stream",
          "text": [
            "Loss 46: Training loss = 0.23685  Validation loss = 0.27820\t Validation Acc = 0.87778\n"
          ],
          "name": "stdout"
        },
        {
          "output_type": "stream",
          "text": [
            "100%|██████████| 315/315 [00:00<00:00, 667.24it/s]\n",
            " 20%|██        | 63/315 [00:00<00:00, 620.99it/s]"
          ],
          "name": "stderr"
        },
        {
          "output_type": "stream",
          "text": [
            "Loss 47: Training loss = 0.23309  Validation loss = 0.27548\t Validation Acc = 0.87778\n"
          ],
          "name": "stdout"
        },
        {
          "output_type": "stream",
          "text": [
            "100%|██████████| 315/315 [00:00<00:00, 658.33it/s]\n",
            " 20%|██        | 64/315 [00:00<00:00, 635.65it/s]"
          ],
          "name": "stderr"
        },
        {
          "output_type": "stream",
          "text": [
            "Loss 48: Training loss = 0.22956  Validation loss = 0.27298\t Validation Acc = 0.88519\n"
          ],
          "name": "stdout"
        },
        {
          "output_type": "stream",
          "text": [
            "100%|██████████| 315/315 [00:00<00:00, 656.72it/s]\n",
            " 20%|██        | 64/315 [00:00<00:00, 631.42it/s]"
          ],
          "name": "stderr"
        },
        {
          "output_type": "stream",
          "text": [
            "Loss 49: Training loss = 0.22608  Validation loss = 0.27044\t Validation Acc = 0.89259\n"
          ],
          "name": "stdout"
        },
        {
          "output_type": "stream",
          "text": [
            "100%|██████████| 315/315 [00:00<00:00, 659.54it/s]\n",
            " 20%|█▉        | 62/315 [00:00<00:00, 618.72it/s]"
          ],
          "name": "stderr"
        },
        {
          "output_type": "stream",
          "text": [
            "Loss 50: Training loss = 0.22280  Validation loss = 0.26812\t Validation Acc = 0.89259\n"
          ],
          "name": "stdout"
        },
        {
          "output_type": "stream",
          "text": [
            "100%|██████████| 315/315 [00:00<00:00, 662.98it/s]\n",
            " 20%|██        | 63/315 [00:00<00:00, 616.92it/s]"
          ],
          "name": "stderr"
        },
        {
          "output_type": "stream",
          "text": [
            "Loss 51: Training loss = 0.22018  Validation loss = 0.26633\t Validation Acc = 0.89259\n"
          ],
          "name": "stdout"
        },
        {
          "output_type": "stream",
          "text": [
            "100%|██████████| 315/315 [00:00<00:00, 651.87it/s]\n",
            " 20%|██        | 64/315 [00:00<00:00, 628.50it/s]"
          ],
          "name": "stderr"
        },
        {
          "output_type": "stream",
          "text": [
            "Loss 52: Training loss = 0.21752  Validation loss = 0.26440\t Validation Acc = 0.89259\n"
          ],
          "name": "stdout"
        },
        {
          "output_type": "stream",
          "text": [
            "100%|██████████| 315/315 [00:00<00:00, 659.26it/s]\n",
            " 21%|██        | 65/315 [00:00<00:00, 642.14it/s]"
          ],
          "name": "stderr"
        },
        {
          "output_type": "stream",
          "text": [
            "Loss 53: Training loss = 0.21495  Validation loss = 0.26247\t Validation Acc = 0.89630\n"
          ],
          "name": "stdout"
        },
        {
          "output_type": "stream",
          "text": [
            "100%|██████████| 315/315 [00:00<00:00, 659.58it/s]\n",
            " 20%|██        | 63/315 [00:00<00:00, 615.25it/s]"
          ],
          "name": "stderr"
        },
        {
          "output_type": "stream",
          "text": [
            "Loss 54: Training loss = 0.21278  Validation loss = 0.26087\t Validation Acc = 0.90000\n"
          ],
          "name": "stdout"
        },
        {
          "output_type": "stream",
          "text": [
            "100%|██████████| 315/315 [00:00<00:00, 654.97it/s]\n",
            " 20%|██        | 64/315 [00:00<00:00, 632.27it/s]"
          ],
          "name": "stderr"
        },
        {
          "output_type": "stream",
          "text": [
            "Loss 55: Training loss = 0.21066  Validation loss = 0.25932\t Validation Acc = 0.90000\n"
          ],
          "name": "stdout"
        },
        {
          "output_type": "stream",
          "text": [
            "100%|██████████| 315/315 [00:00<00:00, 675.56it/s]\n",
            " 20%|██        | 64/315 [00:00<00:00, 638.00it/s]"
          ],
          "name": "stderr"
        },
        {
          "output_type": "stream",
          "text": [
            "Loss 56: Training loss = 0.20895  Validation loss = 0.25817\t Validation Acc = 0.90000\n"
          ],
          "name": "stdout"
        },
        {
          "output_type": "stream",
          "text": [
            "100%|██████████| 315/315 [00:00<00:00, 680.80it/s]\n",
            " 20%|██        | 64/315 [00:00<00:00, 636.83it/s]"
          ],
          "name": "stderr"
        },
        {
          "output_type": "stream",
          "text": [
            "Loss 57: Training loss = 0.20666  Validation loss = 0.25645\t Validation Acc = 0.90000\n"
          ],
          "name": "stdout"
        },
        {
          "output_type": "stream",
          "text": [
            "100%|██████████| 315/315 [00:00<00:00, 664.72it/s]\n",
            " 20%|██        | 64/315 [00:00<00:00, 625.96it/s]"
          ],
          "name": "stderr"
        },
        {
          "output_type": "stream",
          "text": [
            "Loss 58: Training loss = 0.20532  Validation loss = 0.25563\t Validation Acc = 0.90000\n"
          ],
          "name": "stdout"
        },
        {
          "output_type": "stream",
          "text": [
            "100%|██████████| 315/315 [00:00<00:00, 644.15it/s]\n",
            " 20%|██        | 64/315 [00:00<00:00, 625.44it/s]"
          ],
          "name": "stderr"
        },
        {
          "output_type": "stream",
          "text": [
            "Loss 59: Training loss = 0.20375  Validation loss = 0.25463\t Validation Acc = 0.89630\n"
          ],
          "name": "stdout"
        },
        {
          "output_type": "stream",
          "text": [
            "100%|██████████| 315/315 [00:00<00:00, 648.19it/s]\n",
            " 20%|██        | 64/315 [00:00<00:00, 629.93it/s]"
          ],
          "name": "stderr"
        },
        {
          "output_type": "stream",
          "text": [
            "Loss 60: Training loss = 0.20233  Validation loss = 0.25387\t Validation Acc = 0.90370\n"
          ],
          "name": "stdout"
        },
        {
          "output_type": "stream",
          "text": [
            "100%|██████████| 315/315 [00:00<00:00, 659.16it/s]\n",
            " 21%|██        | 65/315 [00:00<00:00, 637.65it/s]"
          ],
          "name": "stderr"
        },
        {
          "output_type": "stream",
          "text": [
            "Loss 61: Training loss = 0.20062  Validation loss = 0.25278\t Validation Acc = 0.90370\n"
          ],
          "name": "stdout"
        },
        {
          "output_type": "stream",
          "text": [
            "100%|██████████| 315/315 [00:00<00:00, 660.14it/s]\n",
            " 20%|██        | 64/315 [00:00<00:00, 626.00it/s]"
          ],
          "name": "stderr"
        },
        {
          "output_type": "stream",
          "text": [
            "Loss 62: Training loss = 0.19904  Validation loss = 0.25174\t Validation Acc = 0.90370\n"
          ],
          "name": "stdout"
        },
        {
          "output_type": "stream",
          "text": [
            "100%|██████████| 315/315 [00:00<00:00, 663.77it/s]\n",
            " 20%|██        | 64/315 [00:00<00:00, 630.63it/s]"
          ],
          "name": "stderr"
        },
        {
          "output_type": "stream",
          "text": [
            "Loss 63: Training loss = 0.19743  Validation loss = 0.25064\t Validation Acc = 0.90370\n"
          ],
          "name": "stdout"
        },
        {
          "output_type": "stream",
          "text": [
            "100%|██████████| 315/315 [00:00<00:00, 653.32it/s]\n",
            " 20%|██        | 64/315 [00:00<00:00, 626.37it/s]"
          ],
          "name": "stderr"
        },
        {
          "output_type": "stream",
          "text": [
            "Loss 64: Training loss = 0.19595  Validation loss = 0.24965\t Validation Acc = 0.90370\n"
          ],
          "name": "stdout"
        },
        {
          "output_type": "stream",
          "text": [
            "100%|██████████| 315/315 [00:00<00:00, 657.97it/s]\n",
            " 20%|██        | 64/315 [00:00<00:00, 628.76it/s]"
          ],
          "name": "stderr"
        },
        {
          "output_type": "stream",
          "text": [
            "Loss 65: Training loss = 0.19498  Validation loss = 0.24911\t Validation Acc = 0.90370\n"
          ],
          "name": "stdout"
        },
        {
          "output_type": "stream",
          "text": [
            "100%|██████████| 315/315 [00:00<00:00, 637.34it/s]\n",
            " 20%|█▉        | 62/315 [00:00<00:00, 612.48it/s]"
          ],
          "name": "stderr"
        },
        {
          "output_type": "stream",
          "text": [
            "Loss 66: Training loss = 0.19405  Validation loss = 0.24861\t Validation Acc = 0.90370\n"
          ],
          "name": "stdout"
        },
        {
          "output_type": "stream",
          "text": [
            "100%|██████████| 315/315 [00:00<00:00, 670.58it/s]\n",
            " 21%|██        | 65/315 [00:00<00:00, 643.80it/s]"
          ],
          "name": "stderr"
        },
        {
          "output_type": "stream",
          "text": [
            "Loss 67: Training loss = 0.19290  Validation loss = 0.24795\t Validation Acc = 0.90370\n"
          ],
          "name": "stdout"
        },
        {
          "output_type": "stream",
          "text": [
            "100%|██████████| 315/315 [00:00<00:00, 682.08it/s]\n",
            " 20%|██        | 64/315 [00:00<00:00, 628.72it/s]"
          ],
          "name": "stderr"
        },
        {
          "output_type": "stream",
          "text": [
            "Loss 68: Training loss = 0.19270  Validation loss = 0.24809\t Validation Acc = 0.90370\n"
          ],
          "name": "stdout"
        },
        {
          "output_type": "stream",
          "text": [
            "100%|██████████| 315/315 [00:00<00:00, 661.60it/s]\n",
            " 20%|██        | 64/315 [00:00<00:00, 630.79it/s]"
          ],
          "name": "stderr"
        },
        {
          "output_type": "stream",
          "text": [
            "Loss 69: Training loss = 0.19097  Validation loss = 0.24688\t Validation Acc = 0.90370\n"
          ],
          "name": "stdout"
        },
        {
          "output_type": "stream",
          "text": [
            "100%|██████████| 315/315 [00:00<00:00, 659.05it/s]\n",
            " 20%|██        | 64/315 [00:00<00:00, 634.83it/s]"
          ],
          "name": "stderr"
        },
        {
          "output_type": "stream",
          "text": [
            "Loss 70: Training loss = 0.18958  Validation loss = 0.24598\t Validation Acc = 0.90370\n"
          ],
          "name": "stdout"
        },
        {
          "output_type": "stream",
          "text": [
            "100%|██████████| 315/315 [00:00<00:00, 663.47it/s]\n",
            "  0%|          | 0/315 [00:00<?, ?it/s]"
          ],
          "name": "stderr"
        }
      ]
    },
    {
      "metadata": {
        "id": "qbl9eEQrZauX",
        "colab_type": "code",
        "outputId": "7ce2d126-73be-4279-f665-6d5212f8bb71",
        "colab": {
          "base_uri": "https://localhost:8080/",
          "height": 364
        }
      },
      "cell_type": "code",
      "source": [
        "sns.set_style(\"darkgrid\")\n",
        "plt.plot(acc_plot,'g-',label=\"Validation Acc\")\n",
        "plt.plot(loss_plot, 'b-', label=\"Validation Loss\")\n",
        "plt.plot(train_plot, \"r-\", label='Training Loss')\n",
        "plt.legend(loc='best')"
      ],
      "execution_count": 17,
      "outputs": [
        {
          "output_type": "execute_result",
          "data": {
            "text/plain": [
              "<matplotlib.legend.Legend at 0x7f9d4404e748>"
            ]
          },
          "metadata": {
            "tags": []
          },
          "execution_count": 17
        },
        {
          "output_type": "display_data",
          "data": {
            "image/png": "[encoded data removed]",
            "text/plain": [
              "<matplotlib.figure.Figure at 0x7f9d44d1c518>"
            ]
          },
          "metadata": {
            "tags": []
          }
        }
      ]
    },
    {
      "metadata": {
        "id": "bPsgRXIYABWN",
        "colab_type": "code",
        "outputId": "ed9687f0-0704-45e1-9b5c-f06f5a4eb691",
        "colab": {
          "base_uri": "https://localhost:8080/",
          "height": 231
        }
      },
      "cell_type": "code",
      "source": [
        "images_feed, labels_feed = MNIST_DATASETS.validation.images, MNIST_DATASETS.validation.labels\n",
        "\n",
        "feed_dict = {\n",
        "    images_pl: np.reshape(images_feed, (-1, 28, 28, 1))\n",
        "            }\n",
        "with sess.as_default():\n",
        "  accuracy  = sess.run([logits], feed_dict = feed_dict)\n",
        "  \n",
        "  preds = np.argmax(accuracy[0], 1)\n",
        "  print(preds)"
      ],
      "execution_count": 13,
      "outputs": [
        {
          "output_type": "error",
          "ename": "NameError",
          "evalue": "ignored",
          "traceback": [
            "\u001b[0;31m---------------------------------------------------------------------------\u001b[0m",
            "\u001b[0;31mNameError\u001b[0m                                 Traceback (most recent call last)",
            "\u001b[0;32m<ipython-input-13-d24bda0b91e0>\u001b[0m in \u001b[0;36m<module>\u001b[0;34m()\u001b[0m\n\u001b[0;32m----> 1\u001b[0;31m \u001b[0mimages_feed\u001b[0m\u001b[0;34m,\u001b[0m \u001b[0mlabels_feed\u001b[0m \u001b[0;34m=\u001b[0m \u001b[0mMNIST_DATASETS\u001b[0m\u001b[0;34m.\u001b[0m\u001b[0mvalidation\u001b[0m\u001b[0;34m.\u001b[0m\u001b[0mimages\u001b[0m\u001b[0;34m,\u001b[0m \u001b[0mMNIST_DATASETS\u001b[0m\u001b[0;34m.\u001b[0m\u001b[0mvalidation\u001b[0m\u001b[0;34m.\u001b[0m\u001b[0mlabels\u001b[0m\u001b[0;34m\u001b[0m\u001b[0m\n\u001b[0m\u001b[1;32m      2\u001b[0m \u001b[0;34m\u001b[0m\u001b[0m\n\u001b[1;32m      3\u001b[0m feed_dict = {\n\u001b[1;32m      4\u001b[0m     \u001b[0mimages_pl\u001b[0m\u001b[0;34m:\u001b[0m \u001b[0mnp\u001b[0m\u001b[0;34m.\u001b[0m\u001b[0mreshape\u001b[0m\u001b[0;34m(\u001b[0m\u001b[0mimages_feed\u001b[0m\u001b[0;34m,\u001b[0m \u001b[0;34m(\u001b[0m\u001b[0;34m-\u001b[0m\u001b[0;36m1\u001b[0m\u001b[0;34m,\u001b[0m \u001b[0;36m28\u001b[0m\u001b[0;34m,\u001b[0m \u001b[0;36m28\u001b[0m\u001b[0;34m,\u001b[0m \u001b[0;36m1\u001b[0m\u001b[0;34m)\u001b[0m\u001b[0;34m)\u001b[0m\u001b[0;34m\u001b[0m\u001b[0m\n\u001b[1;32m      5\u001b[0m             }\n",
            "\u001b[0;31mNameError\u001b[0m: name 'MNIST_DATASETS' is not defined"
          ]
        }
      ]
    },
    {
      "metadata": {
        "id": "Zl6bKEbGa2Ay",
        "colab_type": "code",
        "outputId": "07a13f1a-b101-4dc7-b37c-0eb043e34b93",
        "colab": {
          "base_uri": "https://localhost:8080/",
          "height": 272
        }
      },
      "cell_type": "code",
      "source": [
        "from sklearn.metrics import classification_report\n",
        "print(classification_report(labels_feed, preds))"
      ],
      "execution_count": 0,
      "outputs": [
        {
          "output_type": "stream",
          "text": [
            "             precision    recall  f1-score   support\n",
            "\n",
            "          0       0.99      0.99      0.99       479\n",
            "          1       0.97      0.98      0.97       563\n",
            "          2       0.98      0.93      0.96       488\n",
            "          3       0.98      0.96      0.97       493\n",
            "          4       0.98      0.98      0.98       535\n",
            "          5       0.96      0.98      0.97       434\n",
            "          6       0.98      0.98      0.98       501\n",
            "          7       0.96      0.97      0.97       550\n",
            "          8       0.96      0.97      0.97       462\n",
            "          9       0.96      0.96      0.96       495\n",
            "\n",
            "avg / total       0.97      0.97      0.97      5000\n",
            "\n"
          ],
          "name": "stdout"
        }
      ]
    },
    {
      "metadata": {
        "id": "c5xuDiGTi2Pv",
        "colab_type": "code",
        "outputId": "dd8f7495-7389-4fda-ece7-3f762849dc41",
        "colab": {
          "base_uri": "https://localhost:8080/",
          "height": 187
        }
      },
      "cell_type": "code",
      "source": [
        "from sklearn.metrics import confusion_matrix\n",
        "print(confusion_matrix(labels_feed, preds))"
      ],
      "execution_count": 0,
      "outputs": [
        {
          "output_type": "stream",
          "text": [
            "[[473   0   0   0   0   2   2   0   0   2]\n",
            " [  0 553   2   2   1   0   1   2   2   0]\n",
            " [  1  10 454   5   1   1   0   7   8   1]\n",
            " [  0   1   2 475   0   7   0   5   2   1]\n",
            " [  0   1   0   0 526   0   4   1   0   3]\n",
            " [  0   1   1   0   1 427   0   0   3   1]\n",
            " [  3   2   0   0   1   1 493   0   1   0]\n",
            " [  0   2   2   1   3   0   0 536   0   6]\n",
            " [  0   2   0   1   0   3   1   2 449   4]\n",
            " [  2   1   0   2   5   2   0   7   2 474]]\n"
          ],
          "name": "stdout"
        }
      ]
    },
    {
      "metadata": {
        "id": "6DmDZXWY0-VZ",
        "colab_type": "code",
        "colab": {}
      },
      "cell_type": "code",
      "source": [
        "# graph = tf.GraphDef()\n",
        "# graph.ParseFromString(tf_model.SerializeToString())\n",
        "\n",
        "# with tf.Graph().as_default() as graph:\n",
        "#         # The name var will prefix every op/nodes in your graph\n",
        "#         # Since we load everything in a new graph, this is not needed\n",
        "#     tf.import_graph_def(graph, name=\"prefix\")\n",
        "    \n",
        "    "
      ],
      "execution_count": 0,
      "outputs": []
    }
  ]
}