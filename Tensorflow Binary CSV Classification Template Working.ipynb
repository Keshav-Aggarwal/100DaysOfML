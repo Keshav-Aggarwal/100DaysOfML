{
  "nbformat": 4,
  "nbformat_minor": 0,
  "metadata": {
    "colab": {
      "name": "Tensorflow Classification Template.ipynb",
      "version": "0.3.2",
      "provenance": []
    },
    "kernelspec": {
      "name": "python3",
      "display_name": "Python 3"
    }
  },
  "cells": [
    {
      "metadata": {
        "id": "oFd0yka_0-Ul",
        "colab_type": "code",
        "colab": {}
      },
      "cell_type": "code",
      "source": [
        "import numpy as np\n",
        "import os\n",
        "import time\n",
        "import matplotlib.pyplot as plt\n",
        "import seaborn as sns\n",
        "from random import randint\n",
        "from PIL import Image\n",
        "import tensorflow as tf"
      ],
      "execution_count": 0,
      "outputs": []
    },
    {
      "metadata": {
        "id": "frMPmKbS4bZQ",
        "colab_type": "code",
        "outputId": "0989564b-bc6e-4ccd-95fe-2055ea116b2a",
        "colab": {
          "base_uri": "https://localhost:8080/",
          "height": 34
        }
      },
      "cell_type": "code",
      "source": [
        "!pip install tqdm\n",
        "from tqdm import tqdm\n",
        "tf.set_random_seed(10)\n",
        "np.random.seed(10)"
      ],
      "execution_count": 2,
      "outputs": [
        {
          "output_type": "stream",
          "text": [
            "Requirement already satisfied: tqdm in /usr/local/lib/python3.6/dist-packages (4.27.0)\n"
          ],
          "name": "stdout"
        }
      ]
    },
    {
      "metadata": {
        "id": "t_rUd1Q1xeOG",
        "colab_type": "code",
        "colab": {}
      },
      "cell_type": "code",
      "source": [
        "import pandas as pd\n",
        "from sklearn.model_selection import train_test_split\n",
        "from sklearn.preprocessing import StandardScaler\n",
        "\n",
        "df = pd.read_csv('https://github.com/harveenchadha/dump-nn-tf/raw/master/Section2/NN_Predict_Fraud/train.csv')\n",
        "df.head()\n",
        "df.dropna(inplace=True)\n",
        "x = df.iloc[:, :30]\n",
        "y = df.iloc[:, -1:]\n",
        "\n",
        "scl = StandardScaler()\n",
        "x = scl.fit_transform(x)"
      ],
      "execution_count": 0,
      "outputs": []
    },
    {
      "metadata": {
        "id": "lUeGUaMN0-Uw",
        "colab_type": "code",
        "colab": {}
      },
      "cell_type": "code",
      "source": [
        "def WeightsVariable(shape, name = 'weights'):\n",
        "    return tf.Variable(tf.truncated_normal(shape, mean = 0.0, stddev=0.001, name=name))\n",
        "\n",
        "def BiasVariable(shape, name = 'biases'):\n",
        "    return tf.Variable(tf.constant(1.0, shape=[shape], name='biases'))"
      ],
      "execution_count": 0,
      "outputs": []
    },
    {
      "metadata": {
        "id": "IC-wHEcH0-Uz",
        "colab_type": "code",
        "colab": {}
      },
      "cell_type": "code",
      "source": [
        "def network(images, channels = 1):\n",
        "    num_c = [128, 64, 64, 64, 32, 128]\n",
        "\n",
        "    with tf.name_scope('fc1'):\n",
        "        weights = WeightsVariable([30, num_c[0]])\n",
        "        biases = BiasVariable(num_c[0])\n",
        "        fc1 = tf.nn.relu(tf.matmul(images, weights) + biases)\n",
        "        \n",
        "    with tf.name_scope('fc2'):\n",
        "        weights = WeightsVariable([num_c[0], num_c[1]])\n",
        "        biases = BiasVariable(num_c[1])\n",
        "        fc1 = tf.nn.relu(tf.matmul(fc1, weights) + biases)\n",
        "        \n",
        "    with tf.name_scope('fc3'):\n",
        "        weights = WeightsVariable([num_c[1], num_c[2]])\n",
        "        biases = BiasVariable(num_c[2])\n",
        "        fc1 = tf.nn.relu(tf.matmul(fc1, weights) + biases)\n",
        "        \n",
        "    with tf.name_scope('fc5'):\n",
        "        weights = WeightsVariable([num_c[2], num_c[3]])\n",
        "        biases = BiasVariable(num_c[3])\n",
        "        fc1 = tf.nn.relu(tf.matmul(fc1, weights) + biases)\n",
        "        \n",
        "    with tf.name_scope('fc6'):\n",
        "        weights = WeightsVariable([num_c[3], num_c[4]])\n",
        "        biases = BiasVariable(num_c[4])\n",
        "        fc1 = tf.nn.relu(tf.matmul(fc1, weights) + biases)   \n",
        "\n",
        "    with tf.name_scope('fc4'):\n",
        "        weights = WeightsVariable([num_c[4], 1])\n",
        "        biases = BiasVariable(1)\n",
        "        fc2 = tf.matmul(fc1, weights) + biases\n",
        "    return fc2"
      ],
      "execution_count": 0,
      "outputs": []
    },
    {
      "metadata": {
        "id": "AEWbuvcQ0-U2",
        "colab_type": "code",
        "colab": {}
      },
      "cell_type": "code",
      "source": [
        "def loss_metrics(logits, labels):\n",
        "    logits = logits\n",
        "    cross_entropy = tf.nn.sigmoid_cross_entropy_with_logits(labels = labels, \n",
        "                                                                   logits = logits, \n",
        "                                                                   name = 'softmax')\n",
        "    return tf.reduce_mean(cross_entropy, name = 'softmax_mean')"
      ],
      "execution_count": 0,
      "outputs": []
    },
    {
      "metadata": {
        "id": "SJLUwfZX0-U6",
        "colab_type": "code",
        "colab": {}
      },
      "cell_type": "code",
      "source": [
        "#returns the optimizer by taking the loss\n",
        "def training(loss):\n",
        "    optimizer = tf.train.AdamOptimizer(learning_rate = STARTER_LR)\n",
        "    train_op = optimizer.minimize(loss)\n",
        "    return train_op\n",
        "    "
      ],
      "execution_count": 0,
      "outputs": []
    },
    {
      "metadata": {
        "id": "57j_wcyV0-U9",
        "colab_type": "code",
        "colab": {}
      },
      "cell_type": "code",
      "source": [
        "def evaluation(logits, labels):\n",
        "    correct = tf.nn.in_top_k(logits, labels, k = 1)\n",
        "    return tf.reduce_sum(tf.cast(correct, tf.int32))#, accuracy1, accuracy2\n",
        "  \n",
        "def acc(logits, labels):\n",
        "    correct_prediction = tf.equal(tf.cast(tf.greater_equal(logits,0.5), tf.float32) , labels)\n",
        "    accuracy = tf.reduce_mean(tf.cast(correct_prediction, tf.float32), name='accuracy')\n",
        "    return accuracy"
      ],
      "execution_count": 0,
      "outputs": []
    },
    {
      "metadata": {
        "id": "sgIUHWfj0-VG",
        "colab_type": "code",
        "colab": {}
      },
      "cell_type": "code",
      "source": [
        "def placeholder_inputs(batch_size, shape = [30]):\n",
        "    image_placeholder = tf.placeholder(tf.float32, shape = (None, shape[0]))\n",
        "    label_placeholder = tf.placeholder(tf.float32, shape = (None))\n",
        "    return image_placeholder, label_placeholder"
      ],
      "execution_count": 0,
      "outputs": []
    },
    {
      "metadata": {
        "id": "Za5Tlllw0-VN",
        "colab_type": "code",
        "colab": {}
      },
      "cell_type": "code",
      "source": [
        "\n",
        "loss_plot = []\n",
        "acc_plot = []\n",
        "train_plot = []\n",
        "def run_training(x, y):\n",
        "    x_train, x_test, y_train, y_test = train_test_split(x, y, test_size = 0.2)\n",
        "    with tf.Graph().as_default():\n",
        "\n",
        "        images_pl, labels_pl = placeholder_inputs(BATCH_SIZE)\n",
        "        logits = network(images_pl)\n",
        "        print(\"Logits Calculated Successfully\")\n",
        "        loss = loss_metrics(logits = logits, labels = labels_pl)\n",
        "        train_op = training(loss)\n",
        "#         eval_correct = evaluation(logits, labels_pl)\n",
        "        acc_val = acc(logits, labels_pl)\n",
        "        summary = tf.summary.merge_all()\n",
        "        \n",
        "        init = tf.global_variables_initializer()\n",
        "        \n",
        "        gpu_options = tf.GPUOptions(per_process_gpu_memory_fraction=0.9) #OPTIONAL\n",
        "        sess = tf.Session(config=tf.ConfigProto(gpu_options = gpu_options))\n",
        "        \n",
        "        saver = tf.train.Saver()\n",
        "        sess.run(init)\n",
        "        for steps in range(MAX_STEPS):\n",
        "            loss_avg = []\n",
        "            for i in tqdm(np.arange(0, len(x_train), BATCH_SIZE)):\n",
        "                images_feed = x_train[i*BATCH_SIZE:i*(BATCH_SIZE+1)]\n",
        "                labels_feed = y_train[i*BATCH_SIZE:i*(BATCH_SIZE+1)]\n",
        "\n",
        "                feed_dict = { images_pl: np.reshape(images_feed, (-1, 30)), labels_pl: labels_feed }\n",
        "\n",
        "                _ = sess.run([train_op], feed_dict = feed_dict)\n",
        "                \n",
        "\n",
        "            images_feed = x_test\n",
        "            labels_feed = y_test\n",
        "\n",
        "            feed_dict = {\n",
        "                images_pl: np.reshape(images_feed, (-1, 30)),\n",
        "                labels_pl: labels_feed\n",
        "                        }\n",
        "            loss_  = sess.run([loss], feed_dict = feed_dict)\n",
        "            accuracy_val  = sess.run([acc_val], feed_dict = feed_dict)\n",
        "            \n",
        "            images_feed = x_train\n",
        "            labels_feed = y_train\n",
        "\n",
        "            feed_dict = {\n",
        "                images_pl: np.reshape(images_feed, (-1, 30)),\n",
        "                labels_pl: labels_feed\n",
        "                        }\n",
        "            train_loss  = sess.run([loss], feed_dict = feed_dict)\n",
        "            \n",
        "            loss_plot.append(loss_)\n",
        "            train_plot.append(train_loss)\n",
        "            acc_plot.append(accuracy_val)\n",
        "            print('\\t Loss %d: Training loss = %.5f  Validation loss = %.5f\\t Validation Acc = %.5f' % (steps+1, train_loss[0], loss_[0], accuracy_val[0]))     \n",
        "          \n",
        "        return sess, images_pl, labels_pl, acc_val, logits"
      ],
      "execution_count": 0,
      "outputs": []
    },
    {
      "metadata": {
        "scrolled": false,
        "id": "PBg_gG-g0-VV",
        "colab_type": "code",
        "outputId": "2dc9f730-a2c6-486d-90c9-66f094891044",
        "colab": {
          "base_uri": "https://localhost:8080/",
          "height": 3434
        }
      },
      "cell_type": "code",
      "source": [
        "STARTER_LR = 6e-5\n",
        "BATCH_SIZE = 3\n",
        "NUM_CLASSES = 10\n",
        "MAX_STEPS = 100\n",
        "\n",
        "loss_plot = []\n",
        "acc_plot = []\n",
        "train_plot = []\n",
        "sess, images_pl, labels_pl, eval_correct, logits = run_training(np.asarray(x, dtype = np.float32), np.asarray(y, dtype = np.int32))"
      ],
      "execution_count": 107,
      "outputs": [
        {
          "output_type": "stream",
          "text": [
            "Logits Calculated Successfully\n"
          ],
          "name": "stdout"
        },
        {
          "output_type": "stream",
          "text": [
            "100%|██████████| 240/240 [00:00<00:00, 777.45it/s]\n",
            " 33%|███▎      | 80/240 [00:00<00:00, 797.48it/s]"
          ],
          "name": "stderr"
        },
        {
          "output_type": "stream",
          "text": [
            "\t Loss 1: Training loss = 0.75092  Validation loss = 0.78636\t Validation Acc = 0.46111\n"
          ],
          "name": "stdout"
        },
        {
          "output_type": "stream",
          "text": [
            "100%|██████████| 240/240 [00:00<00:00, 1123.19it/s]\n",
            " 32%|███▎      | 78/240 [00:00<00:00, 777.44it/s]"
          ],
          "name": "stderr"
        },
        {
          "output_type": "stream",
          "text": [
            "\t Loss 2: Training loss = 0.67083  Validation loss = 0.67569\t Validation Acc = 0.53889\n"
          ],
          "name": "stdout"
        },
        {
          "output_type": "stream",
          "text": [
            "100%|██████████| 240/240 [00:00<00:00, 1107.33it/s]\n",
            " 31%|███▏      | 75/240 [00:00<00:00, 742.55it/s]"
          ],
          "name": "stderr"
        },
        {
          "output_type": "stream",
          "text": [
            "\t Loss 3: Training loss = 0.63803  Validation loss = 0.63841\t Validation Acc = 0.53889\n"
          ],
          "name": "stdout"
        },
        {
          "output_type": "stream",
          "text": [
            "100%|██████████| 240/240 [00:00<00:00, 1057.53it/s]\n",
            " 30%|██▉       | 71/240 [00:00<00:00, 703.71it/s]"
          ],
          "name": "stderr"
        },
        {
          "output_type": "stream",
          "text": [
            "\t Loss 4: Training loss = 0.61184  Validation loss = 0.60962\t Validation Acc = 0.53889\n"
          ],
          "name": "stdout"
        },
        {
          "output_type": "stream",
          "text": [
            "100%|██████████| 240/240 [00:00<00:00, 1005.59it/s]\n",
            " 29%|██▉       | 70/240 [00:00<00:00, 697.56it/s]"
          ],
          "name": "stderr"
        },
        {
          "output_type": "stream",
          "text": [
            "\t Loss 5: Training loss = 0.58718  Validation loss = 0.58180\t Validation Acc = 0.62222\n"
          ],
          "name": "stdout"
        },
        {
          "output_type": "stream",
          "text": [
            "100%|██████████| 240/240 [00:00<00:00, 1012.84it/s]\n",
            " 30%|███       | 72/240 [00:00<00:00, 718.10it/s]"
          ],
          "name": "stderr"
        },
        {
          "output_type": "stream",
          "text": [
            "\t Loss 6: Training loss = 0.56532  Validation loss = 0.55680\t Validation Acc = 0.65556\n"
          ],
          "name": "stdout"
        },
        {
          "output_type": "stream",
          "text": [
            "100%|██████████| 240/240 [00:00<00:00, 1030.72it/s]\n",
            " 30%|███       | 73/240 [00:00<00:00, 722.91it/s]"
          ],
          "name": "stderr"
        },
        {
          "output_type": "stream",
          "text": [
            "\t Loss 7: Training loss = 0.54682  Validation loss = 0.53565\t Validation Acc = 0.66667\n"
          ],
          "name": "stdout"
        },
        {
          "output_type": "stream",
          "text": [
            "100%|██████████| 240/240 [00:00<00:00, 1002.51it/s]\n",
            " 31%|███▏      | 75/240 [00:00<00:00, 748.18it/s]"
          ],
          "name": "stderr"
        },
        {
          "output_type": "stream",
          "text": [
            "\t Loss 8: Training loss = 0.53101  Validation loss = 0.51816\t Validation Acc = 0.68889\n"
          ],
          "name": "stdout"
        },
        {
          "output_type": "stream",
          "text": [
            "100%|██████████| 240/240 [00:00<00:00, 1081.28it/s]\n",
            " 35%|███▍      | 83/240 [00:00<00:00, 825.87it/s]"
          ],
          "name": "stderr"
        },
        {
          "output_type": "stream",
          "text": [
            "\t Loss 9: Training loss = 0.51707  Validation loss = 0.50306\t Validation Acc = 0.70556\n"
          ],
          "name": "stdout"
        },
        {
          "output_type": "stream",
          "text": [
            "100%|██████████| 240/240 [00:00<00:00, 1132.54it/s]\n",
            " 33%|███▎      | 79/240 [00:00<00:00, 785.54it/s]"
          ],
          "name": "stderr"
        },
        {
          "output_type": "stream",
          "text": [
            "\t Loss 10: Training loss = 0.50498  Validation loss = 0.49025\t Validation Acc = 0.72778\n"
          ],
          "name": "stdout"
        },
        {
          "output_type": "stream",
          "text": [
            "100%|██████████| 240/240 [00:00<00:00, 1125.26it/s]\n",
            " 34%|███▍      | 82/240 [00:00<00:00, 818.91it/s]"
          ],
          "name": "stderr"
        },
        {
          "output_type": "stream",
          "text": [
            "\t Loss 11: Training loss = 0.49404  Validation loss = 0.47914\t Validation Acc = 0.73333\n"
          ],
          "name": "stdout"
        },
        {
          "output_type": "stream",
          "text": [
            "100%|██████████| 240/240 [00:00<00:00, 1117.09it/s]\n",
            " 34%|███▍      | 81/240 [00:00<00:00, 809.85it/s]"
          ],
          "name": "stderr"
        },
        {
          "output_type": "stream",
          "text": [
            "\t Loss 12: Training loss = 0.48402  Validation loss = 0.46925\t Validation Acc = 0.74444\n"
          ],
          "name": "stdout"
        },
        {
          "output_type": "stream",
          "text": [
            "100%|██████████| 240/240 [00:00<00:00, 1131.72it/s]\n",
            " 34%|███▍      | 81/240 [00:00<00:00, 809.73it/s]"
          ],
          "name": "stderr"
        },
        {
          "output_type": "stream",
          "text": [
            "\t Loss 13: Training loss = 0.47490  Validation loss = 0.46062\t Validation Acc = 0.76111\n"
          ],
          "name": "stdout"
        },
        {
          "output_type": "stream",
          "text": [
            "100%|██████████| 240/240 [00:00<00:00, 1137.71it/s]\n",
            " 36%|███▌      | 86/240 [00:00<00:00, 858.25it/s]"
          ],
          "name": "stderr"
        },
        {
          "output_type": "stream",
          "text": [
            "\t Loss 14: Training loss = 0.46653  Validation loss = 0.45283\t Validation Acc = 0.77222\n"
          ],
          "name": "stdout"
        },
        {
          "output_type": "stream",
          "text": [
            "100%|██████████| 240/240 [00:00<00:00, 1142.41it/s]\n",
            " 36%|███▌      | 86/240 [00:00<00:00, 855.80it/s]"
          ],
          "name": "stderr"
        },
        {
          "output_type": "stream",
          "text": [
            "\t Loss 15: Training loss = 0.45899  Validation loss = 0.44621\t Validation Acc = 0.77778\n"
          ],
          "name": "stdout"
        },
        {
          "output_type": "stream",
          "text": [
            "100%|██████████| 240/240 [00:00<00:00, 1134.26it/s]\n",
            " 34%|███▍      | 81/240 [00:00<00:00, 805.50it/s]"
          ],
          "name": "stderr"
        },
        {
          "output_type": "stream",
          "text": [
            "\t Loss 16: Training loss = 0.45182  Validation loss = 0.44005\t Validation Acc = 0.78333\n"
          ],
          "name": "stdout"
        },
        {
          "output_type": "stream",
          "text": [
            "100%|██████████| 240/240 [00:00<00:00, 1122.25it/s]\n",
            " 34%|███▍      | 82/240 [00:00<00:00, 816.22it/s]"
          ],
          "name": "stderr"
        },
        {
          "output_type": "stream",
          "text": [
            "\t Loss 17: Training loss = 0.44575  Validation loss = 0.43558\t Validation Acc = 0.79444\n"
          ],
          "name": "stdout"
        },
        {
          "output_type": "stream",
          "text": [
            "100%|██████████| 240/240 [00:00<00:00, 1115.78it/s]\n",
            " 34%|███▍      | 81/240 [00:00<00:00, 809.98it/s]"
          ],
          "name": "stderr"
        },
        {
          "output_type": "stream",
          "text": [
            "\t Loss 18: Training loss = 0.43957  Validation loss = 0.43050\t Validation Acc = 0.81111\n"
          ],
          "name": "stdout"
        },
        {
          "output_type": "stream",
          "text": [
            "100%|██████████| 240/240 [00:00<00:00, 1144.84it/s]\n",
            " 33%|███▎      | 79/240 [00:00<00:00, 785.48it/s]"
          ],
          "name": "stderr"
        },
        {
          "output_type": "stream",
          "text": [
            "\t Loss 19: Training loss = 0.43574  Validation loss = 0.42906\t Validation Acc = 0.81667\n"
          ],
          "name": "stdout"
        },
        {
          "output_type": "stream",
          "text": [
            "100%|██████████| 240/240 [00:00<00:00, 1129.83it/s]\n",
            " 34%|███▍      | 82/240 [00:00<00:00, 816.77it/s]"
          ],
          "name": "stderr"
        },
        {
          "output_type": "stream",
          "text": [
            "\t Loss 20: Training loss = 0.43017  Validation loss = 0.42480\t Validation Acc = 0.82222\n"
          ],
          "name": "stdout"
        },
        {
          "output_type": "stream",
          "text": [
            "100%|██████████| 240/240 [00:00<00:00, 1112.75it/s]\n",
            " 36%|███▌      | 86/240 [00:00<00:00, 855.99it/s]"
          ],
          "name": "stderr"
        },
        {
          "output_type": "stream",
          "text": [
            "\t Loss 21: Training loss = 0.42673  Validation loss = 0.42341\t Validation Acc = 0.83333\n"
          ],
          "name": "stdout"
        },
        {
          "output_type": "stream",
          "text": [
            "100%|██████████| 240/240 [00:00<00:00, 1147.41it/s]\n",
            " 33%|███▎      | 80/240 [00:00<00:00, 798.89it/s]"
          ],
          "name": "stderr"
        },
        {
          "output_type": "stream",
          "text": [
            "\t Loss 22: Training loss = 0.42191  Validation loss = 0.41994\t Validation Acc = 0.85556\n"
          ],
          "name": "stdout"
        },
        {
          "output_type": "stream",
          "text": [
            "100%|██████████| 240/240 [00:00<00:00, 1122.08it/s]\n",
            " 34%|███▍      | 81/240 [00:00<00:00, 809.20it/s]"
          ],
          "name": "stderr"
        },
        {
          "output_type": "stream",
          "text": [
            "\t Loss 23: Training loss = 0.41778  Validation loss = 0.41733\t Validation Acc = 0.86111\n"
          ],
          "name": "stdout"
        },
        {
          "output_type": "stream",
          "text": [
            "100%|██████████| 240/240 [00:00<00:00, 1146.86it/s]\n",
            " 34%|███▍      | 82/240 [00:00<00:00, 819.74it/s]"
          ],
          "name": "stderr"
        },
        {
          "output_type": "stream",
          "text": [
            "\t Loss 24: Training loss = 0.41278  Validation loss = 0.41359\t Validation Acc = 0.86111\n"
          ],
          "name": "stdout"
        },
        {
          "output_type": "stream",
          "text": [
            "100%|██████████| 240/240 [00:00<00:00, 1133.86it/s]\n",
            " 33%|███▎      | 79/240 [00:00<00:00, 785.19it/s]"
          ],
          "name": "stderr"
        },
        {
          "output_type": "stream",
          "text": [
            "\t Loss 25: Training loss = 0.41204  Validation loss = 0.41531\t Validation Acc = 0.87222\n"
          ],
          "name": "stdout"
        },
        {
          "output_type": "stream",
          "text": [
            "100%|██████████| 240/240 [00:00<00:00, 1139.74it/s]\n",
            " 35%|███▌      | 84/240 [00:00<00:00, 836.06it/s]"
          ],
          "name": "stderr"
        },
        {
          "output_type": "stream",
          "text": [
            "\t Loss 26: Training loss = 0.40827  Validation loss = 0.41298\t Validation Acc = 0.88333\n"
          ],
          "name": "stdout"
        },
        {
          "output_type": "stream",
          "text": [
            "100%|██████████| 240/240 [00:00<00:00, 1135.75it/s]\n",
            " 34%|███▍      | 82/240 [00:00<00:00, 817.70it/s]"
          ],
          "name": "stderr"
        },
        {
          "output_type": "stream",
          "text": [
            "\t Loss 27: Training loss = 0.40088  Validation loss = 0.40605\t Validation Acc = 0.88889\n"
          ],
          "name": "stdout"
        },
        {
          "output_type": "stream",
          "text": [
            "100%|██████████| 240/240 [00:00<00:00, 1128.79it/s]\n",
            " 35%|███▍      | 83/240 [00:00<00:00, 825.70it/s]"
          ],
          "name": "stderr"
        },
        {
          "output_type": "stream",
          "text": [
            "\t Loss 28: Training loss = 0.39550  Validation loss = 0.40171\t Validation Acc = 0.88889\n"
          ],
          "name": "stdout"
        },
        {
          "output_type": "stream",
          "text": [
            "100%|██████████| 240/240 [00:00<00:00, 1149.07it/s]\n",
            " 33%|███▎      | 80/240 [00:00<00:00, 796.49it/s]"
          ],
          "name": "stderr"
        },
        {
          "output_type": "stream",
          "text": [
            "\t Loss 29: Training loss = 0.39777  Validation loss = 0.40683\t Validation Acc = 0.89444\n"
          ],
          "name": "stdout"
        },
        {
          "output_type": "stream",
          "text": [
            "100%|██████████| 240/240 [00:00<00:00, 1122.08it/s]\n",
            " 35%|███▍      | 83/240 [00:00<00:00, 828.26it/s]"
          ],
          "name": "stderr"
        },
        {
          "output_type": "stream",
          "text": [
            "\t Loss 30: Training loss = 0.39452  Validation loss = 0.40499\t Validation Acc = 0.90000\n"
          ],
          "name": "stdout"
        },
        {
          "output_type": "stream",
          "text": [
            "100%|██████████| 240/240 [00:00<00:00, 1140.88it/s]\n",
            " 35%|███▌      | 84/240 [00:00<00:00, 838.32it/s]"
          ],
          "name": "stderr"
        },
        {
          "output_type": "stream",
          "text": [
            "\t Loss 31: Training loss = 0.38711  Validation loss = 0.39815\t Validation Acc = 0.90000\n"
          ],
          "name": "stdout"
        },
        {
          "output_type": "stream",
          "text": [
            "100%|██████████| 240/240 [00:00<00:00, 1179.43it/s]\n",
            " 35%|███▌      | 85/240 [00:00<00:00, 847.23it/s]"
          ],
          "name": "stderr"
        },
        {
          "output_type": "stream",
          "text": [
            "\t Loss 32: Training loss = 0.38675  Validation loss = 0.39981\t Validation Acc = 0.89444\n"
          ],
          "name": "stdout"
        },
        {
          "output_type": "stream",
          "text": [
            "100%|██████████| 240/240 [00:00<00:00, 1153.28it/s]\n",
            " 35%|███▌      | 85/240 [00:00<00:00, 847.85it/s]"
          ],
          "name": "stderr"
        },
        {
          "output_type": "stream",
          "text": [
            "\t Loss 33: Training loss = 0.38578  Validation loss = 0.40068\t Validation Acc = 0.90000\n"
          ],
          "name": "stdout"
        },
        {
          "output_type": "stream",
          "text": [
            "100%|██████████| 240/240 [00:00<00:00, 1141.25it/s]\n",
            " 35%|███▍      | 83/240 [00:00<00:00, 824.88it/s]"
          ],
          "name": "stderr"
        },
        {
          "output_type": "stream",
          "text": [
            "\t Loss 34: Training loss = 0.37918  Validation loss = 0.39476\t Validation Acc = 0.90556\n"
          ],
          "name": "stdout"
        },
        {
          "output_type": "stream",
          "text": [
            "100%|██████████| 240/240 [00:00<00:00, 1126.73it/s]\n",
            " 33%|███▎      | 79/240 [00:00<00:00, 786.67it/s]"
          ],
          "name": "stderr"
        },
        {
          "output_type": "stream",
          "text": [
            "\t Loss 35: Training loss = 0.37253  Validation loss = 0.38877\t Validation Acc = 0.90556\n"
          ],
          "name": "stdout"
        },
        {
          "output_type": "stream",
          "text": [
            "100%|██████████| 240/240 [00:00<00:00, 1138.68it/s]\n",
            " 35%|███▌      | 85/240 [00:00<00:00, 848.18it/s]"
          ],
          "name": "stderr"
        },
        {
          "output_type": "stream",
          "text": [
            "\t Loss 36: Training loss = 0.37030  Validation loss = 0.38802\t Validation Acc = 0.91111\n"
          ],
          "name": "stdout"
        },
        {
          "output_type": "stream",
          "text": [
            "100%|██████████| 240/240 [00:00<00:00, 1142.26it/s]\n",
            " 35%|███▌      | 84/240 [00:00<00:00, 834.76it/s]"
          ],
          "name": "stderr"
        },
        {
          "output_type": "stream",
          "text": [
            "\t Loss 37: Training loss = 0.36464  Validation loss = 0.38321\t Validation Acc = 0.91111\n"
          ],
          "name": "stdout"
        },
        {
          "output_type": "stream",
          "text": [
            "100%|██████████| 240/240 [00:00<00:00, 968.25it/s]\n",
            " 33%|███▎      | 80/240 [00:00<00:00, 799.04it/s]"
          ],
          "name": "stderr"
        },
        {
          "output_type": "stream",
          "text": [
            "\t Loss 38: Training loss = 0.35884  Validation loss = 0.37828\t Validation Acc = 0.91111\n"
          ],
          "name": "stdout"
        },
        {
          "output_type": "stream",
          "text": [
            "100%|██████████| 240/240 [00:00<00:00, 1133.09it/s]\n",
            " 35%|███▍      | 83/240 [00:00<00:00, 829.96it/s]"
          ],
          "name": "stderr"
        },
        {
          "output_type": "stream",
          "text": [
            "\t Loss 39: Training loss = 0.35325  Validation loss = 0.37357\t Validation Acc = 0.91111\n"
          ],
          "name": "stdout"
        },
        {
          "output_type": "stream",
          "text": [
            "100%|██████████| 240/240 [00:00<00:00, 1110.11it/s]\n",
            " 35%|███▌      | 84/240 [00:00<00:00, 836.23it/s]"
          ],
          "name": "stderr"
        },
        {
          "output_type": "stream",
          "text": [
            "\t Loss 40: Training loss = 0.34925  Validation loss = 0.37073\t Validation Acc = 0.91667\n"
          ],
          "name": "stdout"
        },
        {
          "output_type": "stream",
          "text": [
            "100%|██████████| 240/240 [00:00<00:00, 1172.33it/s]\n",
            " 33%|███▎      | 80/240 [00:00<00:00, 799.29it/s]"
          ],
          "name": "stderr"
        },
        {
          "output_type": "stream",
          "text": [
            "\t Loss 41: Training loss = 0.34259  Validation loss = 0.36478\t Validation Acc = 0.91667\n"
          ],
          "name": "stdout"
        },
        {
          "output_type": "stream",
          "text": [
            "100%|██████████| 240/240 [00:00<00:00, 1149.63it/s]\n",
            " 35%|███▍      | 83/240 [00:00<00:00, 829.22it/s]"
          ],
          "name": "stderr"
        },
        {
          "output_type": "stream",
          "text": [
            "\t Loss 42: Training loss = 0.33972  Validation loss = 0.36324\t Validation Acc = 0.91667\n"
          ],
          "name": "stdout"
        },
        {
          "output_type": "stream",
          "text": [
            "100%|██████████| 240/240 [00:00<00:00, 1131.01it/s]\n",
            " 35%|███▌      | 84/240 [00:00<00:00, 839.52it/s]"
          ],
          "name": "stderr"
        },
        {
          "output_type": "stream",
          "text": [
            "\t Loss 43: Training loss = 0.32966  Validation loss = 0.35336\t Validation Acc = 0.91667\n"
          ],
          "name": "stdout"
        },
        {
          "output_type": "stream",
          "text": [
            "100%|██████████| 240/240 [00:00<00:00, 1128.92it/s]\n",
            " 34%|███▍      | 81/240 [00:00<00:00, 809.59it/s]"
          ],
          "name": "stderr"
        },
        {
          "output_type": "stream",
          "text": [
            "\t Loss 44: Training loss = 0.32096  Validation loss = 0.34511\t Validation Acc = 0.91667\n"
          ],
          "name": "stdout"
        },
        {
          "output_type": "stream",
          "text": [
            "100%|██████████| 240/240 [00:00<00:00, 1137.42it/s]\n",
            " 35%|███▌      | 85/240 [00:00<00:00, 849.93it/s]"
          ],
          "name": "stderr"
        },
        {
          "output_type": "stream",
          "text": [
            "\t Loss 45: Training loss = 0.31877  Validation loss = 0.34439\t Validation Acc = 0.91667\n"
          ],
          "name": "stdout"
        },
        {
          "output_type": "stream",
          "text": [
            "100%|██████████| 240/240 [00:00<00:00, 1140.91it/s]\n",
            " 35%|███▍      | 83/240 [00:00<00:00, 829.90it/s]"
          ],
          "name": "stderr"
        },
        {
          "output_type": "stream",
          "text": [
            "\t Loss 46: Training loss = 0.31128  Validation loss = 0.33759\t Validation Acc = 0.91667\n"
          ],
          "name": "stdout"
        },
        {
          "output_type": "stream",
          "text": [
            "100%|██████████| 240/240 [00:00<00:00, 1134.42it/s]\n",
            " 32%|███▎      | 78/240 [00:00<00:00, 774.52it/s]"
          ],
          "name": "stderr"
        },
        {
          "output_type": "stream",
          "text": [
            "\t Loss 47: Training loss = 0.30970  Validation loss = 0.33759\t Validation Acc = 0.91667\n"
          ],
          "name": "stdout"
        },
        {
          "output_type": "stream",
          "text": [
            "100%|██████████| 240/240 [00:00<00:00, 1088.65it/s]\n",
            " 34%|███▍      | 82/240 [00:00<00:00, 819.03it/s]"
          ],
          "name": "stderr"
        },
        {
          "output_type": "stream",
          "text": [
            "\t Loss 48: Training loss = 0.30028  Validation loss = 0.32860\t Validation Acc = 0.91667\n"
          ],
          "name": "stdout"
        },
        {
          "output_type": "stream",
          "text": [
            "100%|██████████| 240/240 [00:00<00:00, 1130.24it/s]\n",
            " 34%|███▍      | 82/240 [00:00<00:00, 819.22it/s]"
          ],
          "name": "stderr"
        },
        {
          "output_type": "stream",
          "text": [
            "\t Loss 49: Training loss = 0.30259  Validation loss = 0.33302\t Validation Acc = 0.91667\n"
          ],
          "name": "stdout"
        },
        {
          "output_type": "stream",
          "text": [
            "100%|██████████| 240/240 [00:00<00:00, 1128.20it/s]\n",
            " 33%|███▎      | 80/240 [00:00<00:00, 796.65it/s]"
          ],
          "name": "stderr"
        },
        {
          "output_type": "stream",
          "text": [
            "\t Loss 50: Training loss = 0.28616  Validation loss = 0.31599\t Validation Acc = 0.91667\n"
          ],
          "name": "stdout"
        },
        {
          "output_type": "stream",
          "text": [
            "100%|██████████| 240/240 [00:00<00:00, 1118.68it/s]\n",
            " 33%|███▎      | 80/240 [00:00<00:00, 799.25it/s]"
          ],
          "name": "stderr"
        },
        {
          "output_type": "stream",
          "text": [
            "\t Loss 51: Training loss = 0.29381  Validation loss = 0.32636\t Validation Acc = 0.91111\n"
          ],
          "name": "stdout"
        },
        {
          "output_type": "stream",
          "text": [
            "100%|██████████| 240/240 [00:00<00:00, 1130.55it/s]\n",
            " 35%|███▌      | 84/240 [00:00<00:00, 836.37it/s]"
          ],
          "name": "stderr"
        },
        {
          "output_type": "stream",
          "text": [
            "\t Loss 52: Training loss = 0.27737  Validation loss = 0.30894\t Validation Acc = 0.91667\n"
          ],
          "name": "stdout"
        },
        {
          "output_type": "stream",
          "text": [
            "100%|██████████| 240/240 [00:00<00:00, 1164.66it/s]\n",
            " 34%|███▍      | 81/240 [00:00<00:00, 808.72it/s]"
          ],
          "name": "stderr"
        },
        {
          "output_type": "stream",
          "text": [
            "\t Loss 53: Training loss = 0.28267  Validation loss = 0.31636\t Validation Acc = 0.91111\n"
          ],
          "name": "stdout"
        },
        {
          "output_type": "stream",
          "text": [
            "100%|██████████| 240/240 [00:00<00:00, 1141.74it/s]\n",
            " 35%|███▍      | 83/240 [00:00<00:00, 827.22it/s]"
          ],
          "name": "stderr"
        },
        {
          "output_type": "stream",
          "text": [
            "\t Loss 54: Training loss = 0.27174  Validation loss = 0.30521\t Validation Acc = 0.91111\n"
          ],
          "name": "stdout"
        },
        {
          "output_type": "stream",
          "text": [
            "100%|██████████| 240/240 [00:00<00:00, 1124.72it/s]\n",
            " 34%|███▍      | 82/240 [00:00<00:00, 817.96it/s]"
          ],
          "name": "stderr"
        },
        {
          "output_type": "stream",
          "text": [
            "\t Loss 55: Training loss = 0.27409  Validation loss = 0.30915\t Validation Acc = 0.91111\n"
          ],
          "name": "stdout"
        },
        {
          "output_type": "stream",
          "text": [
            "100%|██████████| 240/240 [00:00<00:00, 1142.72it/s]\n",
            " 34%|███▍      | 82/240 [00:00<00:00, 818.92it/s]"
          ],
          "name": "stderr"
        },
        {
          "output_type": "stream",
          "text": [
            "\t Loss 56: Training loss = 0.26352  Validation loss = 0.29834\t Validation Acc = 0.91111\n"
          ],
          "name": "stdout"
        },
        {
          "output_type": "stream",
          "text": [
            "100%|██████████| 240/240 [00:00<00:00, 1115.89it/s]\n",
            " 34%|███▍      | 82/240 [00:00<00:00, 818.57it/s]"
          ],
          "name": "stderr"
        },
        {
          "output_type": "stream",
          "text": [
            "\t Loss 57: Training loss = 0.25551  Validation loss = 0.29037\t Validation Acc = 0.91111\n"
          ],
          "name": "stdout"
        },
        {
          "output_type": "stream",
          "text": [
            "100%|██████████| 240/240 [00:00<00:00, 1117.81it/s]\n",
            " 35%|███▌      | 85/240 [00:00<00:00, 847.67it/s]"
          ],
          "name": "stderr"
        },
        {
          "output_type": "stream",
          "text": [
            "\t Loss 58: Training loss = 0.25915  Validation loss = 0.29566\t Validation Acc = 0.91667\n"
          ],
          "name": "stdout"
        },
        {
          "output_type": "stream",
          "text": [
            "100%|██████████| 240/240 [00:00<00:00, 1150.79it/s]\n",
            " 35%|███▍      | 83/240 [00:00<00:00, 828.74it/s]"
          ],
          "name": "stderr"
        },
        {
          "output_type": "stream",
          "text": [
            "\t Loss 59: Training loss = 0.24223  Validation loss = 0.27736\t Validation Acc = 0.91111\n"
          ],
          "name": "stdout"
        },
        {
          "output_type": "stream",
          "text": [
            "100%|██████████| 240/240 [00:00<00:00, 1123.13it/s]\n",
            " 35%|███▌      | 85/240 [00:00<00:00, 849.22it/s]"
          ],
          "name": "stderr"
        },
        {
          "output_type": "stream",
          "text": [
            "\t Loss 60: Training loss = 0.27892  Validation loss = 0.32001\t Validation Acc = 0.92778\n"
          ],
          "name": "stdout"
        },
        {
          "output_type": "stream",
          "text": [
            "100%|██████████| 240/240 [00:00<00:00, 981.18it/s]\n",
            " 34%|███▍      | 82/240 [00:00<00:00, 818.68it/s]"
          ],
          "name": "stderr"
        },
        {
          "output_type": "stream",
          "text": [
            "\t Loss 61: Training loss = 0.23546  Validation loss = 0.27163\t Validation Acc = 0.91111\n"
          ],
          "name": "stdout"
        },
        {
          "output_type": "stream",
          "text": [
            "100%|██████████| 240/240 [00:00<00:00, 1159.03it/s]\n",
            " 35%|███▍      | 83/240 [00:00<00:00, 829.70it/s]"
          ],
          "name": "stderr"
        },
        {
          "output_type": "stream",
          "text": [
            "\t Loss 62: Training loss = 0.23521  Validation loss = 0.27235\t Validation Acc = 0.92222\n"
          ],
          "name": "stdout"
        },
        {
          "output_type": "stream",
          "text": [
            "100%|██████████| 240/240 [00:00<00:00, 1126.02it/s]\n",
            " 34%|███▍      | 82/240 [00:00<00:00, 818.80it/s]"
          ],
          "name": "stderr"
        },
        {
          "output_type": "stream",
          "text": [
            "\t Loss 63: Training loss = 0.24020  Validation loss = 0.27899\t Validation Acc = 0.92778\n"
          ],
          "name": "stdout"
        },
        {
          "output_type": "stream",
          "text": [
            "100%|██████████| 240/240 [00:00<00:00, 1130.25it/s]\n",
            " 34%|███▍      | 82/240 [00:00<00:00, 817.25it/s]"
          ],
          "name": "stderr"
        },
        {
          "output_type": "stream",
          "text": [
            "\t Loss 64: Training loss = 0.22525  Validation loss = 0.26284\t Validation Acc = 0.92778\n"
          ],
          "name": "stdout"
        },
        {
          "output_type": "stream",
          "text": [
            "100%|██████████| 240/240 [00:00<00:00, 1141.11it/s]\n",
            " 36%|███▌      | 86/240 [00:00<00:00, 852.02it/s]"
          ],
          "name": "stderr"
        },
        {
          "output_type": "stream",
          "text": [
            "\t Loss 65: Training loss = 0.23030  Validation loss = 0.26941\t Validation Acc = 0.92778\n"
          ],
          "name": "stdout"
        },
        {
          "output_type": "stream",
          "text": [
            "100%|██████████| 240/240 [00:00<00:00, 1132.83it/s]\n",
            " 35%|███▌      | 85/240 [00:00<00:00, 845.39it/s]"
          ],
          "name": "stderr"
        },
        {
          "output_type": "stream",
          "text": [
            "\t Loss 66: Training loss = 0.21919  Validation loss = 0.25761\t Validation Acc = 0.92778\n"
          ],
          "name": "stdout"
        },
        {
          "output_type": "stream",
          "text": [
            "100%|██████████| 240/240 [00:00<00:00, 1136.48it/s]\n",
            " 33%|███▎      | 80/240 [00:00<00:00, 799.67it/s]"
          ],
          "name": "stderr"
        },
        {
          "output_type": "stream",
          "text": [
            "\t Loss 67: Training loss = 0.21787  Validation loss = 0.25672\t Validation Acc = 0.92778\n"
          ],
          "name": "stdout"
        },
        {
          "output_type": "stream",
          "text": [
            "100%|██████████| 240/240 [00:00<00:00, 1122.71it/s]\n",
            " 35%|███▌      | 84/240 [00:00<00:00, 839.22it/s]"
          ],
          "name": "stderr"
        },
        {
          "output_type": "stream",
          "text": [
            "\t Loss 68: Training loss = 0.22298  Validation loss = 0.26329\t Validation Acc = 0.92778\n"
          ],
          "name": "stdout"
        },
        {
          "output_type": "stream",
          "text": [
            "100%|██████████| 240/240 [00:00<00:00, 1189.84it/s]\n",
            " 33%|███▎      | 80/240 [00:00<00:00, 794.41it/s]"
          ],
          "name": "stderr"
        },
        {
          "output_type": "stream",
          "text": [
            "\t Loss 69: Training loss = 0.20894  Validation loss = 0.24794\t Validation Acc = 0.92778\n"
          ],
          "name": "stdout"
        },
        {
          "output_type": "stream",
          "text": [
            "100%|██████████| 240/240 [00:00<00:00, 1124.45it/s]\n",
            " 35%|███▍      | 83/240 [00:00<00:00, 829.04it/s]"
          ],
          "name": "stderr"
        },
        {
          "output_type": "stream",
          "text": [
            "\t Loss 70: Training loss = 0.21792  Validation loss = 0.25891\t Validation Acc = 0.92778\n"
          ],
          "name": "stdout"
        },
        {
          "output_type": "stream",
          "text": [
            "100%|██████████| 240/240 [00:00<00:00, 1129.85it/s]\n",
            " 33%|███▎      | 79/240 [00:00<00:00, 788.68it/s]"
          ],
          "name": "stderr"
        },
        {
          "output_type": "stream",
          "text": [
            "\t Loss 71: Training loss = 0.25140  Validation loss = 0.29735\t Validation Acc = 0.93333\n"
          ],
          "name": "stdout"
        },
        {
          "output_type": "stream",
          "text": [
            "100%|██████████| 240/240 [00:00<00:00, 1124.84it/s]\n",
            " 33%|███▎      | 79/240 [00:00<00:00, 785.22it/s]"
          ],
          "name": "stderr"
        },
        {
          "output_type": "stream",
          "text": [
            "\t Loss 72: Training loss = 0.20003  Validation loss = 0.23944\t Validation Acc = 0.92778\n"
          ],
          "name": "stdout"
        },
        {
          "output_type": "stream",
          "text": [
            "100%|██████████| 240/240 [00:00<00:00, 1129.05it/s]\n",
            " 35%|███▍      | 83/240 [00:00<00:00, 825.37it/s]"
          ],
          "name": "stderr"
        },
        {
          "output_type": "stream",
          "text": [
            "\t Loss 73: Training loss = 0.20063  Validation loss = 0.24079\t Validation Acc = 0.92778\n"
          ],
          "name": "stdout"
        },
        {
          "output_type": "stream",
          "text": [
            "100%|██████████| 240/240 [00:00<00:00, 1139.83it/s]\n",
            " 35%|███▍      | 83/240 [00:00<00:00, 826.81it/s]"
          ],
          "name": "stderr"
        },
        {
          "output_type": "stream",
          "text": [
            "\t Loss 74: Training loss = 0.20164  Validation loss = 0.24254\t Validation Acc = 0.93333\n"
          ],
          "name": "stdout"
        },
        {
          "output_type": "stream",
          "text": [
            "100%|██████████| 240/240 [00:00<00:00, 1147.82it/s]\n",
            " 33%|███▎      | 79/240 [00:00<00:00, 786.60it/s]"
          ],
          "name": "stderr"
        },
        {
          "output_type": "stream",
          "text": [
            "\t Loss 75: Training loss = 0.22993  Validation loss = 0.27520\t Validation Acc = 0.92778\n"
          ],
          "name": "stdout"
        },
        {
          "output_type": "stream",
          "text": [
            "100%|██████████| 240/240 [00:00<00:00, 1124.74it/s]\n",
            " 35%|███▍      | 83/240 [00:00<00:00, 829.22it/s]"
          ],
          "name": "stderr"
        },
        {
          "output_type": "stream",
          "text": [
            "\t Loss 76: Training loss = 0.19841  Validation loss = 0.23985\t Validation Acc = 0.93333\n"
          ],
          "name": "stdout"
        },
        {
          "output_type": "stream",
          "text": [
            "100%|██████████| 240/240 [00:00<00:00, 1151.55it/s]\n",
            " 35%|███▌      | 84/240 [00:00<00:00, 836.06it/s]"
          ],
          "name": "stderr"
        },
        {
          "output_type": "stream",
          "text": [
            "\t Loss 77: Training loss = 0.18936  Validation loss = 0.22984\t Validation Acc = 0.93333\n"
          ],
          "name": "stdout"
        },
        {
          "output_type": "stream",
          "text": [
            "100%|██████████| 240/240 [00:00<00:00, 1134.75it/s]\n",
            " 35%|███▌      | 84/240 [00:00<00:00, 838.98it/s]"
          ],
          "name": "stderr"
        },
        {
          "output_type": "stream",
          "text": [
            "\t Loss 78: Training loss = 0.19194  Validation loss = 0.23334\t Validation Acc = 0.93333\n"
          ],
          "name": "stdout"
        },
        {
          "output_type": "stream",
          "text": [
            "100%|██████████| 240/240 [00:00<00:00, 1170.80it/s]\n",
            " 32%|███▎      | 78/240 [00:00<00:00, 774.88it/s]"
          ],
          "name": "stderr"
        },
        {
          "output_type": "stream",
          "text": [
            "\t Loss 79: Training loss = 0.19743  Validation loss = 0.24012\t Validation Acc = 0.92778\n"
          ],
          "name": "stdout"
        },
        {
          "output_type": "stream",
          "text": [
            "100%|██████████| 240/240 [00:00<00:00, 1120.81it/s]\n",
            " 35%|███▍      | 83/240 [00:00<00:00, 827.17it/s]"
          ],
          "name": "stderr"
        },
        {
          "output_type": "stream",
          "text": [
            "\t Loss 80: Training loss = 0.19103  Validation loss = 0.23317\t Validation Acc = 0.92778\n"
          ],
          "name": "stdout"
        },
        {
          "output_type": "stream",
          "text": [
            "100%|██████████| 240/240 [00:00<00:00, 1126.75it/s]\n",
            " 35%|███▌      | 84/240 [00:00<00:00, 839.15it/s]"
          ],
          "name": "stderr"
        },
        {
          "output_type": "stream",
          "text": [
            "\t Loss 81: Training loss = 0.19306  Validation loss = 0.23586\t Validation Acc = 0.92778\n"
          ],
          "name": "stdout"
        },
        {
          "output_type": "stream",
          "text": [
            "100%|██████████| 240/240 [00:00<00:00, 1130.58it/s]\n",
            " 33%|███▎      | 79/240 [00:00<00:00, 786.66it/s]"
          ],
          "name": "stderr"
        },
        {
          "output_type": "stream",
          "text": [
            "\t Loss 82: Training loss = 0.17912  Validation loss = 0.22029\t Validation Acc = 0.93333\n"
          ],
          "name": "stdout"
        },
        {
          "output_type": "stream",
          "text": [
            "100%|██████████| 240/240 [00:00<00:00, 1129.73it/s]\n",
            " 35%|███▍      | 83/240 [00:00<00:00, 826.12it/s]"
          ],
          "name": "stderr"
        },
        {
          "output_type": "stream",
          "text": [
            "\t Loss 83: Training loss = 0.17914  Validation loss = 0.22072\t Validation Acc = 0.93333\n"
          ],
          "name": "stdout"
        },
        {
          "output_type": "stream",
          "text": [
            "100%|██████████| 240/240 [00:00<00:00, 1125.30it/s]\n",
            " 34%|███▍      | 81/240 [00:00<00:00, 808.16it/s]"
          ],
          "name": "stderr"
        },
        {
          "output_type": "stream",
          "text": [
            "\t Loss 84: Training loss = 0.18905  Validation loss = 0.23270\t Validation Acc = 0.92778\n"
          ],
          "name": "stdout"
        },
        {
          "output_type": "stream",
          "text": [
            "100%|██████████| 240/240 [00:00<00:00, 1118.36it/s]\n",
            " 34%|███▍      | 81/240 [00:00<00:00, 806.54it/s]"
          ],
          "name": "stderr"
        },
        {
          "output_type": "stream",
          "text": [
            "\t Loss 85: Training loss = 0.17575  Validation loss = 0.21756\t Validation Acc = 0.92778\n"
          ],
          "name": "stdout"
        },
        {
          "output_type": "stream",
          "text": [
            "100%|██████████| 240/240 [00:00<00:00, 1124.48it/s]\n",
            " 35%|███▌      | 84/240 [00:00<00:00, 836.88it/s]"
          ],
          "name": "stderr"
        },
        {
          "output_type": "stream",
          "text": [
            "\t Loss 86: Training loss = 0.18077  Validation loss = 0.22391\t Validation Acc = 0.93333\n"
          ],
          "name": "stdout"
        },
        {
          "output_type": "stream",
          "text": [
            "100%|██████████| 240/240 [00:00<00:00, 1122.31it/s]\n",
            " 36%|███▌      | 86/240 [00:00<00:00, 859.53it/s]"
          ],
          "name": "stderr"
        },
        {
          "output_type": "stream",
          "text": [
            "\t Loss 87: Training loss = 0.17857  Validation loss = 0.22175\t Validation Acc = 0.93333\n"
          ],
          "name": "stdout"
        },
        {
          "output_type": "stream",
          "text": [
            "100%|██████████| 240/240 [00:00<00:00, 1190.00it/s]\n",
            " 35%|███▌      | 85/240 [00:00<00:00, 847.20it/s]"
          ],
          "name": "stderr"
        },
        {
          "output_type": "stream",
          "text": [
            "\t Loss 88: Training loss = 0.17641  Validation loss = 0.21959\t Validation Acc = 0.93333\n"
          ],
          "name": "stdout"
        },
        {
          "output_type": "stream",
          "text": [
            "100%|██████████| 240/240 [00:00<00:00, 1130.08it/s]\n",
            " 35%|███▌      | 85/240 [00:00<00:00, 845.36it/s]"
          ],
          "name": "stderr"
        },
        {
          "output_type": "stream",
          "text": [
            "\t Loss 89: Training loss = 0.17052  Validation loss = 0.21320\t Validation Acc = 0.93333\n"
          ],
          "name": "stdout"
        },
        {
          "output_type": "stream",
          "text": [
            "100%|██████████| 240/240 [00:00<00:00, 1145.94it/s]\n",
            " 34%|███▍      | 81/240 [00:00<00:00, 807.65it/s]"
          ],
          "name": "stderr"
        },
        {
          "output_type": "stream",
          "text": [
            "\t Loss 90: Training loss = 0.18185  Validation loss = 0.22697\t Validation Acc = 0.92778\n"
          ],
          "name": "stdout"
        },
        {
          "output_type": "stream",
          "text": [
            "100%|██████████| 240/240 [00:00<00:00, 1135.53it/s]\n",
            " 35%|███▍      | 83/240 [00:00<00:00, 827.54it/s]"
          ],
          "name": "stderr"
        },
        {
          "output_type": "stream",
          "text": [
            "\t Loss 91: Training loss = 0.16798  Validation loss = 0.21099\t Validation Acc = 0.93333\n"
          ],
          "name": "stdout"
        },
        {
          "output_type": "stream",
          "text": [
            "100%|██████████| 240/240 [00:00<00:00, 1132.36it/s]\n",
            " 35%|███▌      | 85/240 [00:00<00:00, 845.14it/s]"
          ],
          "name": "stderr"
        },
        {
          "output_type": "stream",
          "text": [
            "\t Loss 92: Training loss = 0.17046  Validation loss = 0.21451\t Validation Acc = 0.93333\n"
          ],
          "name": "stdout"
        },
        {
          "output_type": "stream",
          "text": [
            "100%|██████████| 240/240 [00:00<00:00, 1135.92it/s]\n",
            " 32%|███▎      | 78/240 [00:00<00:00, 774.51it/s]"
          ],
          "name": "stderr"
        },
        {
          "output_type": "stream",
          "text": [
            "\t Loss 93: Training loss = 0.17036  Validation loss = 0.21494\t Validation Acc = 0.93333\n"
          ],
          "name": "stdout"
        },
        {
          "output_type": "stream",
          "text": [
            "100%|██████████| 240/240 [00:00<00:00, 1116.19it/s]\n",
            " 36%|███▌      | 86/240 [00:00<00:00, 858.59it/s]"
          ],
          "name": "stderr"
        },
        {
          "output_type": "stream",
          "text": [
            "\t Loss 94: Training loss = 0.17428  Validation loss = 0.22005\t Validation Acc = 0.92222\n"
          ],
          "name": "stdout"
        },
        {
          "output_type": "stream",
          "text": [
            "100%|██████████| 240/240 [00:00<00:00, 1155.33it/s]\n",
            " 36%|███▌      | 86/240 [00:00<00:00, 856.17it/s]"
          ],
          "name": "stderr"
        },
        {
          "output_type": "stream",
          "text": [
            "\t Loss 95: Training loss = 0.16810  Validation loss = 0.21308\t Validation Acc = 0.93333\n"
          ],
          "name": "stdout"
        },
        {
          "output_type": "stream",
          "text": [
            "100%|██████████| 240/240 [00:00<00:00, 1145.24it/s]\n",
            " 33%|███▎      | 79/240 [00:00<00:00, 785.45it/s]"
          ],
          "name": "stderr"
        },
        {
          "output_type": "stream",
          "text": [
            "\t Loss 96: Training loss = 0.16397  Validation loss = 0.20863\t Validation Acc = 0.93333\n"
          ],
          "name": "stdout"
        },
        {
          "output_type": "stream",
          "text": [
            "100%|██████████| 240/240 [00:00<00:00, 1126.77it/s]\n",
            " 35%|███▌      | 84/240 [00:00<00:00, 839.48it/s]"
          ],
          "name": "stderr"
        },
        {
          "output_type": "stream",
          "text": [
            "\t Loss 97: Training loss = 0.16391  Validation loss = 0.20921\t Validation Acc = 0.93333\n"
          ],
          "name": "stdout"
        },
        {
          "output_type": "stream",
          "text": [
            "100%|██████████| 240/240 [00:00<00:00, 1135.09it/s]\n",
            " 35%|███▍      | 83/240 [00:00<00:00, 825.90it/s]"
          ],
          "name": "stderr"
        },
        {
          "output_type": "stream",
          "text": [
            "\t Loss 98: Training loss = 0.17289  Validation loss = 0.22013\t Validation Acc = 0.92778\n"
          ],
          "name": "stdout"
        },
        {
          "output_type": "stream",
          "text": [
            "100%|██████████| 240/240 [00:00<00:00, 1143.69it/s]\n",
            " 34%|███▍      | 82/240 [00:00<00:00, 818.11it/s]"
          ],
          "name": "stderr"
        },
        {
          "output_type": "stream",
          "text": [
            "\t Loss 99: Training loss = 0.16109  Validation loss = 0.20649\t Validation Acc = 0.93333\n"
          ],
          "name": "stdout"
        },
        {
          "output_type": "stream",
          "text": [
            "100%|██████████| 240/240 [00:00<00:00, 1143.17it/s]"
          ],
          "name": "stderr"
        },
        {
          "output_type": "stream",
          "text": [
            "\t Loss 100: Training loss = 0.16004  Validation loss = 0.20591\t Validation Acc = 0.93333\n"
          ],
          "name": "stdout"
        },
        {
          "output_type": "stream",
          "text": [
            "\n"
          ],
          "name": "stderr"
        }
      ]
    },
    {
      "metadata": {
        "id": "qbl9eEQrZauX",
        "colab_type": "code",
        "outputId": "3691a54f-a989-49d7-ae4b-79c1528dd867",
        "colab": {
          "base_uri": "https://localhost:8080/",
          "height": 694
        }
      },
      "cell_type": "code",
      "source": [
        "sns.set_style(\"darkgrid\")\n",
        "plt.plot(loss_plot)\n",
        "plt.plot(acc_plot)\n",
        "plt.show()\n",
        "plt.plot(loss_plot)\n",
        "plt.plot(train_plot)"
      ],
      "execution_count": 108,
      "outputs": [
        {
          "output_type": "display_data",
          "data": {
            "image/png": "[encoded data removed]",
            "text/plain": [
              "<matplotlib.figure.Figure at 0x7feb03b9bda0>"
            ]
          },
          "metadata": {
            "tags": []
          }
        },
        {
          "output_type": "execute_result",
          "data": {
            "text/plain": [
              "[<matplotlib.lines.Line2D at 0x7feb0cd0f4a8>]"
            ]
          },
          "metadata": {
            "tags": []
          },
          "execution_count": 108
        },
        {
          "output_type": "display_data",
          "data": {
            "image/png": "[encoded data removed]",
            "text/plain": [
              "<matplotlib.figure.Figure at 0x7feb07ab94a8>"
            ]
          },
          "metadata": {
            "tags": []
          }
        }
      ]
    },
    {
      "metadata": {
        "id": "bPsgRXIYABWN",
        "colab_type": "code",
        "outputId": "790e0499-9275-4533-fad4-cf1f175fc775",
        "colab": {
          "base_uri": "https://localhost:8080/",
          "height": 34
        }
      },
      "cell_type": "code",
      "source": [
        "images_feed, labels_feed = MNIST_DATASETS.validation.images, MNIST_DATASETS.validation.labels\n",
        "\n",
        "feed_dict = {\n",
        "    images_pl: np.reshape(images_feed, (-1, 28, 28, 1))\n",
        "            }\n",
        "with sess.as_default():\n",
        "  accuracy  = sess.run([logits], feed_dict = feed_dict)\n",
        "  \n",
        "  preds = np.argmax(accuracy[0], 1)\n",
        "  print(preds)"
      ],
      "execution_count": 0,
      "outputs": [
        {
          "output_type": "stream",
          "text": [
            "[5 0 4 ... 2 1 2]\n"
          ],
          "name": "stdout"
        }
      ]
    },
    {
      "metadata": {
        "id": "Zl6bKEbGa2Ay",
        "colab_type": "code",
        "outputId": "07a13f1a-b101-4dc7-b37c-0eb043e34b93",
        "colab": {
          "base_uri": "https://localhost:8080/",
          "height": 272
        }
      },
      "cell_type": "code",
      "source": [
        "from sklearn.metrics import classification_report\n",
        "print(classification_report(labels_feed, preds))"
      ],
      "execution_count": 0,
      "outputs": [
        {
          "output_type": "stream",
          "text": [
            "             precision    recall  f1-score   support\n",
            "\n",
            "          0       0.99      0.99      0.99       479\n",
            "          1       0.97      0.98      0.97       563\n",
            "          2       0.98      0.93      0.96       488\n",
            "          3       0.98      0.96      0.97       493\n",
            "          4       0.98      0.98      0.98       535\n",
            "          5       0.96      0.98      0.97       434\n",
            "          6       0.98      0.98      0.98       501\n",
            "          7       0.96      0.97      0.97       550\n",
            "          8       0.96      0.97      0.97       462\n",
            "          9       0.96      0.96      0.96       495\n",
            "\n",
            "avg / total       0.97      0.97      0.97      5000\n",
            "\n"
          ],
          "name": "stdout"
        }
      ]
    },
    {
      "metadata": {
        "id": "c5xuDiGTi2Pv",
        "colab_type": "code",
        "outputId": "dd8f7495-7389-4fda-ece7-3f762849dc41",
        "colab": {
          "base_uri": "https://localhost:8080/",
          "height": 187
        }
      },
      "cell_type": "code",
      "source": [
        "from sklearn.metrics import confusion_matrix\n",
        "print(confusion_matrix(labels_feed, preds))"
      ],
      "execution_count": 0,
      "outputs": [
        {
          "output_type": "stream",
          "text": [
            "[[473   0   0   0   0   2   2   0   0   2]\n",
            " [  0 553   2   2   1   0   1   2   2   0]\n",
            " [  1  10 454   5   1   1   0   7   8   1]\n",
            " [  0   1   2 475   0   7   0   5   2   1]\n",
            " [  0   1   0   0 526   0   4   1   0   3]\n",
            " [  0   1   1   0   1 427   0   0   3   1]\n",
            " [  3   2   0   0   1   1 493   0   1   0]\n",
            " [  0   2   2   1   3   0   0 536   0   6]\n",
            " [  0   2   0   1   0   3   1   2 449   4]\n",
            " [  2   1   0   2   5   2   0   7   2 474]]\n"
          ],
          "name": "stdout"
        }
      ]
    },
    {
      "metadata": {
        "id": "6DmDZXWY0-VZ",
        "colab_type": "code",
        "colab": {}
      },
      "cell_type": "code",
      "source": [
        "# graph = tf.GraphDef()\n",
        "# graph.ParseFromString(tf_model.SerializeToString())\n",
        "\n",
        "# with tf.Graph().as_default() as graph:\n",
        "#         # The name var will prefix every op/nodes in your graph\n",
        "#         # Since we load everything in a new graph, this is not needed\n",
        "#     tf.import_graph_def(graph, name=\"prefix\")\n",
        "    \n",
        "    "
      ],
      "execution_count": 0,
      "outputs": []
    }
  ]
}