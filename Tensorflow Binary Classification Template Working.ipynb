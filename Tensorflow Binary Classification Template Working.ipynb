{
  "nbformat": 4,
  "nbformat_minor": 0,
  "metadata": {
    "colab": {
      "name": "Tensorflow Classification Template.ipynb",
      "version": "0.3.2",
      "provenance": []
    },
    "kernelspec": {
      "name": "python3",
      "display_name": "Python 3"
    }
  },
  "cells": [
    {
      "metadata": {
        "id": "oFd0yka_0-Ul",
        "colab_type": "code",
        "colab": {
          "base_uri": "https://localhost:8080/",
          "height": 34
        },
        "outputId": "4899001f-9911-4107-c9bb-e3401698b6cf"
      },
      "cell_type": "code",
      "source": [
        "!pip install tqdm\n",
        "\n",
        "from tqdm import tqdm\n",
        "import numpy as np\n",
        "import os\n",
        "import time\n",
        "import matplotlib.pyplot as plt\n",
        "import seaborn as sns\n",
        "from random import randint\n",
        "from PIL import Image\n",
        "import tensorflow as tf\n",
        "\n",
        "import pandas as pd\n",
        "from sklearn.model_selection import train_test_split\n",
        "from sklearn.preprocessing import StandardScaler"
      ],
      "execution_count": 1,
      "outputs": [
        {
          "output_type": "stream",
          "text": [
            "Requirement already satisfied: tqdm in /usr/local/lib/python3.6/dist-packages (4.27.0)\n"
          ],
          "name": "stdout"
        }
      ]
    },
    {
      "metadata": {
        "id": "frMPmKbS4bZQ",
        "colab_type": "code",
        "colab": {}
      },
      "cell_type": "code",
      "source": [
        "tf.set_random_seed(10)\n",
        "np.random.seed(10)"
      ],
      "execution_count": 0,
      "outputs": []
    },
    {
      "metadata": {
        "id": "t_rUd1Q1xeOG",
        "colab_type": "code",
        "colab": {
          "base_uri": "https://localhost:8080/",
          "height": 139
        },
        "outputId": "64011f48-62b2-4842-c7f4-2f6d1fa35c15"
      },
      "cell_type": "code",
      "source": [
        "\n",
        "df = pd.read_csv('https://github.com/harveenchadha/dump-nn-tf/raw/master/Section2/NN_Predict_Fraud/train.csv')\n",
        "df.dropna(inplace=True)\n",
        "iris = tf.contrib.learn.datasets.load_iris()\n",
        "\n",
        "scl = StandardScaler()"
      ],
      "execution_count": 3,
      "outputs": [
        {
          "output_type": "stream",
          "text": [
            "WARNING:tensorflow:From <ipython-input-3-603637f15cd2>:4: load_iris (from tensorflow.contrib.learn.python.learn.datasets.base) is deprecated and will be removed in a future version.\n",
            "Instructions for updating:\n",
            "Use scikits.learn.datasets.\n",
            "WARNING:tensorflow:From /usr/local/lib/python3.6/dist-packages/tensorflow/contrib/learn/python/learn/datasets/base.py:112: load_csv_with_header (from tensorflow.contrib.learn.python.learn.datasets.base) is deprecated and will be removed in a future version.\n",
            "Instructions for updating:\n",
            "Use tf.data instead.\n"
          ],
          "name": "stdout"
        }
      ]
    },
    {
      "metadata": {
        "id": "lUeGUaMN0-Uw",
        "colab_type": "code",
        "colab": {}
      },
      "cell_type": "code",
      "source": [
        "def WeightsVariable(shape, name = 'weights'):\n",
        "    return tf.Variable(tf.truncated_normal(shape, mean = 0.0, stddev=0.001, name=name))\n",
        "\n",
        "def BiasVariable(shape, name = 'biases'):\n",
        "    return tf.Variable(tf.constant(1.0, shape=[shape], name='biases'))"
      ],
      "execution_count": 0,
      "outputs": []
    },
    {
      "metadata": {
        "id": "IC-wHEcH0-Uz",
        "colab_type": "code",
        "colab": {}
      },
      "cell_type": "code",
      "source": [
        "def network(images, channels = 1, input_shape = 4, output_shape = 3):\n",
        "    num_c = [input_shape, 256, 128, 64, 32, 16, 8, 4, output_shape]\n",
        "    num_i = 1\n",
        "    with tf.name_scope('fc1'):\n",
        "        weights = WeightsVariable([input_shape, num_c[num_i]])\n",
        "        biases = BiasVariable(num_c[num_i])\n",
        "        fc1 = tf.nn.relu(tf.matmul(images, weights) + biases)\n",
        "    num_i += 1\n",
        "    with tf.name_scope('fc2'):\n",
        "        weights = WeightsVariable([num_c[num_i - 1], num_c[num_i]])\n",
        "        biases = BiasVariable(num_c[num_i])\n",
        "        fc1 = tf.nn.relu(tf.matmul(fc1, weights) + biases)\n",
        "    num_i += 1    \n",
        "    with tf.name_scope('fc3'):\n",
        "        weights = WeightsVariable([num_c[num_i - 1], num_c[num_i]])\n",
        "        biases = BiasVariable(num_c[num_i])\n",
        "        fc1 = tf.nn.relu(tf.matmul(fc1, weights) + biases)\n",
        "    num_i += 1    \n",
        "    with tf.name_scope('fc5'):\n",
        "        weights = WeightsVariable([num_c[num_i - 1], num_c[num_i]])\n",
        "        biases = BiasVariable(num_c[num_i])\n",
        "        fc1 = tf.nn.relu(tf.matmul(fc1, weights) + biases)\n",
        "    num_i += 1    \n",
        "    with tf.name_scope('fc6'):\n",
        "        weights = WeightsVariable([num_c[num_i - 1], num_c[num_i]])\n",
        "        biases = BiasVariable(num_c[num_i])\n",
        "        fc1 = tf.nn.relu(tf.matmul(fc1, weights) + biases)   \n",
        "    num_i += 1\n",
        "    with tf.name_scope('fc4'):\n",
        "        weights = WeightsVariable([num_c[num_i - 1], output_shape])\n",
        "        biases = BiasVariable(output_shape)\n",
        "        fc2 = tf.matmul(fc1, weights) + biases\n",
        "    return fc2"
      ],
      "execution_count": 0,
      "outputs": []
    },
    {
      "metadata": {
        "id": "AEWbuvcQ0-U2",
        "colab_type": "code",
        "colab": {}
      },
      "cell_type": "code",
      "source": [
        "def loss_metrics(logits, labels, output_shape=1):\n",
        "    logits = logits\n",
        "    if output_shape == 1:\n",
        "      cross_entropy = tf.nn.sigmoid_cross_entropy_with_logits(labels = labels, \n",
        "                                                                   logits = logits, \n",
        "                                                                   name = 'softmax')\n",
        "      \n",
        "    else:\n",
        "      cross_entropy = tf.nn.sparse_softmax_cross_entropy_with_logits(labels = labels, \n",
        "                                                                   logits = logits, \n",
        "                                                                   name = 'softmax')\n",
        "    return tf.reduce_mean(cross_entropy, name = 'softmax_mean')"
      ],
      "execution_count": 0,
      "outputs": []
    },
    {
      "metadata": {
        "id": "SJLUwfZX0-U6",
        "colab_type": "code",
        "colab": {}
      },
      "cell_type": "code",
      "source": [
        "#returns the optimizer by taking the loss\n",
        "def training(loss):\n",
        "    global_step = tf.Variable(0, name = 'global_step', trainable = False)\n",
        "    \n",
        "    learning_rate = tf.train.exponential_decay(STARTER_LR, \n",
        "                                               global_step = global_step, \n",
        "                                               decay_steps = 200, \n",
        "                                               decay_rate = 0.6, \n",
        "                                               staircase = True)\n",
        "    optimizer = tf.train.AdamOptimizer(learning_rate = STARTER_LR)\n",
        "    train_op = optimizer.minimize(loss)\n",
        "    return train_op\n",
        "    "
      ],
      "execution_count": 0,
      "outputs": []
    },
    {
      "metadata": {
        "id": "57j_wcyV0-U9",
        "colab_type": "code",
        "colab": {}
      },
      "cell_type": "code",
      "source": [
        "def evaluation(logits, labels, output_shape = 1):\n",
        "    correct = tf.nn.in_top_k(logits, labels, k = 1)\n",
        "    return tf.reduce_sum(tf.cast(correct, tf.int32))#, accuracy1, accuracy2\n",
        "  \n",
        "def acc(logits, labels, output_shape = 1):\n",
        "  \n",
        "    if(output_shape == 1):\n",
        "        correct_prediction = tf.equal(tf.cast(tf.greater_equal(logits,0.5), tf.float32), tf.cast(labels, tf.float32))\n",
        "        \n",
        "    else:\n",
        "        correct_prediction = tf.equal(tf.argmax(logits, 1),  tf.cast(labels, tf.int64), name='correct_pred')\n",
        "    \n",
        "    accuracy = tf.reduce_mean(tf.cast(correct_prediction, tf.float32), name='accuracy')\n",
        "    return accuracy"
      ],
      "execution_count": 0,
      "outputs": []
    },
    {
      "metadata": {
        "id": "sgIUHWfj0-VG",
        "colab_type": "code",
        "colab": {}
      },
      "cell_type": "code",
      "source": [
        "def placeholder_inputs(batch_size, input_shape=None, output_shape=1):\n",
        "    image_placeholder = tf.placeholder(tf.float32, shape = (None, input_shape))\n",
        "    if output_shape == 1:\n",
        "      label_placeholder = tf.placeholder(tf.float32, shape = (None))\n",
        "    else:\n",
        "      label_placeholder = tf.placeholder(tf.int32, shape = (None))\n",
        "    return image_placeholder, label_placeholder"
      ],
      "execution_count": 0,
      "outputs": []
    },
    {
      "metadata": {
        "id": "Za5Tlllw0-VN",
        "colab_type": "code",
        "colab": {}
      },
      "cell_type": "code",
      "source": [
        "\n",
        "loss_plot = []\n",
        "acc_plot = []\n",
        "train_plot = []\n",
        "def run_training(x, y, input_shape=None, output_shape=1):\n",
        "  \n",
        "    x_train, x_test, y_train, y_test = train_test_split(x, y, test_size = 0.3)\n",
        "    with tf.Graph().as_default():\n",
        "\n",
        "        images_pl, labels_pl = placeholder_inputs(BATCH_SIZE, input_shape=input_shape, output_shape = output_shape)\n",
        "        logits = network(images_pl, input_shape=input_shape, output_shape=output_shape)\n",
        "        \n",
        "        print(\"Logits Calculated Successfully\")\n",
        "        loss = loss_metrics(logits = logits, labels = labels_pl, output_shape = output_shape)\n",
        "        train_op = training(loss)\n",
        "#         eval_correct = evaluation(logits, labels_pl)\n",
        "        acc_val = acc(logits, labels_pl, output_shape = output_shape)\n",
        "        summary = tf.summary.merge_all()\n",
        "        \n",
        "        init = tf.global_variables_initializer()\n",
        "        \n",
        "        gpu_options = tf.GPUOptions(per_process_gpu_memory_fraction=0.9) #OPTIONAL\n",
        "        sess = tf.Session(config=tf.ConfigProto(gpu_options = gpu_options))\n",
        "        \n",
        "        saver = tf.train.Saver()\n",
        "        sess.run(init)\n",
        "        for steps in range(MAX_STEPS):\n",
        "            loss_avg = []\n",
        "            for i in tqdm(np.arange(0, len(x_train), BATCH_SIZE)):\n",
        "                images_feed = x_train[i*BATCH_SIZE:i*(BATCH_SIZE+1)]\n",
        "                labels_feed = y_train[i*BATCH_SIZE:i*(BATCH_SIZE+1)]\n",
        "\n",
        "                feed_dict = { images_pl: images_feed, labels_pl: labels_feed }\n",
        "\n",
        "                _ = sess.run([train_op], feed_dict = feed_dict)\n",
        "                \n",
        "\n",
        "            images_feed = x_test\n",
        "            labels_feed = y_test\n",
        "\n",
        "            feed_dict = {\n",
        "                images_pl: images_feed,\n",
        "                labels_pl: labels_feed\n",
        "                        }\n",
        "            loss_  = sess.run([loss], feed_dict = feed_dict)\n",
        "            accuracy_val  = sess.run([acc_val], feed_dict = feed_dict)\n",
        "            images_feed = x_train\n",
        "            labels_feed = y_train\n",
        "\n",
        "            feed_dict = {\n",
        "                images_pl: images_feed,\n",
        "                labels_pl: labels_feed\n",
        "                        }\n",
        "            train_loss  = sess.run([loss], feed_dict = feed_dict)\n",
        "            \n",
        "            loss_plot.append(loss_)\n",
        "            train_plot.append(train_loss)\n",
        "            acc_plot.append(accuracy_val)\n",
        "            print('Loss %d: Training loss = %.5f  Validation loss = %.5f\\t Validation Acc = %.5f' % (steps+1, train_loss[0], loss_[0], accuracy_val[0]))     \n",
        "          \n",
        "        return sess, images_pl, labels_pl, acc_val, logits"
      ],
      "execution_count": 0,
      "outputs": []
    },
    {
      "metadata": {
        "scrolled": false,
        "id": "PBg_gG-g0-VV",
        "colab_type": "code",
        "outputId": "56d9bc98-eaa1-45be-ba9e-84043ab6cf99",
        "colab": {
          "base_uri": "https://localhost:8080/",
          "height": 3434
        }
      },
      "cell_type": "code",
      "source": [
        "\n",
        "# x = iris[0]\n",
        "# y = iris[1]\n",
        "\n",
        "x = df.iloc[:, :30]\n",
        "y = df.iloc[:, -1:]\n",
        "\n",
        "\n",
        "x = scl.fit_transform(x)\n",
        "\n",
        "STARTER_LR = 7e-5\n",
        "BATCH_SIZE = 2\n",
        "MAX_STEPS = 100\n",
        "\n",
        "loss_plot = []\n",
        "acc_plot = []\n",
        "train_plot = []\n",
        "sess, images_pl, labels_pl, eval_correct, logits = run_training(np.asarray(x, dtype = np.float32), np.asarray(y, dtype = np.float32), input_shape=x.shape[1], output_shape=y.shape[1])"
      ],
      "execution_count": 60,
      "outputs": [
        {
          "output_type": "stream",
          "text": [
            "Logits Calculated Successfully\n"
          ],
          "name": "stdout"
        },
        {
          "output_type": "stream",
          "text": [
            "100%|██████████| 315/315 [00:00<00:00, 550.96it/s]\n",
            " 20%|█▉        | 62/315 [00:00<00:00, 606.40it/s]"
          ],
          "name": "stderr"
        },
        {
          "output_type": "stream",
          "text": [
            "Loss 1: Training loss = 0.74140  Validation loss = 0.79696\t Validation Acc = 0.47037\n"
          ],
          "name": "stdout"
        },
        {
          "output_type": "stream",
          "text": [
            "100%|██████████| 315/315 [00:00<00:00, 659.23it/s]\n",
            " 20%|██        | 64/315 [00:00<00:00, 628.78it/s]"
          ],
          "name": "stderr"
        },
        {
          "output_type": "stream",
          "text": [
            "Loss 2: Training loss = 0.61188  Validation loss = 0.65423\t Validation Acc = 0.47037\n"
          ],
          "name": "stdout"
        },
        {
          "output_type": "stream",
          "text": [
            "100%|██████████| 315/315 [00:00<00:00, 608.50it/s]\n",
            " 19%|█▊        | 59/315 [00:00<00:00, 579.72it/s]"
          ],
          "name": "stderr"
        },
        {
          "output_type": "stream",
          "text": [
            "Loss 3: Training loss = 0.58595  Validation loss = 0.63497\t Validation Acc = 0.47037\n"
          ],
          "name": "stdout"
        },
        {
          "output_type": "stream",
          "text": [
            "100%|██████████| 315/315 [00:00<00:00, 623.34it/s]\n",
            " 20%|█▉        | 62/315 [00:00<00:00, 616.79it/s]"
          ],
          "name": "stderr"
        },
        {
          "output_type": "stream",
          "text": [
            "Loss 4: Training loss = 0.55939  Validation loss = 0.61365\t Validation Acc = 0.58889\n"
          ],
          "name": "stdout"
        },
        {
          "output_type": "stream",
          "text": [
            "100%|██████████| 315/315 [00:00<00:00, 638.91it/s]\n",
            " 20%|█▉        | 62/315 [00:00<00:00, 615.67it/s]"
          ],
          "name": "stderr"
        },
        {
          "output_type": "stream",
          "text": [
            "Loss 5: Training loss = 0.53516  Validation loss = 0.59380\t Validation Acc = 0.62222\n"
          ],
          "name": "stdout"
        },
        {
          "output_type": "stream",
          "text": [
            "100%|██████████| 315/315 [00:00<00:00, 643.30it/s]\n",
            " 20%|██        | 63/315 [00:00<00:00, 622.50it/s]"
          ],
          "name": "stderr"
        },
        {
          "output_type": "stream",
          "text": [
            "Loss 6: Training loss = 0.51323  Validation loss = 0.57602\t Validation Acc = 0.65185\n"
          ],
          "name": "stdout"
        },
        {
          "output_type": "stream",
          "text": [
            "100%|██████████| 315/315 [00:00<00:00, 648.13it/s]\n",
            " 18%|█▊        | 58/315 [00:00<00:00, 570.92it/s]"
          ],
          "name": "stderr"
        },
        {
          "output_type": "stream",
          "text": [
            "Loss 7: Training loss = 0.49384  Validation loss = 0.56019\t Validation Acc = 0.67407\n"
          ],
          "name": "stdout"
        },
        {
          "output_type": "stream",
          "text": [
            "100%|██████████| 315/315 [00:00<00:00, 642.19it/s]\n",
            " 20%|██        | 63/315 [00:00<00:00, 621.99it/s]"
          ],
          "name": "stderr"
        },
        {
          "output_type": "stream",
          "text": [
            "Loss 8: Training loss = 0.47749  Validation loss = 0.54679\t Validation Acc = 0.69259\n"
          ],
          "name": "stdout"
        },
        {
          "output_type": "stream",
          "text": [
            "100%|██████████| 315/315 [00:00<00:00, 642.53it/s]\n",
            " 20%|██        | 63/315 [00:00<00:00, 624.73it/s]"
          ],
          "name": "stderr"
        },
        {
          "output_type": "stream",
          "text": [
            "Loss 9: Training loss = 0.46244  Validation loss = 0.53423\t Validation Acc = 0.70000\n"
          ],
          "name": "stdout"
        },
        {
          "output_type": "stream",
          "text": [
            "100%|██████████| 315/315 [00:00<00:00, 632.89it/s]\n",
            " 20%|█▉        | 62/315 [00:00<00:00, 611.08it/s]"
          ],
          "name": "stderr"
        },
        {
          "output_type": "stream",
          "text": [
            "Loss 10: Training loss = 0.44828  Validation loss = 0.52143\t Validation Acc = 0.71481\n"
          ],
          "name": "stdout"
        },
        {
          "output_type": "stream",
          "text": [
            "100%|██████████| 315/315 [00:00<00:00, 665.76it/s]\n",
            " 20%|██        | 63/315 [00:00<00:00, 616.79it/s]"
          ],
          "name": "stderr"
        },
        {
          "output_type": "stream",
          "text": [
            "Loss 11: Training loss = 0.43617  Validation loss = 0.51080\t Validation Acc = 0.72593\n"
          ],
          "name": "stdout"
        },
        {
          "output_type": "stream",
          "text": [
            "100%|██████████| 315/315 [00:00<00:00, 663.91it/s]\n",
            " 20%|██        | 64/315 [00:00<00:00, 633.05it/s]"
          ],
          "name": "stderr"
        },
        {
          "output_type": "stream",
          "text": [
            "Loss 12: Training loss = 0.42470  Validation loss = 0.50002\t Validation Acc = 0.74444\n"
          ],
          "name": "stdout"
        },
        {
          "output_type": "stream",
          "text": [
            "100%|██████████| 315/315 [00:00<00:00, 665.82it/s]\n",
            " 20%|██        | 63/315 [00:00<00:00, 628.59it/s]"
          ],
          "name": "stderr"
        },
        {
          "output_type": "stream",
          "text": [
            "Loss 13: Training loss = 0.41287  Validation loss = 0.48811\t Validation Acc = 0.75556\n"
          ],
          "name": "stdout"
        },
        {
          "output_type": "stream",
          "text": [
            "100%|██████████| 315/315 [00:00<00:00, 663.78it/s]\n",
            " 20%|█▉        | 62/315 [00:00<00:00, 614.02it/s]"
          ],
          "name": "stderr"
        },
        {
          "output_type": "stream",
          "text": [
            "Loss 14: Training loss = 0.40292  Validation loss = 0.47925\t Validation Acc = 0.75926\n"
          ],
          "name": "stdout"
        },
        {
          "output_type": "stream",
          "text": [
            "100%|██████████| 315/315 [00:00<00:00, 643.85it/s]\n",
            " 20%|██        | 63/315 [00:00<00:00, 616.82it/s]"
          ],
          "name": "stderr"
        },
        {
          "output_type": "stream",
          "text": [
            "Loss 15: Training loss = 0.39200  Validation loss = 0.46804\t Validation Acc = 0.76667\n"
          ],
          "name": "stdout"
        },
        {
          "output_type": "stream",
          "text": [
            "100%|██████████| 315/315 [00:00<00:00, 644.53it/s]\n",
            " 20%|██        | 63/315 [00:00<00:00, 622.78it/s]"
          ],
          "name": "stderr"
        },
        {
          "output_type": "stream",
          "text": [
            "Loss 16: Training loss = 0.38228  Validation loss = 0.45918\t Validation Acc = 0.77037\n"
          ],
          "name": "stdout"
        },
        {
          "output_type": "stream",
          "text": [
            "100%|██████████| 315/315 [00:00<00:00, 646.65it/s]\n",
            " 20%|██        | 63/315 [00:00<00:00, 614.78it/s]"
          ],
          "name": "stderr"
        },
        {
          "output_type": "stream",
          "text": [
            "Loss 17: Training loss = 0.37331  Validation loss = 0.45228\t Validation Acc = 0.77778\n"
          ],
          "name": "stdout"
        },
        {
          "output_type": "stream",
          "text": [
            "100%|██████████| 315/315 [00:00<00:00, 649.48it/s]\n",
            " 20%|██        | 63/315 [00:00<00:00, 622.53it/s]"
          ],
          "name": "stderr"
        },
        {
          "output_type": "stream",
          "text": [
            "Loss 18: Training loss = 0.36281  Validation loss = 0.43996\t Validation Acc = 0.78889\n"
          ],
          "name": "stdout"
        },
        {
          "output_type": "stream",
          "text": [
            "100%|██████████| 315/315 [00:00<00:00, 644.58it/s]\n",
            " 20%|██        | 63/315 [00:00<00:00, 621.11it/s]"
          ],
          "name": "stderr"
        },
        {
          "output_type": "stream",
          "text": [
            "Loss 19: Training loss = 0.35438  Validation loss = 0.43422\t Validation Acc = 0.80000\n"
          ],
          "name": "stdout"
        },
        {
          "output_type": "stream",
          "text": [
            "100%|██████████| 315/315 [00:00<00:00, 649.74it/s]\n",
            " 20%|██        | 63/315 [00:00<00:00, 624.95it/s]"
          ],
          "name": "stderr"
        },
        {
          "output_type": "stream",
          "text": [
            "Loss 20: Training loss = 0.34310  Validation loss = 0.41801\t Validation Acc = 0.81481\n"
          ],
          "name": "stdout"
        },
        {
          "output_type": "stream",
          "text": [
            "100%|██████████| 315/315 [00:00<00:00, 653.75it/s]\n",
            " 20%|██        | 64/315 [00:00<00:00, 623.67it/s]"
          ],
          "name": "stderr"
        },
        {
          "output_type": "stream",
          "text": [
            "Loss 21: Training loss = 0.33734  Validation loss = 0.41912\t Validation Acc = 0.81852\n"
          ],
          "name": "stdout"
        },
        {
          "output_type": "stream",
          "text": [
            "100%|██████████| 315/315 [00:00<00:00, 652.91it/s]\n",
            " 20%|██        | 64/315 [00:00<00:00, 635.78it/s]"
          ],
          "name": "stderr"
        },
        {
          "output_type": "stream",
          "text": [
            "Loss 22: Training loss = 0.32600  Validation loss = 0.40136\t Validation Acc = 0.81852\n"
          ],
          "name": "stdout"
        },
        {
          "output_type": "stream",
          "text": [
            "100%|██████████| 315/315 [00:00<00:00, 664.15it/s]\n",
            " 20%|██        | 64/315 [00:00<00:00, 635.09it/s]"
          ],
          "name": "stderr"
        },
        {
          "output_type": "stream",
          "text": [
            "Loss 23: Training loss = 0.32647  Validation loss = 0.41382\t Validation Acc = 0.81852\n"
          ],
          "name": "stdout"
        },
        {
          "output_type": "stream",
          "text": [
            "100%|██████████| 315/315 [00:00<00:00, 683.88it/s]\n",
            " 21%|██        | 65/315 [00:00<00:00, 633.69it/s]"
          ],
          "name": "stderr"
        },
        {
          "output_type": "stream",
          "text": [
            "Loss 24: Training loss = 0.31104  Validation loss = 0.39034\t Validation Acc = 0.82593\n"
          ],
          "name": "stdout"
        },
        {
          "output_type": "stream",
          "text": [
            "100%|██████████| 315/315 [00:00<00:00, 685.47it/s]\n",
            " 21%|██        | 66/315 [00:00<00:00, 648.90it/s]"
          ],
          "name": "stderr"
        },
        {
          "output_type": "stream",
          "text": [
            "Loss 25: Training loss = 0.31144  Validation loss = 0.40126\t Validation Acc = 0.82593\n"
          ],
          "name": "stdout"
        },
        {
          "output_type": "stream",
          "text": [
            "100%|██████████| 315/315 [00:00<00:00, 683.50it/s]\n",
            " 20%|██        | 64/315 [00:00<00:00, 627.63it/s]"
          ],
          "name": "stderr"
        },
        {
          "output_type": "stream",
          "text": [
            "Loss 26: Training loss = 0.29505  Validation loss = 0.37699\t Validation Acc = 0.82963\n"
          ],
          "name": "stdout"
        },
        {
          "output_type": "stream",
          "text": [
            "100%|██████████| 315/315 [00:00<00:00, 676.26it/s]\n",
            " 20%|██        | 64/315 [00:00<00:00, 630.21it/s]"
          ],
          "name": "stderr"
        },
        {
          "output_type": "stream",
          "text": [
            "Loss 27: Training loss = 0.29710  Validation loss = 0.38753\t Validation Acc = 0.83333\n"
          ],
          "name": "stdout"
        },
        {
          "output_type": "stream",
          "text": [
            "100%|██████████| 315/315 [00:00<00:00, 682.17it/s]\n",
            " 21%|██        | 65/315 [00:00<00:00, 637.92it/s]"
          ],
          "name": "stderr"
        },
        {
          "output_type": "stream",
          "text": [
            "Loss 28: Training loss = 0.28847  Validation loss = 0.37929\t Validation Acc = 0.83333\n"
          ],
          "name": "stdout"
        },
        {
          "output_type": "stream",
          "text": [
            "100%|██████████| 315/315 [00:00<00:00, 690.39it/s]\n",
            " 21%|██        | 65/315 [00:00<00:00, 647.77it/s]"
          ],
          "name": "stderr"
        },
        {
          "output_type": "stream",
          "text": [
            "Loss 29: Training loss = 0.27913  Validation loss = 0.36841\t Validation Acc = 0.84074\n"
          ],
          "name": "stdout"
        },
        {
          "output_type": "stream",
          "text": [
            "100%|██████████| 315/315 [00:00<00:00, 690.07it/s]\n",
            " 21%|██        | 65/315 [00:00<00:00, 645.46it/s]"
          ],
          "name": "stderr"
        },
        {
          "output_type": "stream",
          "text": [
            "Loss 30: Training loss = 0.28919  Validation loss = 0.39162\t Validation Acc = 0.84074\n"
          ],
          "name": "stdout"
        },
        {
          "output_type": "stream",
          "text": [
            "100%|██████████| 315/315 [00:00<00:00, 671.37it/s]\n",
            " 20%|██        | 64/315 [00:00<00:00, 635.47it/s]"
          ],
          "name": "stderr"
        },
        {
          "output_type": "stream",
          "text": [
            "Loss 31: Training loss = 0.26505  Validation loss = 0.35548\t Validation Acc = 0.85185\n"
          ],
          "name": "stdout"
        },
        {
          "output_type": "stream",
          "text": [
            "100%|██████████| 315/315 [00:00<00:00, 667.20it/s]\n",
            " 20%|██        | 64/315 [00:00<00:00, 633.57it/s]"
          ],
          "name": "stderr"
        },
        {
          "output_type": "stream",
          "text": [
            "Loss 32: Training loss = 0.25100  Validation loss = 0.33842\t Validation Acc = 0.86667\n"
          ],
          "name": "stdout"
        },
        {
          "output_type": "stream",
          "text": [
            "100%|██████████| 315/315 [00:00<00:00, 671.58it/s]\n",
            " 20%|██        | 63/315 [00:00<00:00, 617.07it/s]"
          ],
          "name": "stderr"
        },
        {
          "output_type": "stream",
          "text": [
            "Loss 33: Training loss = 0.24679  Validation loss = 0.33591\t Validation Acc = 0.86667\n"
          ],
          "name": "stdout"
        },
        {
          "output_type": "stream",
          "text": [
            "100%|██████████| 315/315 [00:00<00:00, 671.69it/s]\n",
            " 20%|██        | 64/315 [00:00<00:00, 628.50it/s]"
          ],
          "name": "stderr"
        },
        {
          "output_type": "stream",
          "text": [
            "Loss 34: Training loss = 0.24251  Validation loss = 0.33343\t Validation Acc = 0.86667\n"
          ],
          "name": "stdout"
        },
        {
          "output_type": "stream",
          "text": [
            "100%|██████████| 315/315 [00:00<00:00, 659.49it/s]\n",
            " 20%|██        | 63/315 [00:00<00:00, 624.86it/s]"
          ],
          "name": "stderr"
        },
        {
          "output_type": "stream",
          "text": [
            "Loss 35: Training loss = 0.22355  Validation loss = 0.30331\t Validation Acc = 0.87407\n"
          ],
          "name": "stdout"
        },
        {
          "output_type": "stream",
          "text": [
            "100%|██████████| 315/315 [00:00<00:00, 670.60it/s]\n",
            " 21%|██        | 65/315 [00:00<00:00, 635.61it/s]"
          ],
          "name": "stderr"
        },
        {
          "output_type": "stream",
          "text": [
            "Loss 36: Training loss = 0.21712  Validation loss = 0.29712\t Validation Acc = 0.88148\n"
          ],
          "name": "stdout"
        },
        {
          "output_type": "stream",
          "text": [
            "100%|██████████| 315/315 [00:00<00:00, 679.36it/s]\n",
            " 21%|██        | 65/315 [00:00<00:00, 643.87it/s]"
          ],
          "name": "stderr"
        },
        {
          "output_type": "stream",
          "text": [
            "Loss 37: Training loss = 0.20476  Validation loss = 0.27473\t Validation Acc = 0.88148\n"
          ],
          "name": "stdout"
        },
        {
          "output_type": "stream",
          "text": [
            "100%|██████████| 315/315 [00:00<00:00, 677.65it/s]\n",
            " 20%|██        | 64/315 [00:00<00:00, 629.46it/s]"
          ],
          "name": "stderr"
        },
        {
          "output_type": "stream",
          "text": [
            "Loss 38: Training loss = 0.19829  Validation loss = 0.26454\t Validation Acc = 0.88519\n"
          ],
          "name": "stdout"
        },
        {
          "output_type": "stream",
          "text": [
            "100%|██████████| 315/315 [00:00<00:00, 678.21it/s]\n",
            " 20%|██        | 64/315 [00:00<00:00, 632.06it/s]"
          ],
          "name": "stderr"
        },
        {
          "output_type": "stream",
          "text": [
            "Loss 39: Training loss = 0.19283  Validation loss = 0.25827\t Validation Acc = 0.88519\n"
          ],
          "name": "stdout"
        },
        {
          "output_type": "stream",
          "text": [
            "100%|██████████| 315/315 [00:00<00:00, 683.03it/s]\n",
            " 20%|██        | 64/315 [00:00<00:00, 636.53it/s]"
          ],
          "name": "stderr"
        },
        {
          "output_type": "stream",
          "text": [
            "Loss 40: Training loss = 0.18764  Validation loss = 0.25198\t Validation Acc = 0.88519\n"
          ],
          "name": "stdout"
        },
        {
          "output_type": "stream",
          "text": [
            "100%|██████████| 315/315 [00:00<00:00, 676.85it/s]\n",
            " 20%|██        | 64/315 [00:00<00:00, 634.74it/s]"
          ],
          "name": "stderr"
        },
        {
          "output_type": "stream",
          "text": [
            "Loss 41: Training loss = 0.18281  Validation loss = 0.24685\t Validation Acc = 0.89259\n"
          ],
          "name": "stdout"
        },
        {
          "output_type": "stream",
          "text": [
            "100%|██████████| 315/315 [00:00<00:00, 684.48it/s]\n",
            " 21%|██        | 65/315 [00:00<00:00, 635.94it/s]"
          ],
          "name": "stderr"
        },
        {
          "output_type": "stream",
          "text": [
            "Loss 42: Training loss = 0.17838  Validation loss = 0.24060\t Validation Acc = 0.89630\n"
          ],
          "name": "stdout"
        },
        {
          "output_type": "stream",
          "text": [
            "100%|██████████| 315/315 [00:00<00:00, 671.79it/s]\n",
            " 20%|██        | 63/315 [00:00<00:00, 626.15it/s]"
          ],
          "name": "stderr"
        },
        {
          "output_type": "stream",
          "text": [
            "Loss 43: Training loss = 0.17432  Validation loss = 0.23536\t Validation Acc = 0.89630\n"
          ],
          "name": "stdout"
        },
        {
          "output_type": "stream",
          "text": [
            "100%|██████████| 315/315 [00:00<00:00, 667.32it/s]\n",
            " 21%|██        | 65/315 [00:00<00:00, 634.53it/s]"
          ],
          "name": "stderr"
        },
        {
          "output_type": "stream",
          "text": [
            "Loss 44: Training loss = 0.17060  Validation loss = 0.23068\t Validation Acc = 0.89630\n"
          ],
          "name": "stdout"
        },
        {
          "output_type": "stream",
          "text": [
            "100%|██████████| 315/315 [00:00<00:00, 682.90it/s]\n",
            " 20%|██        | 63/315 [00:00<00:00, 625.49it/s]"
          ],
          "name": "stderr"
        },
        {
          "output_type": "stream",
          "text": [
            "Loss 45: Training loss = 0.16709  Validation loss = 0.22681\t Validation Acc = 0.90000\n"
          ],
          "name": "stdout"
        },
        {
          "output_type": "stream",
          "text": [
            "100%|██████████| 315/315 [00:00<00:00, 666.70it/s]\n",
            " 20%|██        | 63/315 [00:00<00:00, 629.91it/s]"
          ],
          "name": "stderr"
        },
        {
          "output_type": "stream",
          "text": [
            "Loss 46: Training loss = 0.16389  Validation loss = 0.22311\t Validation Acc = 0.90370\n"
          ],
          "name": "stdout"
        },
        {
          "output_type": "stream",
          "text": [
            "100%|██████████| 315/315 [00:00<00:00, 664.10it/s]\n",
            " 20%|██        | 63/315 [00:00<00:00, 624.15it/s]"
          ],
          "name": "stderr"
        },
        {
          "output_type": "stream",
          "text": [
            "Loss 47: Training loss = 0.16090  Validation loss = 0.21987\t Validation Acc = 0.90370\n"
          ],
          "name": "stdout"
        },
        {
          "output_type": "stream",
          "text": [
            "100%|██████████| 315/315 [00:00<00:00, 648.08it/s]\n",
            " 19%|█▉        | 61/315 [00:00<00:00, 602.95it/s]"
          ],
          "name": "stderr"
        },
        {
          "output_type": "stream",
          "text": [
            "Loss 48: Training loss = 0.15810  Validation loss = 0.21706\t Validation Acc = 0.91481\n"
          ],
          "name": "stdout"
        },
        {
          "output_type": "stream",
          "text": [
            "100%|██████████| 315/315 [00:00<00:00, 635.85it/s]\n",
            " 20%|██        | 63/315 [00:00<00:00, 623.09it/s]"
          ],
          "name": "stderr"
        },
        {
          "output_type": "stream",
          "text": [
            "Loss 49: Training loss = 0.15575  Validation loss = 0.21404\t Validation Acc = 0.91852\n"
          ],
          "name": "stdout"
        },
        {
          "output_type": "stream",
          "text": [
            "100%|██████████| 315/315 [00:00<00:00, 651.03it/s]\n",
            " 20%|██        | 63/315 [00:00<00:00, 614.19it/s]"
          ],
          "name": "stderr"
        },
        {
          "output_type": "stream",
          "text": [
            "Loss 50: Training loss = 0.15347  Validation loss = 0.21159\t Validation Acc = 0.92222\n"
          ],
          "name": "stdout"
        },
        {
          "output_type": "stream",
          "text": [
            "100%|██████████| 315/315 [00:00<00:00, 651.68it/s]\n",
            " 20%|██        | 63/315 [00:00<00:00, 623.11it/s]"
          ],
          "name": "stderr"
        },
        {
          "output_type": "stream",
          "text": [
            "Loss 51: Training loss = 0.15135  Validation loss = 0.20953\t Validation Acc = 0.92222\n"
          ],
          "name": "stdout"
        },
        {
          "output_type": "stream",
          "text": [
            "100%|██████████| 315/315 [00:00<00:00, 654.32it/s]\n",
            " 20%|█▉        | 62/315 [00:00<00:00, 614.00it/s]"
          ],
          "name": "stderr"
        },
        {
          "output_type": "stream",
          "text": [
            "Loss 52: Training loss = 0.14952  Validation loss = 0.20740\t Validation Acc = 0.92222\n"
          ],
          "name": "stdout"
        },
        {
          "output_type": "stream",
          "text": [
            "100%|██████████| 315/315 [00:00<00:00, 651.07it/s]\n",
            " 20%|█▉        | 62/315 [00:00<00:00, 618.35it/s]"
          ],
          "name": "stderr"
        },
        {
          "output_type": "stream",
          "text": [
            "Loss 53: Training loss = 0.14785  Validation loss = 0.20561\t Validation Acc = 0.92222\n"
          ],
          "name": "stdout"
        },
        {
          "output_type": "stream",
          "text": [
            "100%|██████████| 315/315 [00:00<00:00, 648.95it/s]\n",
            " 20%|█▉        | 62/315 [00:00<00:00, 616.24it/s]"
          ],
          "name": "stderr"
        },
        {
          "output_type": "stream",
          "text": [
            "Loss 54: Training loss = 0.14540  Validation loss = 0.20649\t Validation Acc = 0.92222\n"
          ],
          "name": "stdout"
        },
        {
          "output_type": "stream",
          "text": [
            "100%|██████████| 315/315 [00:00<00:00, 650.82it/s]\n",
            " 20%|██        | 63/315 [00:00<00:00, 619.44it/s]"
          ],
          "name": "stderr"
        },
        {
          "output_type": "stream",
          "text": [
            "Loss 55: Training loss = 0.14374  Validation loss = 0.20982\t Validation Acc = 0.91852\n"
          ],
          "name": "stdout"
        },
        {
          "output_type": "stream",
          "text": [
            "100%|██████████| 315/315 [00:00<00:00, 642.60it/s]\n",
            " 20%|██        | 63/315 [00:00<00:00, 616.82it/s]"
          ],
          "name": "stderr"
        },
        {
          "output_type": "stream",
          "text": [
            "Loss 56: Training loss = 0.14427  Validation loss = 0.20047\t Validation Acc = 0.92593\n"
          ],
          "name": "stdout"
        },
        {
          "output_type": "stream",
          "text": [
            "100%|██████████| 315/315 [00:00<00:00, 645.40it/s]\n",
            " 20%|█▉        | 62/315 [00:00<00:00, 606.12it/s]"
          ],
          "name": "stderr"
        },
        {
          "output_type": "stream",
          "text": [
            "Loss 57: Training loss = 0.14456  Validation loss = 0.19835\t Validation Acc = 0.92593\n"
          ],
          "name": "stdout"
        },
        {
          "output_type": "stream",
          "text": [
            "100%|██████████| 315/315 [00:00<00:00, 638.66it/s]\n",
            " 20%|█▉        | 62/315 [00:00<00:00, 609.33it/s]"
          ],
          "name": "stderr"
        },
        {
          "output_type": "stream",
          "text": [
            "Loss 58: Training loss = 0.14294  Validation loss = 0.19773\t Validation Acc = 0.92593\n"
          ],
          "name": "stdout"
        },
        {
          "output_type": "stream",
          "text": [
            "100%|██████████| 315/315 [00:00<00:00, 640.25it/s]\n",
            " 20%|█▉        | 62/315 [00:00<00:00, 604.73it/s]"
          ],
          "name": "stderr"
        },
        {
          "output_type": "stream",
          "text": [
            "Loss 59: Training loss = 0.14128  Validation loss = 0.19762\t Validation Acc = 0.92593\n"
          ],
          "name": "stdout"
        },
        {
          "output_type": "stream",
          "text": [
            "100%|██████████| 315/315 [00:00<00:00, 638.21it/s]\n",
            " 19%|█▉        | 61/315 [00:00<00:00, 597.19it/s]"
          ],
          "name": "stderr"
        },
        {
          "output_type": "stream",
          "text": [
            "Loss 60: Training loss = 0.13954  Validation loss = 0.19808\t Validation Acc = 0.92593\n"
          ],
          "name": "stdout"
        },
        {
          "output_type": "stream",
          "text": [
            "100%|██████████| 315/315 [00:00<00:00, 640.03it/s]\n",
            " 20%|██        | 63/315 [00:00<00:00, 623.60it/s]"
          ],
          "name": "stderr"
        },
        {
          "output_type": "stream",
          "text": [
            "Loss 61: Training loss = 0.14084  Validation loss = 0.21885\t Validation Acc = 0.91852\n"
          ],
          "name": "stdout"
        },
        {
          "output_type": "stream",
          "text": [
            "100%|██████████| 315/315 [00:00<00:00, 640.42it/s]\n",
            " 20%|██        | 63/315 [00:00<00:00, 615.02it/s]"
          ],
          "name": "stderr"
        },
        {
          "output_type": "stream",
          "text": [
            "Loss 62: Training loss = 0.13745  Validation loss = 0.19816\t Validation Acc = 0.92593\n"
          ],
          "name": "stdout"
        },
        {
          "output_type": "stream",
          "text": [
            "100%|██████████| 315/315 [00:00<00:00, 633.94it/s]\n",
            " 19%|█▉        | 61/315 [00:00<00:00, 601.56it/s]"
          ],
          "name": "stderr"
        },
        {
          "output_type": "stream",
          "text": [
            "Loss 63: Training loss = 0.13755  Validation loss = 0.19665\t Validation Acc = 0.92593\n"
          ],
          "name": "stdout"
        },
        {
          "output_type": "stream",
          "text": [
            "100%|██████████| 315/315 [00:00<00:00, 634.10it/s]\n",
            " 20%|██        | 63/315 [00:00<00:00, 615.65it/s]"
          ],
          "name": "stderr"
        },
        {
          "output_type": "stream",
          "text": [
            "Loss 64: Training loss = 0.13585  Validation loss = 0.20386\t Validation Acc = 0.92593\n"
          ],
          "name": "stdout"
        },
        {
          "output_type": "stream",
          "text": [
            "100%|██████████| 315/315 [00:00<00:00, 659.92it/s]\n",
            " 20%|██        | 64/315 [00:00<00:00, 628.09it/s]"
          ],
          "name": "stderr"
        },
        {
          "output_type": "stream",
          "text": [
            "Loss 65: Training loss = 0.13610  Validation loss = 0.19664\t Validation Acc = 0.92963\n"
          ],
          "name": "stdout"
        },
        {
          "output_type": "stream",
          "text": [
            "100%|██████████| 315/315 [00:00<00:00, 654.48it/s]\n",
            " 20%|██        | 63/315 [00:00<00:00, 622.98it/s]"
          ],
          "name": "stderr"
        },
        {
          "output_type": "stream",
          "text": [
            "Loss 66: Training loss = 0.13510  Validation loss = 0.19753\t Validation Acc = 0.92963\n"
          ],
          "name": "stdout"
        },
        {
          "output_type": "stream",
          "text": [
            "100%|██████████| 315/315 [00:00<00:00, 655.84it/s]\n",
            " 20%|██        | 63/315 [00:00<00:00, 619.38it/s]"
          ],
          "name": "stderr"
        },
        {
          "output_type": "stream",
          "text": [
            "Loss 67: Training loss = 0.13428  Validation loss = 0.19953\t Validation Acc = 0.92963\n"
          ],
          "name": "stdout"
        },
        {
          "output_type": "stream",
          "text": [
            "100%|██████████| 315/315 [00:00<00:00, 655.23it/s]\n",
            " 20%|██        | 64/315 [00:00<00:00, 625.51it/s]"
          ],
          "name": "stderr"
        },
        {
          "output_type": "stream",
          "text": [
            "Loss 68: Training loss = 0.13504  Validation loss = 0.19529\t Validation Acc = 0.92963\n"
          ],
          "name": "stdout"
        },
        {
          "output_type": "stream",
          "text": [
            "100%|██████████| 315/315 [00:00<00:00, 638.05it/s]\n",
            " 20%|██        | 64/315 [00:00<00:00, 636.26it/s]"
          ],
          "name": "stderr"
        },
        {
          "output_type": "stream",
          "text": [
            "Loss 69: Training loss = 0.13438  Validation loss = 0.20733\t Validation Acc = 0.92963\n"
          ],
          "name": "stdout"
        },
        {
          "output_type": "stream",
          "text": [
            "100%|██████████| 315/315 [00:00<00:00, 662.50it/s]\n",
            " 20%|██        | 63/315 [00:00<00:00, 613.80it/s]"
          ],
          "name": "stderr"
        },
        {
          "output_type": "stream",
          "text": [
            "Loss 70: Training loss = 0.13455  Validation loss = 0.19456\t Validation Acc = 0.92963\n"
          ],
          "name": "stdout"
        },
        {
          "output_type": "stream",
          "text": [
            "100%|██████████| 315/315 [00:00<00:00, 651.93it/s]\n",
            " 20%|██        | 63/315 [00:00<00:00, 627.93it/s]"
          ],
          "name": "stderr"
        },
        {
          "output_type": "stream",
          "text": [
            "Loss 71: Training loss = 0.13344  Validation loss = 0.19679\t Validation Acc = 0.92963\n"
          ],
          "name": "stdout"
        },
        {
          "output_type": "stream",
          "text": [
            "100%|██████████| 315/315 [00:00<00:00, 645.07it/s]\n",
            " 20%|█▉        | 62/315 [00:00<00:00, 619.56it/s]"
          ],
          "name": "stderr"
        },
        {
          "output_type": "stream",
          "text": [
            "Loss 72: Training loss = 0.13460  Validation loss = 0.19401\t Validation Acc = 0.92963\n"
          ],
          "name": "stdout"
        },
        {
          "output_type": "stream",
          "text": [
            "100%|██████████| 315/315 [00:00<00:00, 658.60it/s]\n",
            " 20%|██        | 63/315 [00:00<00:00, 622.91it/s]"
          ],
          "name": "stderr"
        },
        {
          "output_type": "stream",
          "text": [
            "Loss 73: Training loss = 0.13585  Validation loss = 0.19311\t Validation Acc = 0.93333\n"
          ],
          "name": "stdout"
        },
        {
          "output_type": "stream",
          "text": [
            "100%|██████████| 315/315 [00:00<00:00, 639.34it/s]\n",
            " 20%|█▉        | 62/315 [00:00<00:00, 599.62it/s]"
          ],
          "name": "stderr"
        },
        {
          "output_type": "stream",
          "text": [
            "Loss 74: Training loss = 0.13442  Validation loss = 0.19385\t Validation Acc = 0.93333\n"
          ],
          "name": "stdout"
        },
        {
          "output_type": "stream",
          "text": [
            "100%|██████████| 315/315 [00:00<00:00, 633.57it/s]\n",
            " 19%|█▉        | 61/315 [00:00<00:00, 602.45it/s]"
          ],
          "name": "stderr"
        },
        {
          "output_type": "stream",
          "text": [
            "Loss 75: Training loss = 0.13525  Validation loss = 0.19335\t Validation Acc = 0.93333\n"
          ],
          "name": "stdout"
        },
        {
          "output_type": "stream",
          "text": [
            "100%|██████████| 315/315 [00:00<00:00, 631.87it/s]\n",
            " 20%|█▉        | 62/315 [00:00<00:00, 616.02it/s]"
          ],
          "name": "stderr"
        },
        {
          "output_type": "stream",
          "text": [
            "Loss 76: Training loss = 0.13394  Validation loss = 0.19410\t Validation Acc = 0.93333\n"
          ],
          "name": "stdout"
        },
        {
          "output_type": "stream",
          "text": [
            "100%|██████████| 315/315 [00:00<00:00, 640.47it/s]\n",
            " 20%|██        | 63/315 [00:00<00:00, 628.31it/s]"
          ],
          "name": "stderr"
        },
        {
          "output_type": "stream",
          "text": [
            "Loss 77: Training loss = 0.14430  Validation loss = 0.24071\t Validation Acc = 0.91852\n"
          ],
          "name": "stdout"
        },
        {
          "output_type": "stream",
          "text": [
            "100%|██████████| 315/315 [00:00<00:00, 638.53it/s]\n",
            " 20%|██        | 63/315 [00:00<00:00, 615.39it/s]"
          ],
          "name": "stderr"
        },
        {
          "output_type": "stream",
          "text": [
            "Loss 78: Training loss = 0.13530  Validation loss = 0.19234\t Validation Acc = 0.92963\n"
          ],
          "name": "stdout"
        },
        {
          "output_type": "stream",
          "text": [
            "100%|██████████| 315/315 [00:00<00:00, 629.39it/s]\n",
            " 19%|█▉        | 61/315 [00:00<00:00, 609.87it/s]"
          ],
          "name": "stderr"
        },
        {
          "output_type": "stream",
          "text": [
            "Loss 79: Training loss = 0.13401  Validation loss = 0.19274\t Validation Acc = 0.92963\n"
          ],
          "name": "stdout"
        },
        {
          "output_type": "stream",
          "text": [
            "100%|██████████| 315/315 [00:00<00:00, 634.80it/s]\n",
            " 19%|█▉        | 61/315 [00:00<00:00, 606.61it/s]"
          ],
          "name": "stderr"
        },
        {
          "output_type": "stream",
          "text": [
            "Loss 80: Training loss = 0.13248  Validation loss = 0.19350\t Validation Acc = 0.92963\n"
          ],
          "name": "stdout"
        },
        {
          "output_type": "stream",
          "text": [
            "100%|██████████| 315/315 [00:00<00:00, 627.09it/s]\n",
            " 19%|█▉        | 60/315 [00:00<00:00, 596.90it/s]"
          ],
          "name": "stderr"
        },
        {
          "output_type": "stream",
          "text": [
            "Loss 81: Training loss = 0.13198  Validation loss = 0.19367\t Validation Acc = 0.92963\n"
          ],
          "name": "stdout"
        },
        {
          "output_type": "stream",
          "text": [
            "100%|██████████| 315/315 [00:00<00:00, 614.28it/s]\n",
            " 20%|█▉        | 62/315 [00:00<00:00, 612.17it/s]"
          ],
          "name": "stderr"
        },
        {
          "output_type": "stream",
          "text": [
            "Loss 82: Training loss = 0.13234  Validation loss = 0.19345\t Validation Acc = 0.92963\n"
          ],
          "name": "stdout"
        },
        {
          "output_type": "stream",
          "text": [
            "100%|██████████| 315/315 [00:00<00:00, 626.68it/s]\n",
            " 19%|█▉        | 60/315 [00:00<00:00, 589.25it/s]"
          ],
          "name": "stderr"
        },
        {
          "output_type": "stream",
          "text": [
            "Loss 83: Training loss = 0.13138  Validation loss = 0.19412\t Validation Acc = 0.92963\n"
          ],
          "name": "stdout"
        },
        {
          "output_type": "stream",
          "text": [
            "100%|██████████| 315/315 [00:00<00:00, 603.47it/s]\n",
            " 19%|█▉        | 61/315 [00:00<00:00, 596.16it/s]"
          ],
          "name": "stderr"
        },
        {
          "output_type": "stream",
          "text": [
            "Loss 84: Training loss = 0.13210  Validation loss = 0.19355\t Validation Acc = 0.92963\n"
          ],
          "name": "stdout"
        },
        {
          "output_type": "stream",
          "text": [
            "100%|██████████| 315/315 [00:00<00:00, 625.33it/s]\n",
            " 19%|█▉        | 60/315 [00:00<00:00, 590.11it/s]"
          ],
          "name": "stderr"
        },
        {
          "output_type": "stream",
          "text": [
            "Loss 85: Training loss = 0.12956  Validation loss = 0.19714\t Validation Acc = 0.92963\n"
          ],
          "name": "stdout"
        },
        {
          "output_type": "stream",
          "text": [
            "100%|██████████| 315/315 [00:00<00:00, 607.99it/s]\n",
            " 19%|█▉        | 61/315 [00:00<00:00, 598.36it/s]"
          ],
          "name": "stderr"
        },
        {
          "output_type": "stream",
          "text": [
            "Loss 86: Training loss = 0.13146  Validation loss = 0.19392\t Validation Acc = 0.92963\n"
          ],
          "name": "stdout"
        },
        {
          "output_type": "stream",
          "text": [
            "100%|██████████| 315/315 [00:00<00:00, 627.41it/s]\n",
            " 20%|█▉        | 62/315 [00:00<00:00, 601.65it/s]"
          ],
          "name": "stderr"
        },
        {
          "output_type": "stream",
          "text": [
            "Loss 87: Training loss = 0.13117  Validation loss = 0.19391\t Validation Acc = 0.92963\n"
          ],
          "name": "stdout"
        },
        {
          "output_type": "stream",
          "text": [
            "100%|██████████| 315/315 [00:00<00:00, 625.46it/s]\n",
            " 20%|█▉        | 62/315 [00:00<00:00, 608.72it/s]"
          ],
          "name": "stderr"
        },
        {
          "output_type": "stream",
          "text": [
            "Loss 88: Training loss = 0.13112  Validation loss = 0.19450\t Validation Acc = 0.92963\n"
          ],
          "name": "stdout"
        },
        {
          "output_type": "stream",
          "text": [
            "100%|██████████| 315/315 [00:00<00:00, 633.44it/s]\n",
            " 20%|██        | 63/315 [00:00<00:00, 622.98it/s]"
          ],
          "name": "stderr"
        },
        {
          "output_type": "stream",
          "text": [
            "Loss 89: Training loss = 0.13359  Validation loss = 0.22080\t Validation Acc = 0.92593\n"
          ],
          "name": "stdout"
        },
        {
          "output_type": "stream",
          "text": [
            "100%|██████████| 315/315 [00:00<00:00, 627.75it/s]\n",
            " 19%|█▉        | 61/315 [00:00<00:00, 602.90it/s]"
          ],
          "name": "stderr"
        },
        {
          "output_type": "stream",
          "text": [
            "Loss 90: Training loss = 0.13026  Validation loss = 0.19482\t Validation Acc = 0.92963\n"
          ],
          "name": "stdout"
        },
        {
          "output_type": "stream",
          "text": [
            "100%|██████████| 315/315 [00:00<00:00, 606.27it/s]\n",
            " 19%|█▉        | 60/315 [00:00<00:00, 594.93it/s]"
          ],
          "name": "stderr"
        },
        {
          "output_type": "stream",
          "text": [
            "Loss 91: Training loss = 0.12897  Validation loss = 0.19840\t Validation Acc = 0.92963\n"
          ],
          "name": "stdout"
        },
        {
          "output_type": "stream",
          "text": [
            "100%|██████████| 315/315 [00:00<00:00, 502.56it/s]\n",
            " 19%|█▉        | 60/315 [00:00<00:00, 591.85it/s]"
          ],
          "name": "stderr"
        },
        {
          "output_type": "stream",
          "text": [
            "Loss 92: Training loss = 0.13025  Validation loss = 0.19510\t Validation Acc = 0.92963\n"
          ],
          "name": "stdout"
        },
        {
          "output_type": "stream",
          "text": [
            "100%|██████████| 315/315 [00:00<00:00, 609.68it/s]\n",
            " 19%|█▉        | 61/315 [00:00<00:00, 598.79it/s]"
          ],
          "name": "stderr"
        },
        {
          "output_type": "stream",
          "text": [
            "Loss 93: Training loss = 0.13159  Validation loss = 0.19502\t Validation Acc = 0.92963\n"
          ],
          "name": "stdout"
        },
        {
          "output_type": "stream",
          "text": [
            "100%|██████████| 315/315 [00:00<00:00, 606.79it/s]\n",
            " 18%|█▊        | 57/315 [00:00<00:00, 565.62it/s]"
          ],
          "name": "stderr"
        },
        {
          "output_type": "stream",
          "text": [
            "Loss 94: Training loss = 0.13156  Validation loss = 0.19468\t Validation Acc = 0.92963\n"
          ],
          "name": "stdout"
        },
        {
          "output_type": "stream",
          "text": [
            "100%|██████████| 315/315 [00:00<00:00, 589.40it/s]\n",
            " 19%|█▊        | 59/315 [00:00<00:00, 585.97it/s]"
          ],
          "name": "stderr"
        },
        {
          "output_type": "stream",
          "text": [
            "Loss 95: Training loss = 0.13183  Validation loss = 0.19499\t Validation Acc = 0.92963\n"
          ],
          "name": "stdout"
        },
        {
          "output_type": "stream",
          "text": [
            "100%|██████████| 315/315 [00:00<00:00, 598.81it/s]\n",
            " 19%|█▉        | 60/315 [00:00<00:00, 590.65it/s]"
          ],
          "name": "stderr"
        },
        {
          "output_type": "stream",
          "text": [
            "Loss 96: Training loss = 0.13126  Validation loss = 0.19514\t Validation Acc = 0.93333\n"
          ],
          "name": "stdout"
        },
        {
          "output_type": "stream",
          "text": [
            "100%|██████████| 315/315 [00:00<00:00, 627.49it/s]\n",
            " 19%|█▉        | 61/315 [00:00<00:00, 609.20it/s]"
          ],
          "name": "stderr"
        },
        {
          "output_type": "stream",
          "text": [
            "Loss 97: Training loss = 0.13071  Validation loss = 0.19531\t Validation Acc = 0.92963\n"
          ],
          "name": "stdout"
        },
        {
          "output_type": "stream",
          "text": [
            "100%|██████████| 315/315 [00:00<00:00, 633.23it/s]\n",
            " 19%|█▉        | 61/315 [00:00<00:00, 605.58it/s]"
          ],
          "name": "stderr"
        },
        {
          "output_type": "stream",
          "text": [
            "Loss 98: Training loss = 0.13035  Validation loss = 0.19538\t Validation Acc = 0.93333\n"
          ],
          "name": "stdout"
        },
        {
          "output_type": "stream",
          "text": [
            "100%|██████████| 315/315 [00:00<00:00, 628.85it/s]\n",
            " 20%|█▉        | 62/315 [00:00<00:00, 615.29it/s]"
          ],
          "name": "stderr"
        },
        {
          "output_type": "stream",
          "text": [
            "Loss 99: Training loss = 0.13031  Validation loss = 0.19542\t Validation Acc = 0.93333\n"
          ],
          "name": "stdout"
        },
        {
          "output_type": "stream",
          "text": [
            "100%|██████████| 315/315 [00:00<00:00, 635.25it/s]\n"
          ],
          "name": "stderr"
        },
        {
          "output_type": "stream",
          "text": [
            "Loss 100: Training loss = 0.13061  Validation loss = 0.19563\t Validation Acc = 0.93333\n"
          ],
          "name": "stdout"
        }
      ]
    },
    {
      "metadata": {
        "id": "qbl9eEQrZauX",
        "colab_type": "code",
        "outputId": "860ce9d1-5714-4b6b-ce47-45ee48ea15cb",
        "colab": {
          "base_uri": "https://localhost:8080/",
          "height": 364
        }
      },
      "cell_type": "code",
      "source": [
        "sns.set_style(\"darkgrid\")\n",
        "plt.plot(acc_plot,'g-',label=\"Validation Acc\")\n",
        "plt.plot(loss_plot, 'b-', label=\"Validation Loss\")\n",
        "plt.plot(train_plot, \"r-\", label='Training Loss')\n",
        "plt.legend(loc='best')"
      ],
      "execution_count": 62,
      "outputs": [
        {
          "output_type": "execute_result",
          "data": {
            "text/plain": [
              "<matplotlib.legend.Legend at 0x7f9d43a6ec18>"
            ]
          },
          "metadata": {
            "tags": []
          },
          "execution_count": 62
        },
        {
          "output_type": "display_data",
          "data": {
            "image/png": "[encoded data removed]",
            "text/plain": [
              "<matplotlib.figure.Figure at 0x7f9d439db128>"
            ]
          },
          "metadata": {
            "tags": []
          }
        }
      ]
    },
    {
      "metadata": {
        "id": "bPsgRXIYABWN",
        "colab_type": "code",
        "outputId": "ed9687f0-0704-45e1-9b5c-f06f5a4eb691",
        "colab": {
          "base_uri": "https://localhost:8080/",
          "height": 231
        }
      },
      "cell_type": "code",
      "source": [
        "images_feed, labels_feed = MNIST_DATASETS.validation.images, MNIST_DATASETS.validation.labels\n",
        "\n",
        "feed_dict = {\n",
        "    images_pl: np.reshape(images_feed, (-1, 28, 28, 1))\n",
        "            }\n",
        "with sess.as_default():\n",
        "  accuracy  = sess.run([logits], feed_dict = feed_dict)\n",
        "  \n",
        "  preds = np.argmax(accuracy[0], 1)\n",
        "  print(preds)"
      ],
      "execution_count": 13,
      "outputs": [
        {
          "output_type": "error",
          "ename": "NameError",
          "evalue": "ignored",
          "traceback": [
            "\u001b[0;31m---------------------------------------------------------------------------\u001b[0m",
            "\u001b[0;31mNameError\u001b[0m                                 Traceback (most recent call last)",
            "\u001b[0;32m<ipython-input-13-d24bda0b91e0>\u001b[0m in \u001b[0;36m<module>\u001b[0;34m()\u001b[0m\n\u001b[0;32m----> 1\u001b[0;31m \u001b[0mimages_feed\u001b[0m\u001b[0;34m,\u001b[0m \u001b[0mlabels_feed\u001b[0m \u001b[0;34m=\u001b[0m \u001b[0mMNIST_DATASETS\u001b[0m\u001b[0;34m.\u001b[0m\u001b[0mvalidation\u001b[0m\u001b[0;34m.\u001b[0m\u001b[0mimages\u001b[0m\u001b[0;34m,\u001b[0m \u001b[0mMNIST_DATASETS\u001b[0m\u001b[0;34m.\u001b[0m\u001b[0mvalidation\u001b[0m\u001b[0;34m.\u001b[0m\u001b[0mlabels\u001b[0m\u001b[0;34m\u001b[0m\u001b[0m\n\u001b[0m\u001b[1;32m      2\u001b[0m \u001b[0;34m\u001b[0m\u001b[0m\n\u001b[1;32m      3\u001b[0m feed_dict = {\n\u001b[1;32m      4\u001b[0m     \u001b[0mimages_pl\u001b[0m\u001b[0;34m:\u001b[0m \u001b[0mnp\u001b[0m\u001b[0;34m.\u001b[0m\u001b[0mreshape\u001b[0m\u001b[0;34m(\u001b[0m\u001b[0mimages_feed\u001b[0m\u001b[0;34m,\u001b[0m \u001b[0;34m(\u001b[0m\u001b[0;34m-\u001b[0m\u001b[0;36m1\u001b[0m\u001b[0;34m,\u001b[0m \u001b[0;36m28\u001b[0m\u001b[0;34m,\u001b[0m \u001b[0;36m28\u001b[0m\u001b[0;34m,\u001b[0m \u001b[0;36m1\u001b[0m\u001b[0;34m)\u001b[0m\u001b[0;34m)\u001b[0m\u001b[0;34m\u001b[0m\u001b[0m\n\u001b[1;32m      5\u001b[0m             }\n",
            "\u001b[0;31mNameError\u001b[0m: name 'MNIST_DATASETS' is not defined"
          ]
        }
      ]
    },
    {
      "metadata": {
        "id": "Zl6bKEbGa2Ay",
        "colab_type": "code",
        "outputId": "07a13f1a-b101-4dc7-b37c-0eb043e34b93",
        "colab": {
          "base_uri": "https://localhost:8080/",
          "height": 272
        }
      },
      "cell_type": "code",
      "source": [
        "from sklearn.metrics import classification_report\n",
        "print(classification_report(labels_feed, preds))"
      ],
      "execution_count": 0,
      "outputs": [
        {
          "output_type": "stream",
          "text": [
            "             precision    recall  f1-score   support\n",
            "\n",
            "          0       0.99      0.99      0.99       479\n",
            "          1       0.97      0.98      0.97       563\n",
            "          2       0.98      0.93      0.96       488\n",
            "          3       0.98      0.96      0.97       493\n",
            "          4       0.98      0.98      0.98       535\n",
            "          5       0.96      0.98      0.97       434\n",
            "          6       0.98      0.98      0.98       501\n",
            "          7       0.96      0.97      0.97       550\n",
            "          8       0.96      0.97      0.97       462\n",
            "          9       0.96      0.96      0.96       495\n",
            "\n",
            "avg / total       0.97      0.97      0.97      5000\n",
            "\n"
          ],
          "name": "stdout"
        }
      ]
    },
    {
      "metadata": {
        "id": "c5xuDiGTi2Pv",
        "colab_type": "code",
        "outputId": "dd8f7495-7389-4fda-ece7-3f762849dc41",
        "colab": {
          "base_uri": "https://localhost:8080/",
          "height": 187
        }
      },
      "cell_type": "code",
      "source": [
        "from sklearn.metrics import confusion_matrix\n",
        "print(confusion_matrix(labels_feed, preds))"
      ],
      "execution_count": 0,
      "outputs": [
        {
          "output_type": "stream",
          "text": [
            "[[473   0   0   0   0   2   2   0   0   2]\n",
            " [  0 553   2   2   1   0   1   2   2   0]\n",
            " [  1  10 454   5   1   1   0   7   8   1]\n",
            " [  0   1   2 475   0   7   0   5   2   1]\n",
            " [  0   1   0   0 526   0   4   1   0   3]\n",
            " [  0   1   1   0   1 427   0   0   3   1]\n",
            " [  3   2   0   0   1   1 493   0   1   0]\n",
            " [  0   2   2   1   3   0   0 536   0   6]\n",
            " [  0   2   0   1   0   3   1   2 449   4]\n",
            " [  2   1   0   2   5   2   0   7   2 474]]\n"
          ],
          "name": "stdout"
        }
      ]
    },
    {
      "metadata": {
        "id": "6DmDZXWY0-VZ",
        "colab_type": "code",
        "colab": {}
      },
      "cell_type": "code",
      "source": [
        "# graph = tf.GraphDef()\n",
        "# graph.ParseFromString(tf_model.SerializeToString())\n",
        "\n",
        "# with tf.Graph().as_default() as graph:\n",
        "#         # The name var will prefix every op/nodes in your graph\n",
        "#         # Since we load everything in a new graph, this is not needed\n",
        "#     tf.import_graph_def(graph, name=\"prefix\")\n",
        "    \n",
        "    "
      ],
      "execution_count": 0,
      "outputs": []
    }
  ]
}