{
  "nbformat": 4,
  "nbformat_minor": 0,
  "metadata": {
    "colab": {
      "name": "Tensorflow Classification Template.ipynb",
      "version": "0.3.2",
      "provenance": []
    },
    "kernelspec": {
      "name": "python3",
      "display_name": "Python 3"
    }
  },
  "cells": [
    {
      "metadata": {
        "id": "oFd0yka_0-Ul",
        "colab_type": "code",
        "outputId": "158c28c7-f51f-421e-fcea-1681aa485603",
        "colab": {
          "base_uri": "https://localhost:8080/",
          "height": 34
        }
      },
      "cell_type": "code",
      "source": [
        "!pip install tqdm\n",
        "\n",
        "from tqdm import tqdm\n",
        "import numpy as np\n",
        "import os\n",
        "import time\n",
        "import matplotlib.pyplot as plt\n",
        "import seaborn as sns\n",
        "from random import randint\n",
        "from PIL import Image\n",
        "import tensorflow as tf\n",
        "\n",
        "import pandas as pd\n",
        "from sklearn.model_selection import train_test_split\n",
        "from sklearn.preprocessing import StandardScaler"
      ],
      "execution_count": 1,
      "outputs": [
        {
          "output_type": "stream",
          "text": [
            "Requirement already satisfied: tqdm in /usr/local/lib/python3.6/dist-packages (4.27.0)\n"
          ],
          "name": "stdout"
        }
      ]
    },
    {
      "metadata": {
        "id": "frMPmKbS4bZQ",
        "colab_type": "code",
        "colab": {}
      },
      "cell_type": "code",
      "source": [
        "tf.set_random_seed(10)\n",
        "np.random.seed(10)"
      ],
      "execution_count": 0,
      "outputs": []
    },
    {
      "metadata": {
        "id": "t_rUd1Q1xeOG",
        "colab_type": "code",
        "outputId": "ae1d3440-83cb-414d-c2ff-a630e5d377d8",
        "colab": {
          "base_uri": "https://localhost:8080/",
          "height": 139
        }
      },
      "cell_type": "code",
      "source": [
        "\n",
        "df = pd.read_csv('https://github.com/harveenchadha/dump-nn-tf/raw/master/Section2/NN_Predict_Fraud/train.csv')\n",
        "df.dropna(inplace=True)\n",
        "iris = tf.contrib.learn.datasets.load_iris()\n",
        "\n",
        "scl = StandardScaler()"
      ],
      "execution_count": 3,
      "outputs": [
        {
          "output_type": "stream",
          "text": [
            "WARNING:tensorflow:From <ipython-input-3-603637f15cd2>:4: load_iris (from tensorflow.contrib.learn.python.learn.datasets.base) is deprecated and will be removed in a future version.\n",
            "Instructions for updating:\n",
            "Use scikits.learn.datasets.\n",
            "WARNING:tensorflow:From /usr/local/lib/python3.6/dist-packages/tensorflow/contrib/learn/python/learn/datasets/base.py:112: load_csv_with_header (from tensorflow.contrib.learn.python.learn.datasets.base) is deprecated and will be removed in a future version.\n",
            "Instructions for updating:\n",
            "Use tf.data instead.\n"
          ],
          "name": "stdout"
        }
      ]
    },
    {
      "metadata": {
        "id": "3XTU_4MTwb1Y",
        "colab_type": "code",
        "colab": {}
      },
      "cell_type": "code",
      "source": [
        ""
      ],
      "execution_count": 0,
      "outputs": []
    },
    {
      "metadata": {
        "id": "lUeGUaMN0-Uw",
        "colab_type": "code",
        "colab": {}
      },
      "cell_type": "code",
      "source": [
        "def WeightsVariable(shape, num = 0):\n",
        "    name = 'weights' + str(num)\n",
        "    return tf.get_variable(name=name, initializer=tf.initializers.glorot_uniform(),shape=shape) #tf.nn tf.truncated_normal(shape, mean = 0.0, stddev=0.001, name=name))\n",
        "\n",
        "def BiasVariable(shape, name = 'biases'):\n",
        "    return tf.Variable(tf.constant(1.0, shape=[shape], name='biases'))"
      ],
      "execution_count": 0,
      "outputs": []
    },
    {
      "metadata": {
        "id": "IC-wHEcH0-Uz",
        "colab_type": "code",
        "colab": {}
      },
      "cell_type": "code",
      "source": [
        "def network(images, channels = 1, input_shape = 4, output_shape = 3):\n",
        "#     num_c = [256, 128, 64, 32, 16, 8, 4]\n",
        "    num_i = 0\n",
        "    with tf.name_scope('fc1'):\n",
        "        weights = WeightsVariable([input_shape, num_c[num_i]], num = num_i)\n",
        "        biases = BiasVariable(num_c[num_i])\n",
        "        fc1 = tf.nn.relu(tf.matmul(images, weights) + biases)\n",
        "    num_i += 1\n",
        "    \n",
        "    for i in range(len(num_c)-1):\n",
        "        name = 'fc' + str(i+2)\n",
        "        with tf.name_scope(name):\n",
        "            weights = WeightsVariable([num_c[num_i - 1], num_c[num_i]], num = num_i)\n",
        "            biases = BiasVariable(num_c[num_i])\n",
        "            fc1 = tf.nn.relu(tf.matmul(fc1, weights) + biases)\n",
        "        num_i += 1    \n",
        "\n",
        "    with tf.name_scope('fc4'):\n",
        "        weights = WeightsVariable([num_c[num_i - 1], output_shape], num = num_i)\n",
        "        biases = BiasVariable(output_shape)\n",
        "        fc2 = tf.matmul(fc1, weights) + biases\n",
        "        \n",
        "    return fc2"
      ],
      "execution_count": 0,
      "outputs": []
    },
    {
      "metadata": {
        "id": "AEWbuvcQ0-U2",
        "colab_type": "code",
        "colab": {}
      },
      "cell_type": "code",
      "source": [
        "def loss_metrics(logits, labels, output_shape=1):\n",
        "    logits = logits\n",
        "    if output_shape == 1:\n",
        "      cross_entropy = tf.nn.sigmoid_cross_entropy_with_logits(labels = labels, \n",
        "                                                                   logits = logits, \n",
        "                                                                   name = 'softmax')\n",
        "      \n",
        "    else:\n",
        "      cross_entropy = tf.nn.sparse_softmax_cross_entropy_with_logits(labels = labels, \n",
        "                                                                   logits = logits, \n",
        "                                                                   name = 'softmax')\n",
        "    return tf.reduce_mean(cross_entropy, name = 'softmax_mean')"
      ],
      "execution_count": 0,
      "outputs": []
    },
    {
      "metadata": {
        "id": "SJLUwfZX0-U6",
        "colab_type": "code",
        "colab": {}
      },
      "cell_type": "code",
      "source": [
        "#returns the optimizer by taking the loss\n",
        "def training(loss):\n",
        "    global_step = tf.Variable(0, name = 'global_step', trainable = False)\n",
        "    \n",
        "    learning_rate = tf.train.exponential_decay(STARTER_LR, \n",
        "                                               global_step = global_step, \n",
        "                                               decay_steps = 200, \n",
        "                                               decay_rate = 0.6, \n",
        "                                               staircase = True)\n",
        "    optimizer = tf.train.AdamOptimizer(learning_rate = STARTER_LR)\n",
        "    train_op = optimizer.minimize(loss)\n",
        "    return train_op\n",
        "    "
      ],
      "execution_count": 0,
      "outputs": []
    },
    {
      "metadata": {
        "id": "57j_wcyV0-U9",
        "colab_type": "code",
        "colab": {}
      },
      "cell_type": "code",
      "source": [
        "def evaluation(logits, labels, output_shape = 1):\n",
        "    correct = tf.nn.in_top_k(logits, labels, k = 1)\n",
        "    return tf.reduce_sum(tf.cast(correct, tf.int32))#, accuracy1, accuracy2\n",
        "  \n",
        "def acc(logits, labels, output_shape = 1):\n",
        "  \n",
        "    if(output_shape == 1):\n",
        "        correct_prediction = tf.equal(tf.cast(tf.greater_equal(logits,0.5), tf.float32), tf.cast(labels, tf.float32))\n",
        "        \n",
        "    else:\n",
        "        correct_prediction = tf.equal(tf.argmax(logits, 1),  tf.cast(labels, tf.int64), name='correct_pred')\n",
        "    \n",
        "    accuracy = tf.reduce_mean(tf.cast(correct_prediction, tf.float32), name='accuracy')\n",
        "    return accuracy"
      ],
      "execution_count": 0,
      "outputs": []
    },
    {
      "metadata": {
        "id": "sgIUHWfj0-VG",
        "colab_type": "code",
        "colab": {}
      },
      "cell_type": "code",
      "source": [
        "def placeholder_inputs(batch_size, input_shape=None, output_shape=1):\n",
        "    image_placeholder = tf.placeholder(tf.float32, shape = (None, input_shape))\n",
        "    if output_shape == 1:\n",
        "      label_placeholder = tf.placeholder(tf.float32, shape = (None))\n",
        "    else:\n",
        "      label_placeholder = tf.placeholder(tf.int32, shape = (None))\n",
        "    return image_placeholder, label_placeholder"
      ],
      "execution_count": 0,
      "outputs": []
    },
    {
      "metadata": {
        "id": "Za5Tlllw0-VN",
        "colab_type": "code",
        "colab": {}
      },
      "cell_type": "code",
      "source": [
        "\n",
        "loss_plot = []\n",
        "acc_plot = []\n",
        "train_plot = []\n",
        "def run_training(x, y, input_shape=None, output_shape=1):\n",
        "  \n",
        "    x_train, x_test, y_train, y_test = train_test_split(x, y, test_size = 0.3)\n",
        "    with tf.Graph().as_default():\n",
        "\n",
        "        images_pl, labels_pl = placeholder_inputs(BATCH_SIZE, input_shape=input_shape, output_shape = output_shape)\n",
        "        logits = network(images_pl, input_shape=input_shape, output_shape=output_shape)\n",
        "        \n",
        "        print(\"Logits Calculated Successfully\")\n",
        "        loss = loss_metrics(logits = logits, labels = labels_pl, output_shape = output_shape)\n",
        "        train_op = training(loss)\n",
        "#         eval_correct = evaluation(logits, labels_pl)\n",
        "        acc_val = acc(logits, labels_pl, output_shape = output_shape)\n",
        "        summary = tf.summary.merge_all()\n",
        "        \n",
        "        init = tf.global_variables_initializer()\n",
        "        \n",
        "        gpu_options = tf.GPUOptions(per_process_gpu_memory_fraction=0.9) #OPTIONAL\n",
        "        sess = tf.Session(config=tf.ConfigProto(gpu_options = gpu_options))\n",
        "        \n",
        "        saver = tf.train.Saver()\n",
        "        sess.run(init)\n",
        "        for steps in range(MAX_STEPS):\n",
        "            loss_avg = []\n",
        "            for i in tqdm(np.arange(0, len(x_train), BATCH_SIZE)):\n",
        "                images_feed = x_train[i : i + BATCH_SIZE]\n",
        "                labels_feed = y_train[i : i + BATCH_SIZE]\n",
        "\n",
        "                feed_dict = { images_pl: images_feed, labels_pl: labels_feed }\n",
        "\n",
        "                _ = sess.run([train_op], feed_dict = feed_dict)\n",
        "                \n",
        "\n",
        "            images_feed = x_test\n",
        "            labels_feed = y_test\n",
        "\n",
        "            feed_dict = {\n",
        "                images_pl: images_feed,\n",
        "                labels_pl: labels_feed\n",
        "                        }\n",
        "            loss_  = sess.run([loss], feed_dict = feed_dict)\n",
        "            accuracy_val  = sess.run([acc_val], feed_dict = feed_dict)\n",
        "            images_feed = x_train\n",
        "            labels_feed = y_train\n",
        "\n",
        "            feed_dict = {\n",
        "                images_pl: images_feed,\n",
        "                labels_pl: labels_feed\n",
        "                        }\n",
        "            train_loss  = sess.run([loss], feed_dict = feed_dict)\n",
        "            \n",
        "            loss_plot.append(loss_)\n",
        "            train_plot.append(train_loss)\n",
        "            acc_plot.append(accuracy_val)\n",
        "            print('Loss %d: Training loss = %.5f  Validation loss = %.5f\\t Validation Acc = %.5f' % (steps+1, train_loss[0], loss_[0], accuracy_val[0]))     \n",
        "          \n",
        "        return sess, images_pl, labels_pl, acc_val, logits"
      ],
      "execution_count": 0,
      "outputs": []
    },
    {
      "metadata": {
        "scrolled": false,
        "id": "PBg_gG-g0-VV",
        "colab_type": "code",
        "outputId": "92c956b1-6db8-4455-fed1-5562b9e3c3fb",
        "colab": {
          "base_uri": "https://localhost:8080/",
          "height": 544
        }
      },
      "cell_type": "code",
      "source": [
        "\n",
        "x = iris[0]\n",
        "y = iris[1]\n",
        "\n",
        "x = df.iloc[:, :30]\n",
        "y = df.iloc[:, -1:]\n",
        "\n",
        "\n",
        "x = scl.fit_transform(x)\n",
        "\n",
        "STARTER_LR = 45e-6\n",
        "BATCH_SIZE = 4\n",
        "MAX_STEPS = 15\n",
        "num_c = [512, 256, 128, 64, 32]\n",
        "\n",
        "loss_plot = []\n",
        "acc_plot = []\n",
        "train_plot = []\n",
        "sess, images_pl, labels_pl, eval_correct, logits = run_training(np.asarray(x, dtype = np.float32), np.asarray(y, dtype = np.float32), \n",
        "                      \n",
        "                                                                input_shape=x.shape[1], output_shape=1)"
      ],
      "execution_count": 22,
      "outputs": [
        {
          "output_type": "stream",
          "text": [
            "Logits Calculated Successfully\n"
          ],
          "name": "stdout"
        },
        {
          "output_type": "stream",
          "text": [
            "100%|██████████| 158/158 [00:00<00:00, 353.71it/s]\n",
            " 29%|██▉       | 46/158 [00:00<00:00, 459.93it/s]"
          ],
          "name": "stderr"
        },
        {
          "output_type": "stream",
          "text": [
            "Loss 1: Training loss = 0.36510  Validation loss = 0.32306\t Validation Acc = 0.88889\n"
          ],
          "name": "stdout"
        },
        {
          "output_type": "stream",
          "text": [
            "100%|██████████| 158/158 [00:00<00:00, 425.25it/s]\n",
            " 31%|███       | 49/158 [00:00<00:00, 483.46it/s]"
          ],
          "name": "stderr"
        },
        {
          "output_type": "stream",
          "text": [
            "Loss 2: Training loss = 0.25776  Validation loss = 0.22426\t Validation Acc = 0.92593\n"
          ],
          "name": "stdout"
        },
        {
          "output_type": "stream",
          "text": [
            "100%|██████████| 158/158 [00:00<00:00, 449.74it/s]\n",
            " 32%|███▏      | 50/158 [00:00<00:00, 491.62it/s]"
          ],
          "name": "stderr"
        },
        {
          "output_type": "stream",
          "text": [
            "Loss 3: Training loss = 0.21512  Validation loss = 0.19265\t Validation Acc = 0.92222\n"
          ],
          "name": "stdout"
        },
        {
          "output_type": "stream",
          "text": [
            "100%|██████████| 158/158 [00:00<00:00, 454.12it/s]\n",
            " 30%|███       | 48/158 [00:00<00:00, 473.81it/s]"
          ],
          "name": "stderr"
        },
        {
          "output_type": "stream",
          "text": [
            "Loss 4: Training loss = 0.19052  Validation loss = 0.17522\t Validation Acc = 0.92963\n"
          ],
          "name": "stdout"
        },
        {
          "output_type": "stream",
          "text": [
            "100%|██████████| 158/158 [00:00<00:00, 441.41it/s]\n",
            " 32%|███▏      | 50/158 [00:00<00:00, 497.81it/s]"
          ],
          "name": "stderr"
        },
        {
          "output_type": "stream",
          "text": [
            "Loss 5: Training loss = 0.17223  Validation loss = 0.16523\t Validation Acc = 0.93333\n"
          ],
          "name": "stdout"
        },
        {
          "output_type": "stream",
          "text": [
            "100%|██████████| 158/158 [00:00<00:00, 458.59it/s]\n",
            " 32%|███▏      | 50/158 [00:00<00:00, 494.30it/s]"
          ],
          "name": "stderr"
        },
        {
          "output_type": "stream",
          "text": [
            "Loss 6: Training loss = 0.15911  Validation loss = 0.15731\t Validation Acc = 0.93333\n"
          ],
          "name": "stdout"
        },
        {
          "output_type": "stream",
          "text": [
            "100%|██████████| 158/158 [00:00<00:00, 449.68it/s]\n",
            " 32%|███▏      | 50/158 [00:00<00:00, 497.06it/s]"
          ],
          "name": "stderr"
        },
        {
          "output_type": "stream",
          "text": [
            "Loss 7: Training loss = 0.15005  Validation loss = 0.15270\t Validation Acc = 0.93704\n"
          ],
          "name": "stdout"
        },
        {
          "output_type": "stream",
          "text": [
            "100%|██████████| 158/158 [00:00<00:00, 438.77it/s]\n",
            " 29%|██▉       | 46/158 [00:00<00:00, 456.18it/s]"
          ],
          "name": "stderr"
        },
        {
          "output_type": "stream",
          "text": [
            "Loss 8: Training loss = 0.14398  Validation loss = 0.15008\t Validation Acc = 0.94074\n"
          ],
          "name": "stdout"
        },
        {
          "output_type": "stream",
          "text": [
            "100%|██████████| 158/158 [00:00<00:00, 450.53it/s]\n",
            " 30%|██▉       | 47/158 [00:00<00:00, 466.03it/s]"
          ],
          "name": "stderr"
        },
        {
          "output_type": "stream",
          "text": [
            "Loss 9: Training loss = 0.13824  Validation loss = 0.14804\t Validation Acc = 0.94444\n"
          ],
          "name": "stdout"
        },
        {
          "output_type": "stream",
          "text": [
            "100%|██████████| 158/158 [00:00<00:00, 452.14it/s]\n",
            " 32%|███▏      | 50/158 [00:00<00:00, 491.71it/s]"
          ],
          "name": "stderr"
        },
        {
          "output_type": "stream",
          "text": [
            "Loss 10: Training loss = 0.13505  Validation loss = 0.14611\t Validation Acc = 0.94815\n"
          ],
          "name": "stdout"
        },
        {
          "output_type": "stream",
          "text": [
            "100%|██████████| 158/158 [00:00<00:00, 465.24it/s]\n",
            " 32%|███▏      | 50/158 [00:00<00:00, 497.13it/s]"
          ],
          "name": "stderr"
        },
        {
          "output_type": "stream",
          "text": [
            "Loss 11: Training loss = 0.13280  Validation loss = 0.14522\t Validation Acc = 0.94815\n"
          ],
          "name": "stdout"
        },
        {
          "output_type": "stream",
          "text": [
            "100%|██████████| 158/158 [00:00<00:00, 458.14it/s]\n",
            " 31%|███       | 49/158 [00:00<00:00, 482.50it/s]"
          ],
          "name": "stderr"
        },
        {
          "output_type": "stream",
          "text": [
            "Loss 12: Training loss = 0.13008  Validation loss = 0.14540\t Validation Acc = 0.94815\n"
          ],
          "name": "stdout"
        },
        {
          "output_type": "stream",
          "text": [
            "100%|██████████| 158/158 [00:00<00:00, 468.15it/s]\n",
            " 30%|██▉       | 47/158 [00:00<00:00, 461.62it/s]"
          ],
          "name": "stderr"
        },
        {
          "output_type": "stream",
          "text": [
            "Loss 13: Training loss = 0.12794  Validation loss = 0.14505\t Validation Acc = 0.94815\n"
          ],
          "name": "stdout"
        },
        {
          "output_type": "stream",
          "text": [
            "100%|██████████| 158/158 [00:00<00:00, 439.88it/s]\n",
            " 30%|██▉       | 47/158 [00:00<00:00, 468.67it/s]"
          ],
          "name": "stderr"
        },
        {
          "output_type": "stream",
          "text": [
            "Loss 14: Training loss = 0.12612  Validation loss = 0.14444\t Validation Acc = 0.94815\n"
          ],
          "name": "stdout"
        },
        {
          "output_type": "stream",
          "text": [
            "100%|██████████| 158/158 [00:00<00:00, 446.52it/s]"
          ],
          "name": "stderr"
        },
        {
          "output_type": "stream",
          "text": [
            "Loss 15: Training loss = 0.12451  Validation loss = 0.14459\t Validation Acc = 0.94815\n"
          ],
          "name": "stdout"
        },
        {
          "output_type": "stream",
          "text": [
            "\n"
          ],
          "name": "stderr"
        }
      ]
    },
    {
      "metadata": {
        "id": "qbl9eEQrZauX",
        "colab_type": "code",
        "outputId": "4563f2b2-effb-40b0-b631-6840585048e7",
        "colab": {
          "base_uri": "https://localhost:8080/",
          "height": 364
        }
      },
      "cell_type": "code",
      "source": [
        "sns.set_style(\"darkgrid\")\n",
        "plt.plot(acc_plot,'g-',label=\"Validation Acc\")\n",
        "plt.plot(loss_plot, 'b-', label=\"Validation Loss\")\n",
        "plt.plot(train_plot, \"r--\", label='Training Loss')\n",
        "plt.legend(loc='best')"
      ],
      "execution_count": 23,
      "outputs": [
        {
          "output_type": "execute_result",
          "data": {
            "text/plain": [
              "<matplotlib.legend.Legend at 0x7fee446ab668>"
            ]
          },
          "metadata": {
            "tags": []
          },
          "execution_count": 23
        },
        {
          "output_type": "display_data",
          "data": {
            "image/png": "[encoded data removed]",
            "text/plain": [
              "<matplotlib.figure.Figure at 0x7fee43816b38>"
            ]
          },
          "metadata": {
            "tags": []
          }
        }
      ]
    },
    {
      "metadata": {
        "id": "bPsgRXIYABWN",
        "colab_type": "code",
        "outputId": "728d6ecc-1106-45aa-f4c2-c232e339e9f5",
        "colab": {
          "base_uri": "https://localhost:8080/",
          "height": 231
        }
      },
      "cell_type": "code",
      "source": [
        "images_feed, labels_feed = MNIST_DATASETS.validation.images, MNIST_DATASETS.validation.labels\n",
        "\n",
        "feed_dict = {\n",
        "    images_pl: np.reshape(images_feed, (-1, 28, 28, 1))\n",
        "            }\n",
        "with sess.as_default():\n",
        "  accuracy  = sess.run([logits], feed_dict = feed_dict)\n",
        "  \n",
        "  preds = np.argmax(accuracy[0], 1)\n",
        "  print(preds)"
      ],
      "execution_count": 13,
      "outputs": [
        {
          "output_type": "error",
          "ename": "NameError",
          "evalue": "ignored",
          "traceback": [
            "\u001b[0;31m---------------------------------------------------------------------------\u001b[0m",
            "\u001b[0;31mNameError\u001b[0m                                 Traceback (most recent call last)",
            "\u001b[0;32m<ipython-input-13-d24bda0b91e0>\u001b[0m in \u001b[0;36m<module>\u001b[0;34m()\u001b[0m\n\u001b[0;32m----> 1\u001b[0;31m \u001b[0mimages_feed\u001b[0m\u001b[0;34m,\u001b[0m \u001b[0mlabels_feed\u001b[0m \u001b[0;34m=\u001b[0m \u001b[0mMNIST_DATASETS\u001b[0m\u001b[0;34m.\u001b[0m\u001b[0mvalidation\u001b[0m\u001b[0;34m.\u001b[0m\u001b[0mimages\u001b[0m\u001b[0;34m,\u001b[0m \u001b[0mMNIST_DATASETS\u001b[0m\u001b[0;34m.\u001b[0m\u001b[0mvalidation\u001b[0m\u001b[0;34m.\u001b[0m\u001b[0mlabels\u001b[0m\u001b[0;34m\u001b[0m\u001b[0m\n\u001b[0m\u001b[1;32m      2\u001b[0m \u001b[0;34m\u001b[0m\u001b[0m\n\u001b[1;32m      3\u001b[0m feed_dict = {\n\u001b[1;32m      4\u001b[0m     \u001b[0mimages_pl\u001b[0m\u001b[0;34m:\u001b[0m \u001b[0mnp\u001b[0m\u001b[0;34m.\u001b[0m\u001b[0mreshape\u001b[0m\u001b[0;34m(\u001b[0m\u001b[0mimages_feed\u001b[0m\u001b[0;34m,\u001b[0m \u001b[0;34m(\u001b[0m\u001b[0;34m-\u001b[0m\u001b[0;36m1\u001b[0m\u001b[0;34m,\u001b[0m \u001b[0;36m28\u001b[0m\u001b[0;34m,\u001b[0m \u001b[0;36m28\u001b[0m\u001b[0;34m,\u001b[0m \u001b[0;36m1\u001b[0m\u001b[0;34m)\u001b[0m\u001b[0;34m)\u001b[0m\u001b[0;34m\u001b[0m\u001b[0m\n\u001b[1;32m      5\u001b[0m             }\n",
            "\u001b[0;31mNameError\u001b[0m: name 'MNIST_DATASETS' is not defined"
          ]
        }
      ]
    },
    {
      "metadata": {
        "id": "Zl6bKEbGa2Ay",
        "colab_type": "code",
        "outputId": "5109c4a6-bdc2-4621-8d5b-5a2b35ae5b8f",
        "colab": {
          "base_uri": "https://localhost:8080/",
          "height": 180
        }
      },
      "cell_type": "code",
      "source": [
        "from sklearn.metrics import classification_report\n",
        "print(classification_report(labels_feed, preds))"
      ],
      "execution_count": 0,
      "outputs": [
        {
          "output_type": "error",
          "ename": "NameError",
          "evalue": "ignored",
          "traceback": [
            "\u001b[0;31m---------------------------------------------------------------------------\u001b[0m",
            "\u001b[0;31mNameError\u001b[0m                                 Traceback (most recent call last)",
            "\u001b[0;32m<ipython-input-83-677a9944203a>\u001b[0m in \u001b[0;36m<module>\u001b[0;34m()\u001b[0m\n\u001b[1;32m      1\u001b[0m \u001b[0;32mfrom\u001b[0m \u001b[0msklearn\u001b[0m\u001b[0;34m.\u001b[0m\u001b[0mmetrics\u001b[0m \u001b[0;32mimport\u001b[0m \u001b[0mclassification_report\u001b[0m\u001b[0;34m\u001b[0m\u001b[0m\n\u001b[0;32m----> 2\u001b[0;31m \u001b[0mprint\u001b[0m\u001b[0;34m(\u001b[0m\u001b[0mclassification_report\u001b[0m\u001b[0;34m(\u001b[0m\u001b[0mlabels_feed\u001b[0m\u001b[0;34m,\u001b[0m \u001b[0mpreds\u001b[0m\u001b[0;34m)\u001b[0m\u001b[0;34m)\u001b[0m\u001b[0;34m\u001b[0m\u001b[0m\n\u001b[0m",
            "\u001b[0;31mNameError\u001b[0m: name 'labels_feed' is not defined"
          ]
        }
      ]
    },
    {
      "metadata": {
        "id": "c5xuDiGTi2Pv",
        "colab_type": "code",
        "outputId": "dd8f7495-7389-4fda-ece7-3f762849dc41",
        "colab": {
          "base_uri": "https://localhost:8080/",
          "height": 187
        }
      },
      "cell_type": "code",
      "source": [
        "from sklearn.metrics import confusion_matrix\n",
        "print(confusion_matrix(labels_feed, preds))"
      ],
      "execution_count": 0,
      "outputs": [
        {
          "output_type": "stream",
          "text": [
            "[[473   0   0   0   0   2   2   0   0   2]\n",
            " [  0 553   2   2   1   0   1   2   2   0]\n",
            " [  1  10 454   5   1   1   0   7   8   1]\n",
            " [  0   1   2 475   0   7   0   5   2   1]\n",
            " [  0   1   0   0 526   0   4   1   0   3]\n",
            " [  0   1   1   0   1 427   0   0   3   1]\n",
            " [  3   2   0   0   1   1 493   0   1   0]\n",
            " [  0   2   2   1   3   0   0 536   0   6]\n",
            " [  0   2   0   1   0   3   1   2 449   4]\n",
            " [  2   1   0   2   5   2   0   7   2 474]]\n"
          ],
          "name": "stdout"
        }
      ]
    },
    {
      "metadata": {
        "id": "6DmDZXWY0-VZ",
        "colab_type": "code",
        "colab": {}
      },
      "cell_type": "code",
      "source": [
        "# graph = tf.GraphDef()\n",
        "# graph.ParseFromString(tf_model.SerializeToString())\n",
        "\n",
        "# with tf.Graph().as_default() as graph:\n",
        "#         # The name var will prefix every op/nodes in your graph\n",
        "#         # Since we load everything in a new graph, this is not needed\n",
        "#     tf.import_graph_def(graph, name=\"prefix\")\n",
        "    \n",
        "    "
      ],
      "execution_count": 0,
      "outputs": []
    }
  ]
}